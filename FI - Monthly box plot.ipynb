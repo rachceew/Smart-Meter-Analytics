{
 "cells": [
  {
   "cell_type": "code",
   "execution_count": 15,
   "metadata": {},
   "outputs": [],
   "source": [
    "from __future__ import division\n",
    "from __future__ import print_function  \n",
    "import warnings\n",
    "import pandas as pd\n",
    "import gsp_support as gsp\n",
    "import matplotlib.pyplot as plt\n",
    "import numpy as np\n",
    "\n",
    "import datetime\n",
    "\n",
    "# importing libraries for the plot\n",
    "\n",
    "from pandas.plotting import register_matplotlib_converters\n",
    "register_matplotlib_converters()\n",
    "import seaborn as sns\n",
    "sns.set(font_scale=1.5, style=\"whitegrid\")\n",
    "\n",
    "from matplotlib.dates import DateFormatter\n",
    "import matplotlib.dates as mdates\n",
    "output_folder = 'FINAL/monthly_plots/'\n",
    "input_folder = 'FINAL/daily/'"
   ]
  },
  {
   "cell_type": "code",
   "execution_count": 8,
   "metadata": {},
   "outputs": [],
   "source": [
    "daily_logs = pd.read_csv(input_folder+'daily_logs1.csv')\n",
    "daily_logs.index = pd.to_datetime(daily_logs['Date'],format = '%Y-%m-%d')"
   ]
  },
  {
   "cell_type": "code",
   "execution_count": 20,
   "metadata": {},
   "outputs": [
    {
     "name": "stderr",
     "output_type": "stream",
     "text": [
      "C:\\ProgramData\\Anaconda3\\lib\\site-packages\\ipykernel_launcher.py:1: SettingWithCopyWarning: \n",
      "A value is trying to be set on a copy of a slice from a DataFrame.\n",
      "Try using .loc[row_indexer,col_indexer] = value instead\n",
      "\n",
      "See the caveats in the documentation: https://pandas.pydata.org/pandas-docs/stable/user_guide/indexing.html#returning-a-view-versus-a-copy\n",
      "  \"\"\"Entry point for launching an IPython kernel.\n"
     ]
    }
   ],
   "source": [
    "daily_logs['Date'] = pd.to_datetime(daily_logs['Date'],format = '%Y-%m-%d')"
   ]
  },
  {
   "cell_type": "code",
   "execution_count": 10,
   "metadata": {},
   "outputs": [],
   "source": [
    "# filter the days with less than 30 minutes of AC usage\n",
    "daily_logs = daily_logs.loc[daily_logs['ac_usage_hrs']>0.5]"
   ]
  },
  {
   "cell_type": "code",
   "execution_count": 17,
   "metadata": {},
   "outputs": [],
   "source": [
    "daily_logs.to_csv(input_folder+'daily_logs2_30min.csv')"
   ]
  },
  {
   "cell_type": "code",
   "execution_count": 2,
   "metadata": {},
   "outputs": [],
   "source": [
    "# functions for statistics\n",
    "\n",
    "def daily_ac_hrs(df):\n",
    "    num = df.loc[df['ac_on']==1].shape[0]\n",
    "    hrs = (num*3)/60\n",
    "    return hrs\n",
    "\n",
    "def daily_ac_avg_load(df):\n",
    "    num = df.loc[df['ac_on']==1]['ac_power'].mean()\n",
    "    return num\n",
    "\n",
    "def daily_avg_energy(df):\n",
    "    num = (df['power']/20000).sum()\n",
    "    return num\n",
    "\n",
    "def daily_avg_car(df):\n",
    "    n1 = df.loc[df['final_compressor']==1].shape[0]\n",
    "    n2 = df.loc[df['ac_on']==1].shape[0]\n",
    "    if n2>0:\n",
    "        num = (n1/n2)*100\n",
    "    else: \n",
    "        num = 0\n",
    "    \n",
    "    return num"
   ]
  },
  {
   "cell_type": "code",
   "execution_count": null,
   "metadata": {},
   "outputs": [],
   "source": [
    "def monthly_logs(df):\n",
    "    # a dataframe that tells me the number of days for each meters for each for which data is available\n",
    "    df['m-y'] = df['Date'].dt.to_period('M')\n",
    "    df.groupby('Meter')\n"
   ]
  },
  {
   "cell_type": "code",
   "execution_count": 23,
   "metadata": {},
   "outputs": [
    {
     "name": "stderr",
     "output_type": "stream",
     "text": [
      "C:\\ProgramData\\Anaconda3\\lib\\site-packages\\ipykernel_launcher.py:1: SettingWithCopyWarning: \n",
      "A value is trying to be set on a copy of a slice from a DataFrame.\n",
      "Try using .loc[row_indexer,col_indexer] = value instead\n",
      "\n",
      "See the caveats in the documentation: https://pandas.pydata.org/pandas-docs/stable/user_guide/indexing.html#returning-a-view-versus-a-copy\n",
      "  \"\"\"Entry point for launching an IPython kernel.\n"
     ]
    }
   ],
   "source": [
    "daily_logs['m-y'] = daily_logs['Date'].dt.to_period('M')"
   ]
  },
  {
   "cell_type": "code",
   "execution_count": 28,
   "metadata": {},
   "outputs": [],
   "source": [
    "monthly = daily_logs.groupby(['Meter','m-y']).mean()"
   ]
  },
  {
   "cell_type": "code",
   "execution_count": 30,
   "metadata": {},
   "outputs": [],
   "source": [
    "monthly.to_csv(output_folder+'monthly_logs_from-daily.csv')"
   ]
  },
  {
   "cell_type": "code",
   "execution_count": 43,
   "metadata": {},
   "outputs": [],
   "source": [
    "monthly = pd.read_csv(output_folder+'monthly_logs_from-daily.csv')"
   ]
  },
  {
   "cell_type": "code",
   "execution_count": 1,
   "metadata": {},
   "outputs": [
    {
     "ename": "NameError",
     "evalue": "name 'monthly' is not defined",
     "output_type": "error",
     "traceback": [
      "\u001b[1;31m---------------------------------------------------------------------------\u001b[0m",
      "\u001b[1;31mNameError\u001b[0m                                 Traceback (most recent call last)",
      "\u001b[1;32m<ipython-input-1-81b42e810c23>\u001b[0m in \u001b[0;36m<module>\u001b[1;34m\u001b[0m\n\u001b[0;32m      1\u001b[0m \u001b[1;31m#plot the box plots\u001b[0m\u001b[1;33m\u001b[0m\u001b[1;33m\u001b[0m\u001b[1;33m\u001b[0m\u001b[0m\n\u001b[0;32m      2\u001b[0m \u001b[1;33m\u001b[0m\u001b[0m\n\u001b[1;32m----> 3\u001b[1;33m \u001b[0mfig\u001b[0m \u001b[1;33m=\u001b[0m \u001b[0mmonthly\u001b[0m\u001b[1;33m.\u001b[0m\u001b[0mloc\u001b[0m\u001b[1;33m[\u001b[0m\u001b[0mmonthly\u001b[0m\u001b[1;33m[\u001b[0m\u001b[1;34m'Meter'\u001b[0m\u001b[1;33m]\u001b[0m\u001b[1;33m.\u001b[0m\u001b[0mstr\u001b[0m\u001b[1;33m.\u001b[0m\u001b[0mcontains\u001b[0m\u001b[1;33m(\u001b[0m\u001b[1;34m\"MH\"\u001b[0m\u001b[1;33m)\u001b[0m\u001b[1;33m]\u001b[0m\u001b[1;33m.\u001b[0m\u001b[0mboxplot\u001b[0m\u001b[1;33m(\u001b[0m\u001b[0mcolumn\u001b[0m\u001b[1;33m=\u001b[0m\u001b[1;34m'd_avg_ac_hrs'\u001b[0m\u001b[1;33m,\u001b[0m\u001b[0mby\u001b[0m\u001b[1;33m=\u001b[0m\u001b[1;34m'm-y'\u001b[0m\u001b[1;33m,\u001b[0m\u001b[0mfigsize\u001b[0m\u001b[1;33m=\u001b[0m\u001b[1;33m(\u001b[0m\u001b[1;36m15\u001b[0m\u001b[1;33m,\u001b[0m \u001b[1;36m10\u001b[0m\u001b[1;33m)\u001b[0m\u001b[1;33m,\u001b[0m\u001b[0mrot\u001b[0m\u001b[1;33m=\u001b[0m\u001b[1;36m90\u001b[0m\u001b[1;33m,\u001b[0m\u001b[0mpalette\u001b[0m\u001b[1;33m=\u001b[0m\u001b[1;34m\"Paired\"\u001b[0m\u001b[1;33m)\u001b[0m\u001b[1;33m\u001b[0m\u001b[1;33m\u001b[0m\u001b[0m\n\u001b[0m",
      "\u001b[1;31mNameError\u001b[0m: name 'monthly' is not defined"
     ]
    }
   ],
   "source": [
    "#plot the box plots\n",
    "\n",
    "fig = monthly.loc[monthly['Meter'].str.contains(\"MH\")].boxplot(column='d_avg_ac_hrs',by='m-y',figsize=(15, 10),rot=90,palette=\"Paired\")"
   ]
  },
  {
   "cell_type": "code",
   "execution_count": 42,
   "metadata": {},
   "outputs": [],
   "source": [
    "fig.figure.savefig(output_folder+' MH monthly box plot with 30 min removed.jpg')"
   ]
  },
  {
   "cell_type": "code",
   "execution_count": 44,
   "metadata": {},
   "outputs": [
    {
     "data": {
      "text/html": [
       "<div>\n",
       "<style scoped>\n",
       "    .dataframe tbody tr th:only-of-type {\n",
       "        vertical-align: middle;\n",
       "    }\n",
       "\n",
       "    .dataframe tbody tr th {\n",
       "        vertical-align: top;\n",
       "    }\n",
       "\n",
       "    .dataframe thead th {\n",
       "        text-align: right;\n",
       "    }\n",
       "</style>\n",
       "<table border=\"1\" class=\"dataframe\">\n",
       "  <thead>\n",
       "    <tr style=\"text-align: right;\">\n",
       "      <th></th>\n",
       "      <th>Meter</th>\n",
       "      <th>m-y</th>\n",
       "      <th>d_avg_ac_hrs</th>\n",
       "      <th>Avg CAR</th>\n",
       "      <th>Avg voltage when compressor on</th>\n",
       "    </tr>\n",
       "  </thead>\n",
       "  <tbody>\n",
       "    <tr>\n",
       "      <th>0</th>\n",
       "      <td>BR06</td>\n",
       "      <td>2019-07</td>\n",
       "      <td>2.061111</td>\n",
       "      <td>85.401872</td>\n",
       "      <td>246.032045</td>\n",
       "    </tr>\n",
       "    <tr>\n",
       "      <th>1</th>\n",
       "      <td>BR06</td>\n",
       "      <td>2019-08</td>\n",
       "      <td>3.857143</td>\n",
       "      <td>84.586881</td>\n",
       "      <td>241.157802</td>\n",
       "    </tr>\n",
       "    <tr>\n",
       "      <th>2</th>\n",
       "      <td>BR06</td>\n",
       "      <td>2019-09</td>\n",
       "      <td>3.151923</td>\n",
       "      <td>81.908737</td>\n",
       "      <td>244.900396</td>\n",
       "    </tr>\n",
       "    <tr>\n",
       "      <th>3</th>\n",
       "      <td>BR06</td>\n",
       "      <td>2019-10</td>\n",
       "      <td>3.000000</td>\n",
       "      <td>86.411840</td>\n",
       "      <td>252.744425</td>\n",
       "    </tr>\n",
       "    <tr>\n",
       "      <th>4</th>\n",
       "      <td>BR06</td>\n",
       "      <td>2019-11</td>\n",
       "      <td>2.575000</td>\n",
       "      <td>79.082332</td>\n",
       "      <td>256.164578</td>\n",
       "    </tr>\n",
       "    <tr>\n",
       "      <th>...</th>\n",
       "      <td>...</td>\n",
       "      <td>...</td>\n",
       "      <td>...</td>\n",
       "      <td>...</td>\n",
       "      <td>...</td>\n",
       "    </tr>\n",
       "    <tr>\n",
       "      <th>355</th>\n",
       "      <td>MH45</td>\n",
       "      <td>2020-07</td>\n",
       "      <td>9.148276</td>\n",
       "      <td>79.215898</td>\n",
       "      <td>219.184862</td>\n",
       "    </tr>\n",
       "    <tr>\n",
       "      <th>356</th>\n",
       "      <td>MH45</td>\n",
       "      <td>2020-08</td>\n",
       "      <td>6.978261</td>\n",
       "      <td>83.524748</td>\n",
       "      <td>226.452404</td>\n",
       "    </tr>\n",
       "    <tr>\n",
       "      <th>357</th>\n",
       "      <td>MH45</td>\n",
       "      <td>2020-09</td>\n",
       "      <td>7.966000</td>\n",
       "      <td>88.617514</td>\n",
       "      <td>218.991836</td>\n",
       "    </tr>\n",
       "    <tr>\n",
       "      <th>358</th>\n",
       "      <td>MH45</td>\n",
       "      <td>2020-10</td>\n",
       "      <td>5.354545</td>\n",
       "      <td>82.520145</td>\n",
       "      <td>238.081834</td>\n",
       "    </tr>\n",
       "    <tr>\n",
       "      <th>359</th>\n",
       "      <td>MH45</td>\n",
       "      <td>2020-11</td>\n",
       "      <td>1.125000</td>\n",
       "      <td>91.368631</td>\n",
       "      <td>244.546879</td>\n",
       "    </tr>\n",
       "  </tbody>\n",
       "</table>\n",
       "<p>360 rows × 5 columns</p>\n",
       "</div>"
      ],
      "text/plain": [
       "    Meter      m-y  d_avg_ac_hrs    Avg CAR  Avg voltage when compressor on\n",
       "0    BR06  2019-07      2.061111  85.401872                      246.032045\n",
       "1    BR06  2019-08      3.857143  84.586881                      241.157802\n",
       "2    BR06  2019-09      3.151923  81.908737                      244.900396\n",
       "3    BR06  2019-10      3.000000  86.411840                      252.744425\n",
       "4    BR06  2019-11      2.575000  79.082332                      256.164578\n",
       "..    ...      ...           ...        ...                             ...\n",
       "355  MH45  2020-07      9.148276  79.215898                      219.184862\n",
       "356  MH45  2020-08      6.978261  83.524748                      226.452404\n",
       "357  MH45  2020-09      7.966000  88.617514                      218.991836\n",
       "358  MH45  2020-10      5.354545  82.520145                      238.081834\n",
       "359  MH45  2020-11      1.125000  91.368631                      244.546879\n",
       "\n",
       "[360 rows x 5 columns]"
      ]
     },
     "execution_count": 44,
     "metadata": {},
     "output_type": "execute_result"
    }
   ],
   "source": [
    "monthly"
   ]
  },
  {
   "cell_type": "code",
   "execution_count": null,
   "metadata": {},
   "outputs": [],
   "source": []
  }
 ],
 "metadata": {
  "kernelspec": {
   "display_name": "Python 3",
   "language": "python",
   "name": "python3"
  },
  "language_info": {
   "codemirror_mode": {
    "name": "ipython",
    "version": 3
   },
   "file_extension": ".py",
   "mimetype": "text/x-python",
   "name": "python",
   "nbconvert_exporter": "python",
   "pygments_lexer": "ipython3",
   "version": "3.7.6"
  }
 },
 "nbformat": 4,
 "nbformat_minor": 4
}
