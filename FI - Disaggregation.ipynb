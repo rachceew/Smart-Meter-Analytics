{
 "cells": [
  {
   "cell_type": "code",
   "execution_count": 3,
   "metadata": {},
   "outputs": [],
   "source": [
    "from __future__ import division\n",
    "from __future__ import print_function  \n",
    "import warnings\n",
    "import pandas as pd\n",
    "import gsp_support as gsp\n",
    "import matplotlib.pyplot as plt\n",
    "import numpy as np\n",
    "pd.options.plotting.backend = \"plotly\"\n",
    "import datetime"
   ]
  },
  {
   "cell_type": "code",
   "execution_count": 3,
   "metadata": {},
   "outputs": [],
   "source": [
    "###########################################################################################################################"
   ]
  },
  {
   "cell_type": "code",
   "execution_count": 4,
   "metadata": {},
   "outputs": [
    {
     "name": "stdout",
     "output_type": "stream",
     "text": [
      "Number of AC households 31\n"
     ]
    }
   ],
   "source": [
    "# read inputs\n",
    "\n",
    "full = pd.read_csv('D:/CEEW/Smart Meter Analysis/Data Acquisition and Preprocessing/Cleaned data 02Mar21_corrected.csv')\n",
    "survey = pd.read_csv('FINAL- Appliance stock survey and metadata 20Nov19.xlsx - FINAL- Appliance stock survey a.csv')\n",
    "\n",
    "# knowing the ac households\n",
    "ac_list = list(survey.loc[survey['q_409_ac_yn']==1]['home_no'])\n",
    "\n",
    "# Remove the meters with scarce data\n",
    "ac_list = list(set(ac_list) - set(['BR17','BR20','BR42']))\n",
    "\n",
    "print('Number of AC households',len(ac_list))"
   ]
  },
  {
   "cell_type": "code",
   "execution_count": null,
   "metadata": {},
   "outputs": [],
   "source": [
    "################### ROUGH"
   ]
  },
  {
   "cell_type": "code",
   "execution_count": 4,
   "metadata": {},
   "outputs": [],
   "source": [
    "full = pd.read_csv('D:/CEEW/Smart Meter Analysis/GSP_energy_disaggregator/FINAL/Disaggregation/stage2_filter/3 min disaggregated result FINAL with removed meters.csv')"
   ]
  },
  {
   "cell_type": "code",
   "execution_count": 5,
   "metadata": {},
   "outputs": [],
   "source": [
    "full.drop(['compressor','voltage','m-y','gsp'],axis=1,inplace=True)"
   ]
  },
  {
   "cell_type": "code",
   "execution_count": 6,
   "metadata": {},
   "outputs": [],
   "source": [
    "full.set_index(pd.to_datetime(full['x_Timestamp']),inplace=True)"
   ]
  },
  {
   "cell_type": "code",
   "execution_count": 7,
   "metadata": {},
   "outputs": [],
   "source": [
    "start_date = '2019-08-01' # from may\n",
    "end_date = '2019-08-31'  # till september\n",
    "mask = (full.index >= start_date) & (full.index < end_date)\n",
    "df = full.loc[mask] "
   ]
  },
  {
   "cell_type": "code",
   "execution_count": 8,
   "metadata": {},
   "outputs": [],
   "source": [
    "df = df.loc[df['meter'].isin(['MH07','MH10','MH14','MH21','BR08','BR23','BR38'])]"
   ]
  },
  {
   "cell_type": "code",
   "execution_count": 9,
   "metadata": {},
   "outputs": [],
   "source": [
    "df.drop(['x_Timestamp'],axis=1,inplace=True)"
   ]
  },
  {
   "cell_type": "code",
   "execution_count": 10,
   "metadata": {},
   "outputs": [
    {
     "data": {
      "text/html": [
       "<div>\n",
       "<style scoped>\n",
       "    .dataframe tbody tr th:only-of-type {\n",
       "        vertical-align: middle;\n",
       "    }\n",
       "\n",
       "    .dataframe tbody tr th {\n",
       "        vertical-align: top;\n",
       "    }\n",
       "\n",
       "    .dataframe thead th {\n",
       "        text-align: right;\n",
       "    }\n",
       "</style>\n",
       "<table border=\"1\" class=\"dataframe\">\n",
       "  <thead>\n",
       "    <tr style=\"text-align: right;\">\n",
       "      <th></th>\n",
       "      <th>power</th>\n",
       "      <th>current</th>\n",
       "      <th>final_compressor</th>\n",
       "      <th>ac_power</th>\n",
       "      <th>ac_on</th>\n",
       "      <th>meter</th>\n",
       "    </tr>\n",
       "    <tr>\n",
       "      <th>x_Timestamp</th>\n",
       "      <th></th>\n",
       "      <th></th>\n",
       "      <th></th>\n",
       "      <th></th>\n",
       "      <th></th>\n",
       "      <th></th>\n",
       "    </tr>\n",
       "  </thead>\n",
       "  <tbody>\n",
       "    <tr>\n",
       "      <th>2019-08-01 00:00:00</th>\n",
       "      <td>1680.0</td>\n",
       "      <td>9.67</td>\n",
       "      <td>1</td>\n",
       "      <td>1392.259743</td>\n",
       "      <td>1</td>\n",
       "      <td>MH07</td>\n",
       "    </tr>\n",
       "    <tr>\n",
       "      <th>2019-08-01 00:03:00</th>\n",
       "      <td>1780.0</td>\n",
       "      <td>10.17</td>\n",
       "      <td>1</td>\n",
       "      <td>1392.259743</td>\n",
       "      <td>1</td>\n",
       "      <td>MH07</td>\n",
       "    </tr>\n",
       "    <tr>\n",
       "      <th>2019-08-01 00:06:00</th>\n",
       "      <td>1800.0</td>\n",
       "      <td>10.12</td>\n",
       "      <td>1</td>\n",
       "      <td>1392.259743</td>\n",
       "      <td>1</td>\n",
       "      <td>MH07</td>\n",
       "    </tr>\n",
       "    <tr>\n",
       "      <th>2019-08-01 00:09:00</th>\n",
       "      <td>1760.0</td>\n",
       "      <td>10.11</td>\n",
       "      <td>1</td>\n",
       "      <td>1392.259743</td>\n",
       "      <td>1</td>\n",
       "      <td>MH07</td>\n",
       "    </tr>\n",
       "    <tr>\n",
       "      <th>2019-08-01 00:12:00</th>\n",
       "      <td>1760.0</td>\n",
       "      <td>10.13</td>\n",
       "      <td>1</td>\n",
       "      <td>1392.259743</td>\n",
       "      <td>1</td>\n",
       "      <td>MH07</td>\n",
       "    </tr>\n",
       "    <tr>\n",
       "      <th>...</th>\n",
       "      <td>...</td>\n",
       "      <td>...</td>\n",
       "      <td>...</td>\n",
       "      <td>...</td>\n",
       "      <td>...</td>\n",
       "      <td>...</td>\n",
       "    </tr>\n",
       "    <tr>\n",
       "      <th>2019-08-30 23:45:00</th>\n",
       "      <td>200.0</td>\n",
       "      <td>1.20</td>\n",
       "      <td>0</td>\n",
       "      <td>880.590938</td>\n",
       "      <td>1</td>\n",
       "      <td>MH21</td>\n",
       "    </tr>\n",
       "    <tr>\n",
       "      <th>2019-08-30 23:48:00</th>\n",
       "      <td>1080.0</td>\n",
       "      <td>4.89</td>\n",
       "      <td>0</td>\n",
       "      <td>880.590938</td>\n",
       "      <td>1</td>\n",
       "      <td>MH21</td>\n",
       "    </tr>\n",
       "    <tr>\n",
       "      <th>2019-08-30 23:51:00</th>\n",
       "      <td>1520.0</td>\n",
       "      <td>6.60</td>\n",
       "      <td>0</td>\n",
       "      <td>880.590938</td>\n",
       "      <td>1</td>\n",
       "      <td>MH21</td>\n",
       "    </tr>\n",
       "    <tr>\n",
       "      <th>2019-08-30 23:54:00</th>\n",
       "      <td>980.0</td>\n",
       "      <td>4.26</td>\n",
       "      <td>0</td>\n",
       "      <td>880.590938</td>\n",
       "      <td>1</td>\n",
       "      <td>MH21</td>\n",
       "    </tr>\n",
       "    <tr>\n",
       "      <th>2019-08-30 23:57:00</th>\n",
       "      <td>300.0</td>\n",
       "      <td>1.74</td>\n",
       "      <td>1</td>\n",
       "      <td>880.590938</td>\n",
       "      <td>1</td>\n",
       "      <td>MH21</td>\n",
       "    </tr>\n",
       "  </tbody>\n",
       "</table>\n",
       "<p>82560 rows × 6 columns</p>\n",
       "</div>"
      ],
      "text/plain": [
       "                      power  current  final_compressor     ac_power  ac_on  \\\n",
       "x_Timestamp                                                                  \n",
       "2019-08-01 00:00:00  1680.0     9.67                 1  1392.259743      1   \n",
       "2019-08-01 00:03:00  1780.0    10.17                 1  1392.259743      1   \n",
       "2019-08-01 00:06:00  1800.0    10.12                 1  1392.259743      1   \n",
       "2019-08-01 00:09:00  1760.0    10.11                 1  1392.259743      1   \n",
       "2019-08-01 00:12:00  1760.0    10.13                 1  1392.259743      1   \n",
       "...                     ...      ...               ...          ...    ...   \n",
       "2019-08-30 23:45:00   200.0     1.20                 0   880.590938      1   \n",
       "2019-08-30 23:48:00  1080.0     4.89                 0   880.590938      1   \n",
       "2019-08-30 23:51:00  1520.0     6.60                 0   880.590938      1   \n",
       "2019-08-30 23:54:00   980.0     4.26                 0   880.590938      1   \n",
       "2019-08-30 23:57:00   300.0     1.74                 1   880.590938      1   \n",
       "\n",
       "                    meter  \n",
       "x_Timestamp                \n",
       "2019-08-01 00:00:00  MH07  \n",
       "2019-08-01 00:03:00  MH07  \n",
       "2019-08-01 00:06:00  MH07  \n",
       "2019-08-01 00:09:00  MH07  \n",
       "2019-08-01 00:12:00  MH07  \n",
       "...                   ...  \n",
       "2019-08-30 23:45:00  MH21  \n",
       "2019-08-30 23:48:00  MH21  \n",
       "2019-08-30 23:51:00  MH21  \n",
       "2019-08-30 23:54:00  MH21  \n",
       "2019-08-30 23:57:00  MH21  \n",
       "\n",
       "[82560 rows x 6 columns]"
      ]
     },
     "execution_count": 10,
     "metadata": {},
     "output_type": "execute_result"
    }
   ],
   "source": [
    "df.rename_"
   ]
  },
  {
   "cell_type": "code",
   "execution_count": 11,
   "metadata": {},
   "outputs": [],
   "source": [
    "df.to_csv('D:/CEEW/Smart Meter Analysis/GSP_energy_disaggregator/Sujitha/CEEW - Disaggregated AC data 22Sept21.csv')"
   ]
  },
  {
   "cell_type": "code",
   "execution_count": null,
   "metadata": {},
   "outputs": [],
   "source": []
  },
  {
   "cell_type": "code",
   "execution_count": null,
   "metadata": {},
   "outputs": [],
   "source": [
    "###########################################################################################################################"
   ]
  },
  {
   "cell_type": "code",
   "execution_count": null,
   "metadata": {},
   "outputs": [],
   "source": [
    "def preprocess(meter):\n",
    "    df = full.loc[full['meter']==meter]\n",
    "    df.index = pd.to_datetime(df['x_Timestamp'])\n",
    "    start_date = '2019-05-01' # from may\n",
    "    end_date = '2019-11-31'  # till september\n",
    "    mask = (df.index >= start_date) & (df.index < end_date)\n",
    "    df1 = df.loc[mask] \n",
    "    e1 = df1[['t_kWh']]\n",
    "    e1 = e1*20000\n",
    "    df1 = df1[['z_Avg Current (Amp)']]\n",
    "    start_date = '2020-03-01' # from may\n",
    "    end_date = '2020-11-31'  # till september\n",
    "    mask = (df.index >= start_date) & (df.index < end_date)\n",
    "    df2 = df.loc[mask] \n",
    "    e2 = df2[['t_kWh']]\n",
    "    e2 = e2*20000\n",
    "    df2 = df2[['z_Avg Current (Amp)']]\n",
    "#     \n",
    "    return df1,e1,df2,e2"
   ]
  },
  {
   "cell_type": "code",
   "execution_count": null,
   "metadata": {},
   "outputs": [],
   "source": [
    "##########################################################################################################################"
   ]
  },
  {
   "cell_type": "code",
   "execution_count": null,
   "metadata": {},
   "outputs": [],
   "source": [
    "# GSP\n",
    "\n",
    "def gsp_(thresh_list, df,meter):\n",
    "    sigma = thresh_list[0] #20\n",
    "    ri = thresh_list[1] #0.15\n",
    "    T_Positive = thresh_list[2];\n",
    "    T_Negative = thresh_list[3];\n",
    "    #Following parameters alpha and beta are used in Equation 15 of the paper \n",
    "    # alpha define weight given to magnitude and beta define weight given to time\n",
    "    alpha = thresh_list[4]\n",
    "    beta  = thresh_list[5]\n",
    "    win = thresh_list[6]\n",
    "    # this defines the  minimum number of times an appliance is set ON in considered time duration\n",
    "    instancelimit = 3\n",
    "\n",
    "    main_val = df.values # get only readings\n",
    "    main_ind = df.index  # get only timestamp\n",
    "    data_vec =  main_val\n",
    "    # signature_database = \"signature_database_labelled.csv\" #the signatures were extracted of power analysis from April 28th to 30th\n",
    "    threshold = 2000 # threshold of DTW algorithm used for appliance power signature matching\n",
    "\n",
    "    delta_p = [np.round(data_vec[i+1] - data_vec[i], 2) for i in range(0, len(data_vec) - 1)]\n",
    "\n",
    "    event =  [i for i in range(0, len(delta_p)) if (delta_p[i] > T_Positive or delta_p[i] < T_Negative) ]\n",
    "\n",
    "    # # initial and refined clustering block of Figure 1 in the paper\n",
    "    clusters = gsp.refined_clustering_block(event, delta_p, sigma, ri)  #takes time\n",
    "\n",
    "    # # Feature matching block of Figure 1 in the paper\n",
    "    finalclusters, pairs = gsp.pair_clusters_appliance_wise(clusters, data_vec, delta_p, instancelimit)\n",
    "    appliance_pairs = gsp.feature_matching_module(pairs, delta_p, finalclusters, alpha, beta)\n",
    "\n",
    "    # # create appliance wise disaggregated series\n",
    "    power_series, appliance_signatures = gsp.generate_appliance_powerseries(appliance_pairs, delta_p)\n",
    "    power_timeseries = gsp.create_appliance_timeseries(power_series, main_ind)\n",
    "    gsp_result = pd.concat(power_timeseries, axis = 1)\n",
    "    \n",
    "    return gsp_result"
   ]
  },
  {
   "cell_type": "code",
   "execution_count": null,
   "metadata": {},
   "outputs": [],
   "source": [
    "####################################################################################################################################"
   ]
  },
  {
   "cell_type": "code",
   "execution_count": null,
   "metadata": {},
   "outputs": [],
   "source": [
    "#file handling folder names"
   ]
  },
  {
   "cell_type": "code",
   "execution_count": null,
   "metadata": {},
   "outputs": [],
   "source": [
    "####################################################################################################################################"
   ]
  },
  {
   "cell_type": "code",
   "execution_count": null,
   "metadata": {},
   "outputs": [],
   "source": [
    "for meter in ac_list:\n",
    "    \n",
    "    df1,e1,df2,e2 = preprocess(meter) \n",
    "    thresh_list = [60,0.6,2.9,-2.9,0.5,0.5,200] #current\n",
    "\n",
    "    gsp_result1 = gsp_(thresh_list, df1, meter)\n",
    "    gsp_result2 = gsp_(thresh_list, df2, meter)\n",
    "\n",
    "    gsp_result = pd.concat([gsp_result1, gsp_result2])\n",
    "    df = pd.concat([df1, df2])\n",
    "    e = pd.concat([e1,e2])\n",
    "\n",
    "\n",
    "    gsp_result['Power'] = e\n",
    "    gsp_result['Current'] = df['z_Avg Current (Amp)']\n",
    "    gsp_result.to_csv(folder+'_gsp_init'+meter+'.csv')\n"
   ]
  },
  {
   "cell_type": "code",
   "execution_count": null,
   "metadata": {},
   "outputs": [],
   "source": [
    "####################################################################################################################################"
   ]
  }
 ],
 "metadata": {
  "kernelspec": {
   "display_name": "Python 3",
   "language": "python",
   "name": "python3"
  },
  "language_info": {
   "codemirror_mode": {
    "name": "ipython",
    "version": 3
   },
   "file_extension": ".py",
   "mimetype": "text/x-python",
   "name": "python",
   "nbconvert_exporter": "python",
   "pygments_lexer": "ipython3",
   "version": "3.7.6"
  }
 },
 "nbformat": 4,
 "nbformat_minor": 4
}
