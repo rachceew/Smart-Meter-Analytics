{
 "cells": [
  {
   "cell_type": "code",
   "execution_count": 1,
   "metadata": {},
   "outputs": [],
   "source": [
    "from __future__ import division\n",
    "from __future__ import print_function  \n",
    "import warnings\n",
    "import pandas as pd\n",
    "import gsp_support as gsp\n",
    "import matplotlib.pyplot as plt\n",
    "import numpy as np\n",
    "pd.options.plotting.backend = \"plotly\"\n",
    "import datetime"
   ]
  },
  {
   "cell_type": "code",
   "execution_count": 2,
   "metadata": {},
   "outputs": [],
   "source": [
    "###########################################################################################################################"
   ]
  },
  {
   "cell_type": "code",
   "execution_count": 2,
   "metadata": {},
   "outputs": [],
   "source": [
    "# data handling\n",
    "\n",
    "# get the final ac_list just to be sure\n",
    "\n",
    "survey = pd.read_csv('FINAL- Appliance stock survey and metadata 20Nov19.xlsx - FINAL- Appliance stock survey a.csv')\n",
    "ac_list = list(survey.loc[survey['q_409_ac_yn']==1]['home_no'])\n",
    "ac_list = list(set(ac_list) - set(['BR17','BR20','BR42']))\n",
    "\n",
    "# folder to read the stage 1 result dfs\n",
    "\n",
    "input_folder = 'FINAL/Disaggregation/gsp_output+stage1_filter/'\n",
    "output_folder = 'FINAL/Disaggregation/stage2_filter/'\n",
    "\n",
    "# read the original smart meter data df to get the voltage values from\n",
    "\n",
    "full = pd.read_csv('D:/CEEW/Smart Meter Analysis/Data Acquisition and Preprocessing/Cleaned data 02Mar21_corrected.csv')\n",
    "\n",
    "full['x_Timestamp'] = pd.to_datetime(full['x_Timestamp'])\n",
    "full = full.set_index('x_Timestamp')"
   ]
  },
  {
   "cell_type": "code",
   "execution_count": 3,
   "metadata": {},
   "outputs": [],
   "source": [
    "# read the csv files and add voltage sginal to it - then save all the data in a dataframe #total with a meter column\n",
    "\n",
    "total = pd.DataFrame()\n",
    "mp = []\n",
    "for m in ac_list:\n",
    "    csv = pd.read_csv(input_folder+m+'_gsp.csv')\n",
    "    csv.index = pd.to_datetime(csv['x_Timestamp'])\n",
    "    \n",
    "    g = full.loc[full['meter']==m]\n",
    "    mask = g['z_Avg Voltage (Volt)'].index.isin(csv.index)\n",
    "    c = g['z_Avg Voltage (Volt)'].loc[mask]\n",
    "    csv['voltage'] = c\n",
    "    total = total.append(csv)\n",
    "#     print(csv)\n",
    "    mp.append([m]*csv.shape[0])\n",
    "\n",
    "me =  [item for sublist in mp for item in sublist]\n",
    "total['meter'] = me"
   ]
  },
  {
   "cell_type": "code",
   "execution_count": 4,
   "metadata": {},
   "outputs": [],
   "source": [
    "total = total.drop(['x_Timestamp'],axis=1)"
   ]
  },
  {
   "cell_type": "code",
   "execution_count": 5,
   "metadata": {},
   "outputs": [
    {
     "data": {
      "text/html": [
       "<div>\n",
       "<style scoped>\n",
       "    .dataframe tbody tr th:only-of-type {\n",
       "        vertical-align: middle;\n",
       "    }\n",
       "\n",
       "    .dataframe tbody tr th {\n",
       "        vertical-align: top;\n",
       "    }\n",
       "\n",
       "    .dataframe thead th {\n",
       "        text-align: right;\n",
       "    }\n",
       "</style>\n",
       "<table border=\"1\" class=\"dataframe\">\n",
       "  <thead>\n",
       "    <tr style=\"text-align: right;\">\n",
       "      <th></th>\n",
       "      <th>0</th>\n",
       "      <th>Power</th>\n",
       "      <th>Current</th>\n",
       "      <th>Comp</th>\n",
       "      <th>Comp2</th>\n",
       "      <th>AC Power</th>\n",
       "      <th>AC on</th>\n",
       "      <th>voltage</th>\n",
       "      <th>meter</th>\n",
       "    </tr>\n",
       "    <tr>\n",
       "      <th>x_Timestamp</th>\n",
       "      <th></th>\n",
       "      <th></th>\n",
       "      <th></th>\n",
       "      <th></th>\n",
       "      <th></th>\n",
       "      <th></th>\n",
       "      <th></th>\n",
       "      <th></th>\n",
       "      <th></th>\n",
       "    </tr>\n",
       "  </thead>\n",
       "  <tbody>\n",
       "    <tr>\n",
       "      <th>2019-05-30 00:00:00</th>\n",
       "      <td>0.00</td>\n",
       "      <td>1780.0</td>\n",
       "      <td>10.13</td>\n",
       "      <td>0</td>\n",
       "      <td>0</td>\n",
       "      <td>0.0</td>\n",
       "      <td>0</td>\n",
       "      <td>182.25</td>\n",
       "      <td>MH45</td>\n",
       "    </tr>\n",
       "    <tr>\n",
       "      <th>2019-05-30 00:03:00</th>\n",
       "      <td>8.14</td>\n",
       "      <td>1780.0</td>\n",
       "      <td>10.12</td>\n",
       "      <td>1</td>\n",
       "      <td>0</td>\n",
       "      <td>0.0</td>\n",
       "      <td>0</td>\n",
       "      <td>181.75</td>\n",
       "      <td>MH45</td>\n",
       "    </tr>\n",
       "    <tr>\n",
       "      <th>2019-05-30 00:06:00</th>\n",
       "      <td>8.13</td>\n",
       "      <td>3200.0</td>\n",
       "      <td>18.26</td>\n",
       "      <td>1</td>\n",
       "      <td>0</td>\n",
       "      <td>0.0</td>\n",
       "      <td>0</td>\n",
       "      <td>178.80</td>\n",
       "      <td>MH45</td>\n",
       "    </tr>\n",
       "    <tr>\n",
       "      <th>2019-05-30 00:09:00</th>\n",
       "      <td>0.00</td>\n",
       "      <td>1780.0</td>\n",
       "      <td>10.13</td>\n",
       "      <td>0</td>\n",
       "      <td>0</td>\n",
       "      <td>0.0</td>\n",
       "      <td>0</td>\n",
       "      <td>181.65</td>\n",
       "      <td>MH45</td>\n",
       "    </tr>\n",
       "    <tr>\n",
       "      <th>2019-05-30 00:12:00</th>\n",
       "      <td>0.00</td>\n",
       "      <td>1780.0</td>\n",
       "      <td>10.34</td>\n",
       "      <td>0</td>\n",
       "      <td>0</td>\n",
       "      <td>0.0</td>\n",
       "      <td>0</td>\n",
       "      <td>176.80</td>\n",
       "      <td>MH45</td>\n",
       "    </tr>\n",
       "    <tr>\n",
       "      <th>...</th>\n",
       "      <td>...</td>\n",
       "      <td>...</td>\n",
       "      <td>...</td>\n",
       "      <td>...</td>\n",
       "      <td>...</td>\n",
       "      <td>...</td>\n",
       "      <td>...</td>\n",
       "      <td>...</td>\n",
       "      <td>...</td>\n",
       "    </tr>\n",
       "    <tr>\n",
       "      <th>2020-12-28 23:45:00</th>\n",
       "      <td>0.00</td>\n",
       "      <td>100.0</td>\n",
       "      <td>0.51</td>\n",
       "      <td>0</td>\n",
       "      <td>0</td>\n",
       "      <td>0.0</td>\n",
       "      <td>0</td>\n",
       "      <td>248.19</td>\n",
       "      <td>BR18</td>\n",
       "    </tr>\n",
       "    <tr>\n",
       "      <th>2020-12-28 23:48:00</th>\n",
       "      <td>0.00</td>\n",
       "      <td>100.0</td>\n",
       "      <td>0.50</td>\n",
       "      <td>0</td>\n",
       "      <td>0</td>\n",
       "      <td>0.0</td>\n",
       "      <td>0</td>\n",
       "      <td>247.87</td>\n",
       "      <td>BR18</td>\n",
       "    </tr>\n",
       "    <tr>\n",
       "      <th>2020-12-28 23:51:00</th>\n",
       "      <td>0.00</td>\n",
       "      <td>100.0</td>\n",
       "      <td>0.50</td>\n",
       "      <td>0</td>\n",
       "      <td>0</td>\n",
       "      <td>0.0</td>\n",
       "      <td>0</td>\n",
       "      <td>247.71</td>\n",
       "      <td>BR18</td>\n",
       "    </tr>\n",
       "    <tr>\n",
       "      <th>2020-12-28 23:54:00</th>\n",
       "      <td>0.00</td>\n",
       "      <td>100.0</td>\n",
       "      <td>0.52</td>\n",
       "      <td>0</td>\n",
       "      <td>0</td>\n",
       "      <td>0.0</td>\n",
       "      <td>0</td>\n",
       "      <td>248.26</td>\n",
       "      <td>BR18</td>\n",
       "    </tr>\n",
       "    <tr>\n",
       "      <th>2020-12-28 23:57:00</th>\n",
       "      <td>0.00</td>\n",
       "      <td>100.0</td>\n",
       "      <td>0.51</td>\n",
       "      <td>0</td>\n",
       "      <td>0</td>\n",
       "      <td>0.0</td>\n",
       "      <td>0</td>\n",
       "      <td>248.81</td>\n",
       "      <td>BR18</td>\n",
       "    </tr>\n",
       "  </tbody>\n",
       "</table>\n",
       "<p>6602945 rows × 9 columns</p>\n",
       "</div>"
      ],
      "text/plain": [
       "                        0   Power  Current  Comp  Comp2  AC Power  AC on  \\\n",
       "x_Timestamp                                                                \n",
       "2019-05-30 00:00:00  0.00  1780.0    10.13     0      0       0.0      0   \n",
       "2019-05-30 00:03:00  8.14  1780.0    10.12     1      0       0.0      0   \n",
       "2019-05-30 00:06:00  8.13  3200.0    18.26     1      0       0.0      0   \n",
       "2019-05-30 00:09:00  0.00  1780.0    10.13     0      0       0.0      0   \n",
       "2019-05-30 00:12:00  0.00  1780.0    10.34     0      0       0.0      0   \n",
       "...                   ...     ...      ...   ...    ...       ...    ...   \n",
       "2020-12-28 23:45:00  0.00   100.0     0.51     0      0       0.0      0   \n",
       "2020-12-28 23:48:00  0.00   100.0     0.50     0      0       0.0      0   \n",
       "2020-12-28 23:51:00  0.00   100.0     0.50     0      0       0.0      0   \n",
       "2020-12-28 23:54:00  0.00   100.0     0.52     0      0       0.0      0   \n",
       "2020-12-28 23:57:00  0.00   100.0     0.51     0      0       0.0      0   \n",
       "\n",
       "                     voltage meter  \n",
       "x_Timestamp                         \n",
       "2019-05-30 00:00:00   182.25  MH45  \n",
       "2019-05-30 00:03:00   181.75  MH45  \n",
       "2019-05-30 00:06:00   178.80  MH45  \n",
       "2019-05-30 00:09:00   181.65  MH45  \n",
       "2019-05-30 00:12:00   176.80  MH45  \n",
       "...                      ...   ...  \n",
       "2020-12-28 23:45:00   248.19  BR18  \n",
       "2020-12-28 23:48:00   247.87  BR18  \n",
       "2020-12-28 23:51:00   247.71  BR18  \n",
       "2020-12-28 23:54:00   248.26  BR18  \n",
       "2020-12-28 23:57:00   248.81  BR18  \n",
       "\n",
       "[6602945 rows x 9 columns]"
      ]
     },
     "execution_count": 5,
     "metadata": {},
     "output_type": "execute_result"
    }
   ],
   "source": [
    "# len(total['meter'].unique())\n",
    "total"
   ]
  },
  {
   "cell_type": "code",
   "execution_count": 4,
   "metadata": {},
   "outputs": [],
   "source": [
    "###########################################################################################################################"
   ]
  },
  {
   "cell_type": "code",
   "execution_count": 37,
   "metadata": {},
   "outputs": [
    {
     "ename": "ValueError",
     "evalue": "Length mismatch: Expected axis has 13 elements, new values have 9 elements",
     "output_type": "error",
     "traceback": [
      "\u001b[1;31m---------------------------------------------------------------------------\u001b[0m",
      "\u001b[1;31mValueError\u001b[0m                                Traceback (most recent call last)",
      "\u001b[1;32m<ipython-input-37-9d8d3cd2ad2b>\u001b[0m in \u001b[0;36m<module>\u001b[1;34m\u001b[0m\n\u001b[0;32m      1\u001b[0m \u001b[1;31m# make the df look beautiful !\u001b[0m\u001b[1;33m\u001b[0m\u001b[1;33m\u001b[0m\u001b[1;33m\u001b[0m\u001b[0m\n\u001b[1;32m----> 2\u001b[1;33m \u001b[0mtotal\u001b[0m\u001b[1;33m.\u001b[0m\u001b[0mcolumns\u001b[0m \u001b[1;33m=\u001b[0m \u001b[1;33m[\u001b[0m\u001b[1;34m'gsp'\u001b[0m\u001b[1;33m,\u001b[0m\u001b[1;34m'power'\u001b[0m\u001b[1;33m,\u001b[0m\u001b[1;34m'current'\u001b[0m\u001b[1;33m,\u001b[0m\u001b[1;34m'compressor'\u001b[0m\u001b[1;33m,\u001b[0m\u001b[1;34m'final_compressor'\u001b[0m\u001b[1;33m,\u001b[0m\u001b[1;34m'ac_power'\u001b[0m\u001b[1;33m,\u001b[0m\u001b[1;34m'ac_on'\u001b[0m\u001b[1;33m,\u001b[0m\u001b[1;34m'voltage'\u001b[0m\u001b[1;33m,\u001b[0m\u001b[1;34m'meter'\u001b[0m\u001b[1;33m]\u001b[0m\u001b[1;33m\u001b[0m\u001b[1;33m\u001b[0m\u001b[0m\n\u001b[0m\u001b[0;32m      3\u001b[0m \u001b[1;31m# force zero ac where total household consumption < 1000\u001b[0m\u001b[1;33m\u001b[0m\u001b[1;33m\u001b[0m\u001b[1;33m\u001b[0m\u001b[0m\n\u001b[0;32m      4\u001b[0m \u001b[0mcols\u001b[0m \u001b[1;33m=\u001b[0m \u001b[1;33m[\u001b[0m\u001b[1;34m'compressor'\u001b[0m\u001b[1;33m,\u001b[0m\u001b[1;34m'final_compressor'\u001b[0m\u001b[1;33m,\u001b[0m\u001b[1;34m'ac_power'\u001b[0m\u001b[1;33m,\u001b[0m\u001b[1;34m'ac_on'\u001b[0m\u001b[1;33m]\u001b[0m\u001b[1;33m\u001b[0m\u001b[1;33m\u001b[0m\u001b[0m\n\u001b[0;32m      5\u001b[0m \u001b[1;31m# for c in cols:\u001b[0m\u001b[1;33m\u001b[0m\u001b[1;33m\u001b[0m\u001b[1;33m\u001b[0m\u001b[0m\n",
      "\u001b[1;32mC:\\ProgramData\\Anaconda3\\lib\\site-packages\\pandas\\core\\generic.py\u001b[0m in \u001b[0;36m__setattr__\u001b[1;34m(self, name, value)\u001b[0m\n\u001b[0;32m   5285\u001b[0m         \u001b[1;32mtry\u001b[0m\u001b[1;33m:\u001b[0m\u001b[1;33m\u001b[0m\u001b[1;33m\u001b[0m\u001b[0m\n\u001b[0;32m   5286\u001b[0m             \u001b[0mobject\u001b[0m\u001b[1;33m.\u001b[0m\u001b[0m__getattribute__\u001b[0m\u001b[1;33m(\u001b[0m\u001b[0mself\u001b[0m\u001b[1;33m,\u001b[0m \u001b[0mname\u001b[0m\u001b[1;33m)\u001b[0m\u001b[1;33m\u001b[0m\u001b[1;33m\u001b[0m\u001b[0m\n\u001b[1;32m-> 5287\u001b[1;33m             \u001b[1;32mreturn\u001b[0m \u001b[0mobject\u001b[0m\u001b[1;33m.\u001b[0m\u001b[0m__setattr__\u001b[0m\u001b[1;33m(\u001b[0m\u001b[0mself\u001b[0m\u001b[1;33m,\u001b[0m \u001b[0mname\u001b[0m\u001b[1;33m,\u001b[0m \u001b[0mvalue\u001b[0m\u001b[1;33m)\u001b[0m\u001b[1;33m\u001b[0m\u001b[1;33m\u001b[0m\u001b[0m\n\u001b[0m\u001b[0;32m   5288\u001b[0m         \u001b[1;32mexcept\u001b[0m \u001b[0mAttributeError\u001b[0m\u001b[1;33m:\u001b[0m\u001b[1;33m\u001b[0m\u001b[1;33m\u001b[0m\u001b[0m\n\u001b[0;32m   5289\u001b[0m             \u001b[1;32mpass\u001b[0m\u001b[1;33m\u001b[0m\u001b[1;33m\u001b[0m\u001b[0m\n",
      "\u001b[1;32mpandas\\_libs\\properties.pyx\u001b[0m in \u001b[0;36mpandas._libs.properties.AxisProperty.__set__\u001b[1;34m()\u001b[0m\n",
      "\u001b[1;32mC:\\ProgramData\\Anaconda3\\lib\\site-packages\\pandas\\core\\generic.py\u001b[0m in \u001b[0;36m_set_axis\u001b[1;34m(self, axis, labels)\u001b[0m\n\u001b[0;32m    659\u001b[0m \u001b[1;33m\u001b[0m\u001b[0m\n\u001b[0;32m    660\u001b[0m     \u001b[1;32mdef\u001b[0m \u001b[0m_set_axis\u001b[0m\u001b[1;33m(\u001b[0m\u001b[0mself\u001b[0m\u001b[1;33m,\u001b[0m \u001b[0maxis\u001b[0m\u001b[1;33m,\u001b[0m \u001b[0mlabels\u001b[0m\u001b[1;33m)\u001b[0m \u001b[1;33m->\u001b[0m \u001b[1;32mNone\u001b[0m\u001b[1;33m:\u001b[0m\u001b[1;33m\u001b[0m\u001b[1;33m\u001b[0m\u001b[0m\n\u001b[1;32m--> 661\u001b[1;33m         \u001b[0mself\u001b[0m\u001b[1;33m.\u001b[0m\u001b[0m_data\u001b[0m\u001b[1;33m.\u001b[0m\u001b[0mset_axis\u001b[0m\u001b[1;33m(\u001b[0m\u001b[0maxis\u001b[0m\u001b[1;33m,\u001b[0m \u001b[0mlabels\u001b[0m\u001b[1;33m)\u001b[0m\u001b[1;33m\u001b[0m\u001b[1;33m\u001b[0m\u001b[0m\n\u001b[0m\u001b[0;32m    662\u001b[0m         \u001b[0mself\u001b[0m\u001b[1;33m.\u001b[0m\u001b[0m_clear_item_cache\u001b[0m\u001b[1;33m(\u001b[0m\u001b[1;33m)\u001b[0m\u001b[1;33m\u001b[0m\u001b[1;33m\u001b[0m\u001b[0m\n\u001b[0;32m    663\u001b[0m \u001b[1;33m\u001b[0m\u001b[0m\n",
      "\u001b[1;32mC:\\ProgramData\\Anaconda3\\lib\\site-packages\\pandas\\core\\internals\\managers.py\u001b[0m in \u001b[0;36mset_axis\u001b[1;34m(self, axis, new_labels)\u001b[0m\n\u001b[0;32m    176\u001b[0m         \u001b[1;32mif\u001b[0m \u001b[0mnew_len\u001b[0m \u001b[1;33m!=\u001b[0m \u001b[0mold_len\u001b[0m\u001b[1;33m:\u001b[0m\u001b[1;33m\u001b[0m\u001b[1;33m\u001b[0m\u001b[0m\n\u001b[0;32m    177\u001b[0m             raise ValueError(\n\u001b[1;32m--> 178\u001b[1;33m                 \u001b[1;34mf\"Length mismatch: Expected axis has {old_len} elements, new \"\u001b[0m\u001b[1;33m\u001b[0m\u001b[1;33m\u001b[0m\u001b[0m\n\u001b[0m\u001b[0;32m    179\u001b[0m                 \u001b[1;34mf\"values have {new_len} elements\"\u001b[0m\u001b[1;33m\u001b[0m\u001b[1;33m\u001b[0m\u001b[0m\n\u001b[0;32m    180\u001b[0m             )\n",
      "\u001b[1;31mValueError\u001b[0m: Length mismatch: Expected axis has 13 elements, new values have 9 elements"
     ]
    }
   ],
   "source": [
    "# make the df look beautiful !\n",
    "total.columns = ['gsp','power','current','compressor','final_compressor','ac_power','ac_on','voltage','meter']\n",
    "# force zero ac where total household consumption < 1000\n",
    "cols = ['compressor','final_compressor','ac_power','ac_on']\n",
    "# for c in cols:\n",
    "# total.loc[total['power']<=1000, cols] = 0\n",
    "total.loc[total['ac_power']<=200, cols] = 0\n"
   ]
  },
  {
   "cell_type": "code",
   "execution_count": null,
   "metadata": {},
   "outputs": [],
   "source": [
    "###########################################################################################################################"
   ]
  },
  {
   "cell_type": "code",
   "execution_count": 38,
   "metadata": {},
   "outputs": [],
   "source": [
    "# Rough Cell\n",
    "# Note - use parallel notebooks for stage 2 filter\n",
    "\n",
    "total['diff'] = total['compressor']-total['final_compressor']\n",
    "\n",
    "# change the valyes of total here\n",
    "total['c'] = 0  #compressor\n",
    "total['acp'] = 0 # acpower\n",
    "total['acon'] = 0 # acon"
   ]
  },
  {
   "cell_type": "code",
   "execution_count": 39,
   "metadata": {},
   "outputs": [
    {
     "data": {
      "text/html": [
       "<div>\n",
       "<style scoped>\n",
       "    .dataframe tbody tr th:only-of-type {\n",
       "        vertical-align: middle;\n",
       "    }\n",
       "\n",
       "    .dataframe tbody tr th {\n",
       "        vertical-align: top;\n",
       "    }\n",
       "\n",
       "    .dataframe thead th {\n",
       "        text-align: right;\n",
       "    }\n",
       "</style>\n",
       "<table border=\"1\" class=\"dataframe\">\n",
       "  <thead>\n",
       "    <tr style=\"text-align: right;\">\n",
       "      <th></th>\n",
       "      <th>gsp</th>\n",
       "      <th>power</th>\n",
       "      <th>current</th>\n",
       "      <th>compressor</th>\n",
       "      <th>final_compressor</th>\n",
       "      <th>ac_power</th>\n",
       "      <th>ac_on</th>\n",
       "      <th>voltage</th>\n",
       "      <th>meter</th>\n",
       "      <th>diff</th>\n",
       "      <th>c</th>\n",
       "      <th>acp</th>\n",
       "      <th>acon</th>\n",
       "    </tr>\n",
       "    <tr>\n",
       "      <th>x_Timestamp</th>\n",
       "      <th></th>\n",
       "      <th></th>\n",
       "      <th></th>\n",
       "      <th></th>\n",
       "      <th></th>\n",
       "      <th></th>\n",
       "      <th></th>\n",
       "      <th></th>\n",
       "      <th></th>\n",
       "      <th></th>\n",
       "      <th></th>\n",
       "      <th></th>\n",
       "      <th></th>\n",
       "    </tr>\n",
       "  </thead>\n",
       "  <tbody>\n",
       "    <tr>\n",
       "      <th>2019-05-30 00:00:00</th>\n",
       "      <td>0.00</td>\n",
       "      <td>1780.0</td>\n",
       "      <td>10.13</td>\n",
       "      <td>0</td>\n",
       "      <td>0</td>\n",
       "      <td>0.0</td>\n",
       "      <td>0</td>\n",
       "      <td>182.25</td>\n",
       "      <td>MH45</td>\n",
       "      <td>0</td>\n",
       "      <td>0</td>\n",
       "      <td>0</td>\n",
       "      <td>0</td>\n",
       "    </tr>\n",
       "    <tr>\n",
       "      <th>2019-05-30 00:03:00</th>\n",
       "      <td>8.14</td>\n",
       "      <td>1780.0</td>\n",
       "      <td>10.12</td>\n",
       "      <td>0</td>\n",
       "      <td>0</td>\n",
       "      <td>0.0</td>\n",
       "      <td>0</td>\n",
       "      <td>181.75</td>\n",
       "      <td>MH45</td>\n",
       "      <td>0</td>\n",
       "      <td>0</td>\n",
       "      <td>0</td>\n",
       "      <td>0</td>\n",
       "    </tr>\n",
       "    <tr>\n",
       "      <th>2019-05-30 00:06:00</th>\n",
       "      <td>8.13</td>\n",
       "      <td>3200.0</td>\n",
       "      <td>18.26</td>\n",
       "      <td>0</td>\n",
       "      <td>0</td>\n",
       "      <td>0.0</td>\n",
       "      <td>0</td>\n",
       "      <td>178.80</td>\n",
       "      <td>MH45</td>\n",
       "      <td>0</td>\n",
       "      <td>0</td>\n",
       "      <td>0</td>\n",
       "      <td>0</td>\n",
       "    </tr>\n",
       "    <tr>\n",
       "      <th>2019-05-30 00:09:00</th>\n",
       "      <td>0.00</td>\n",
       "      <td>1780.0</td>\n",
       "      <td>10.13</td>\n",
       "      <td>0</td>\n",
       "      <td>0</td>\n",
       "      <td>0.0</td>\n",
       "      <td>0</td>\n",
       "      <td>181.65</td>\n",
       "      <td>MH45</td>\n",
       "      <td>0</td>\n",
       "      <td>0</td>\n",
       "      <td>0</td>\n",
       "      <td>0</td>\n",
       "    </tr>\n",
       "    <tr>\n",
       "      <th>2019-05-30 00:12:00</th>\n",
       "      <td>0.00</td>\n",
       "      <td>1780.0</td>\n",
       "      <td>10.34</td>\n",
       "      <td>0</td>\n",
       "      <td>0</td>\n",
       "      <td>0.0</td>\n",
       "      <td>0</td>\n",
       "      <td>176.80</td>\n",
       "      <td>MH45</td>\n",
       "      <td>0</td>\n",
       "      <td>0</td>\n",
       "      <td>0</td>\n",
       "      <td>0</td>\n",
       "    </tr>\n",
       "    <tr>\n",
       "      <th>...</th>\n",
       "      <td>...</td>\n",
       "      <td>...</td>\n",
       "      <td>...</td>\n",
       "      <td>...</td>\n",
       "      <td>...</td>\n",
       "      <td>...</td>\n",
       "      <td>...</td>\n",
       "      <td>...</td>\n",
       "      <td>...</td>\n",
       "      <td>...</td>\n",
       "      <td>...</td>\n",
       "      <td>...</td>\n",
       "      <td>...</td>\n",
       "    </tr>\n",
       "    <tr>\n",
       "      <th>2020-12-28 23:45:00</th>\n",
       "      <td>0.00</td>\n",
       "      <td>100.0</td>\n",
       "      <td>0.51</td>\n",
       "      <td>0</td>\n",
       "      <td>0</td>\n",
       "      <td>0.0</td>\n",
       "      <td>0</td>\n",
       "      <td>248.19</td>\n",
       "      <td>BR18</td>\n",
       "      <td>0</td>\n",
       "      <td>0</td>\n",
       "      <td>0</td>\n",
       "      <td>0</td>\n",
       "    </tr>\n",
       "    <tr>\n",
       "      <th>2020-12-28 23:48:00</th>\n",
       "      <td>0.00</td>\n",
       "      <td>100.0</td>\n",
       "      <td>0.50</td>\n",
       "      <td>0</td>\n",
       "      <td>0</td>\n",
       "      <td>0.0</td>\n",
       "      <td>0</td>\n",
       "      <td>247.87</td>\n",
       "      <td>BR18</td>\n",
       "      <td>0</td>\n",
       "      <td>0</td>\n",
       "      <td>0</td>\n",
       "      <td>0</td>\n",
       "    </tr>\n",
       "    <tr>\n",
       "      <th>2020-12-28 23:51:00</th>\n",
       "      <td>0.00</td>\n",
       "      <td>100.0</td>\n",
       "      <td>0.50</td>\n",
       "      <td>0</td>\n",
       "      <td>0</td>\n",
       "      <td>0.0</td>\n",
       "      <td>0</td>\n",
       "      <td>247.71</td>\n",
       "      <td>BR18</td>\n",
       "      <td>0</td>\n",
       "      <td>0</td>\n",
       "      <td>0</td>\n",
       "      <td>0</td>\n",
       "    </tr>\n",
       "    <tr>\n",
       "      <th>2020-12-28 23:54:00</th>\n",
       "      <td>0.00</td>\n",
       "      <td>100.0</td>\n",
       "      <td>0.52</td>\n",
       "      <td>0</td>\n",
       "      <td>0</td>\n",
       "      <td>0.0</td>\n",
       "      <td>0</td>\n",
       "      <td>248.26</td>\n",
       "      <td>BR18</td>\n",
       "      <td>0</td>\n",
       "      <td>0</td>\n",
       "      <td>0</td>\n",
       "      <td>0</td>\n",
       "    </tr>\n",
       "    <tr>\n",
       "      <th>2020-12-28 23:57:00</th>\n",
       "      <td>0.00</td>\n",
       "      <td>100.0</td>\n",
       "      <td>0.51</td>\n",
       "      <td>0</td>\n",
       "      <td>0</td>\n",
       "      <td>0.0</td>\n",
       "      <td>0</td>\n",
       "      <td>248.81</td>\n",
       "      <td>BR18</td>\n",
       "      <td>0</td>\n",
       "      <td>0</td>\n",
       "      <td>0</td>\n",
       "      <td>0</td>\n",
       "    </tr>\n",
       "  </tbody>\n",
       "</table>\n",
       "<p>6602945 rows × 13 columns</p>\n",
       "</div>"
      ],
      "text/plain": [
       "                      gsp   power  current  compressor  final_compressor  \\\n",
       "x_Timestamp                                                                \n",
       "2019-05-30 00:00:00  0.00  1780.0    10.13           0                 0   \n",
       "2019-05-30 00:03:00  8.14  1780.0    10.12           0                 0   \n",
       "2019-05-30 00:06:00  8.13  3200.0    18.26           0                 0   \n",
       "2019-05-30 00:09:00  0.00  1780.0    10.13           0                 0   \n",
       "2019-05-30 00:12:00  0.00  1780.0    10.34           0                 0   \n",
       "...                   ...     ...      ...         ...               ...   \n",
       "2020-12-28 23:45:00  0.00   100.0     0.51           0                 0   \n",
       "2020-12-28 23:48:00  0.00   100.0     0.50           0                 0   \n",
       "2020-12-28 23:51:00  0.00   100.0     0.50           0                 0   \n",
       "2020-12-28 23:54:00  0.00   100.0     0.52           0                 0   \n",
       "2020-12-28 23:57:00  0.00   100.0     0.51           0                 0   \n",
       "\n",
       "                     ac_power  ac_on  voltage meter  diff  c  acp  acon  \n",
       "x_Timestamp                                                              \n",
       "2019-05-30 00:00:00       0.0      0   182.25  MH45     0  0    0     0  \n",
       "2019-05-30 00:03:00       0.0      0   181.75  MH45     0  0    0     0  \n",
       "2019-05-30 00:06:00       0.0      0   178.80  MH45     0  0    0     0  \n",
       "2019-05-30 00:09:00       0.0      0   181.65  MH45     0  0    0     0  \n",
       "2019-05-30 00:12:00       0.0      0   176.80  MH45     0  0    0     0  \n",
       "...                       ...    ...      ...   ...   ... ..  ...   ...  \n",
       "2020-12-28 23:45:00       0.0      0   248.19  BR18     0  0    0     0  \n",
       "2020-12-28 23:48:00       0.0      0   247.87  BR18     0  0    0     0  \n",
       "2020-12-28 23:51:00       0.0      0   247.71  BR18     0  0    0     0  \n",
       "2020-12-28 23:54:00       0.0      0   248.26  BR18     0  0    0     0  \n",
       "2020-12-28 23:57:00       0.0      0   248.81  BR18     0  0    0     0  \n",
       "\n",
       "[6602945 rows x 13 columns]"
      ]
     },
     "execution_count": 39,
     "metadata": {},
     "output_type": "execute_result"
    }
   ],
   "source": [
    "total"
   ]
  },
  {
   "cell_type": "code",
   "execution_count": 41,
   "metadata": {},
   "outputs": [
    {
     "name": "stdout",
     "output_type": "stream",
     "text": [
      "BR06\n",
      "1065.2912151259602\n",
      "hey reached here final\n",
      "BR07\n"
     ]
    },
    {
     "name": "stderr",
     "output_type": "stream",
     "text": [
      "C:\\ProgramData\\Anaconda3\\lib\\site-packages\\pandas\\core\\indexing.py:965: SettingWithCopyWarning:\n",
      "\n",
      "\n",
      "A value is trying to be set on a copy of a slice from a DataFrame.\n",
      "Try using .loc[row_indexer,col_indexer] = value instead\n",
      "\n",
      "See the caveats in the documentation: https://pandas.pydata.org/pandas-docs/stable/user_guide/indexing.html#returning-a-view-versus-a-copy\n",
      "\n"
     ]
    },
    {
     "name": "stdout",
     "output_type": "stream",
     "text": [
      "984.813108149791\n",
      "hey reached here final\n",
      "BR08\n",
      "954.6525729716077\n",
      "hey reached here final\n",
      "BR11\n",
      "1310.21163773667\n",
      "hey reached here final\n",
      "BR12\n",
      "1260.9333938511745\n",
      "hey reached here final\n",
      "BR13\n",
      "1130.5651819297564\n",
      "hey reached here final\n",
      "BR18\n",
      "1072.4780693651257\n",
      "hey reached here final\n",
      "BR22\n",
      "948.7880242936933\n",
      "hey reached here final\n",
      "BR23\n",
      "1085.257703468183\n",
      "hey reached here final\n",
      "BR24\n",
      "1252.4810763425414\n",
      "hey reached here final\n",
      "BR31\n",
      "1380.428382132868\n",
      "hey reached here final\n",
      "BR35\n",
      "938.8504941709538\n",
      "hey reached here final\n",
      "BR36\n",
      "705.7622767763584\n",
      "hey reached here final\n",
      "BR38\n",
      "1255.0824318070127\n",
      "hey reached here final\n",
      "BR45\n",
      "1140.4640684971748\n",
      "hey reached here final\n",
      "BR49\n",
      "951.1485293814421\n",
      "hey reached here final\n",
      "BR51\n",
      "1380.6384112563114\n",
      "hey reached here final\n",
      "MH02\n",
      "1471.6748246221669\n",
      "hey reached here final\n",
      "MH07\n",
      "1321.465736768425\n",
      "hey reached here final\n",
      "MH10\n",
      "1381.4255124442186\n",
      "hey reached here final\n",
      "MH14\n",
      "1124.3297532912982\n",
      "hey reached here final\n",
      "MH18\n",
      "1202.704188798987\n",
      "hey reached here final\n",
      "MH21\n",
      "918.7672828914073\n",
      "hey reached here final\n",
      "MH22\n",
      "1198.9493606057458\n",
      "hey reached here final\n",
      "MH23\n",
      "1725.2002650020934\n",
      "hey reached here final\n",
      "MH24\n",
      "1328.5983745191884\n",
      "hey reached here final\n",
      "MH27\n",
      "1833.9539567140525\n",
      "hey reached here final\n",
      "MH33\n",
      "905.0746792126838\n",
      "hey reached here final\n",
      "MH36\n",
      "923.024210570476\n",
      "hey reached here final\n",
      "MH43\n",
      "1066.0293180209171\n",
      "hey reached here final\n",
      "MH45\n",
      "1132.6145402912236\n",
      "hey reached here final\n"
     ]
    }
   ],
   "source": [
    "# MASKS\n",
    "\n",
    "\n",
    "\n",
    "# Check for one meter\n",
    "\n",
    "# total1 = total.loc[total['meter']=='MH27']\n",
    "\n",
    "# changing the output of gsp here\n",
    "t = pd.DataFrame()\n",
    "\n",
    "grouped = total.groupby('meter')\n",
    "for name,group in grouped:\n",
    "    print(name)\n",
    "    sub = grouped.get_group(name)\n",
    "#     print('hey reached here1')\n",
    "    gsp_result = sub \n",
    "    \n",
    "    start_date = '2019-03-01' # from may\n",
    "    end_date = '2019-10-31'  # till september\n",
    "\n",
    "    mask1 = (gsp_result.index >= start_date) & (gsp_result.index <= end_date)\n",
    "    start_date1 = '2020-03-01' # from may\n",
    "    end_date1 = '2020-10-31'  # till september\n",
    "\n",
    "    mask2 = (gsp_result.index >= start_date1) & (gsp_result.index < end_date1)\n",
    "    mask3 = gsp_result['gsp']==0\n",
    "    mask4 = gsp_result['ac_on']==0\n",
    "    \n",
    "    ac_ = gsp_result.loc[gsp_result['ac_on']==1]\n",
    "    ac_not = gsp_result.loc[gsp_result['ac_on']==0]\n",
    "    ac_on_overall_power = ac_['ac_power'].mean()\n",
    "    base = ac_not['power'].mean()\n",
    "    print(ac_on_overall_power)\n",
    "\n",
    "    mask5 = (gsp_result['power']-ac_on_overall_power)>(base+200)\n",
    "    \n",
    "    mask = (mask1 | mask2) & mask3 & mask4 & mask5\n",
    "    \n",
    "    \n",
    "#     print(gsp_result.loc[mask])\n",
    "    gsp_result.loc[mask,'c'] = 1\n",
    "    \n",
    "    gsp_result.loc[mask,'acp'] = gsp_result['power']-base\n",
    "    print('hey reached here final')\n",
    "    ma = gsp_result['acp']>(ac_on_overall_power+1000)\n",
    "    gsp_result.loc[ma,'acp'] = ac_on_overall_power\n",
    "    \n",
    "    t = t.append(gsp_result)\n",
    "    \n",
    "  \n",
    "\n",
    "\n",
    "#     #     print(gsp_result['Power'][t['Ton']:t['Toff']].mean())\n",
    "#         s = gsp_result['Power'][t['Ton']:t['Toff']].mean()-avg\n",
    "#         gsp_result['AC Power'][t['Ton']:t['Toff']] = s\n",
    "#     gsp_result['AC Power'][gsp_result['AC Power'] < 0] = 0            \n"
   ]
  },
  {
   "cell_type": "code",
   "execution_count": 57,
   "metadata": {},
   "outputs": [],
   "source": [
    "t.to_csv(output_folder+'before_stage2.csv')"
   ]
  },
  {
   "cell_type": "code",
   "execution_count": 44,
   "metadata": {},
   "outputs": [
    {
     "data": {
      "text/plain": [
       "31"
      ]
     },
     "execution_count": 44,
     "metadata": {},
     "output_type": "execute_result"
    }
   ],
   "source": [
    "len(t['meter'].unique())"
   ]
  },
  {
   "cell_type": "code",
   "execution_count": null,
   "metadata": {},
   "outputs": [],
   "source": []
  },
  {
   "cell_type": "code",
   "execution_count": 46,
   "metadata": {},
   "outputs": [],
   "source": [
    "# inspection of filtering\n",
    "\n",
    "\n",
    "sample = t.loc[t['meter']=='MH27']"
   ]
  },
  {
   "cell_type": "code",
   "execution_count": 47,
   "metadata": {},
   "outputs": [],
   "source": [
    "start_date = '2019-05-22' # from may\n",
    "end_date = '2019-05-23'  # till september\n",
    "mask = (sample.index >= start_date) & (sample.index < end_date)\n",
    "# sample = e.loc[mask] \n",
    "g = sample.loc[mask] "
   ]
  },
  {
   "cell_type": "code",
   "execution_count": 48,
   "metadata": {},
   "outputs": [
    {
     "data": {
      "application/vnd.plotly.v1+json": {
       "config": {
        "plotlyServerURL": "https://plotly.com"
       },
       "data": [
        {
         "hovertemplate": "variable=power<br>x_Timestamp=%{x}<br>value=%{y}<extra></extra>",
         "legendgroup": "power",
         "line": {
          "color": "#636efa",
          "dash": "solid"
         },
         "mode": "lines",
         "name": "power",
         "orientation": "v",
         "showlegend": true,
         "type": "scatter",
         "x": [
          "2019-05-22T00:00:00",
          "2019-05-22T00:03:00",
          "2019-05-22T00:06:00",
          "2019-05-22T00:09:00",
          "2019-05-22T00:12:00",
          "2019-05-22T00:15:00",
          "2019-05-22T00:18:00",
          "2019-05-22T00:21:00",
          "2019-05-22T00:24:00",
          "2019-05-22T00:27:00",
          "2019-05-22T00:30:00",
          "2019-05-22T00:33:00",
          "2019-05-22T00:36:00",
          "2019-05-22T00:39:00",
          "2019-05-22T00:42:00",
          "2019-05-22T00:45:00",
          "2019-05-22T00:48:00",
          "2019-05-22T00:51:00",
          "2019-05-22T00:54:00",
          "2019-05-22T00:57:00",
          "2019-05-22T01:00:00",
          "2019-05-22T01:03:00",
          "2019-05-22T01:06:00",
          "2019-05-22T01:09:00",
          "2019-05-22T01:12:00",
          "2019-05-22T01:15:00",
          "2019-05-22T01:18:00",
          "2019-05-22T01:21:00",
          "2019-05-22T01:24:00",
          "2019-05-22T01:27:00",
          "2019-05-22T01:30:00",
          "2019-05-22T01:33:00",
          "2019-05-22T01:36:00",
          "2019-05-22T01:39:00",
          "2019-05-22T01:42:00",
          "2019-05-22T01:45:00",
          "2019-05-22T01:48:00",
          "2019-05-22T01:51:00",
          "2019-05-22T01:54:00",
          "2019-05-22T01:57:00",
          "2019-05-22T02:00:00",
          "2019-05-22T02:03:00",
          "2019-05-22T02:06:00",
          "2019-05-22T02:09:00",
          "2019-05-22T02:12:00",
          "2019-05-22T02:15:00",
          "2019-05-22T02:18:00",
          "2019-05-22T02:21:00",
          "2019-05-22T02:24:00",
          "2019-05-22T02:27:00",
          "2019-05-22T02:30:00",
          "2019-05-22T02:33:00",
          "2019-05-22T02:36:00",
          "2019-05-22T02:39:00",
          "2019-05-22T02:42:00",
          "2019-05-22T02:45:00",
          "2019-05-22T02:48:00",
          "2019-05-22T02:51:00",
          "2019-05-22T02:54:00",
          "2019-05-22T02:57:00",
          "2019-05-22T03:00:00",
          "2019-05-22T03:03:00",
          "2019-05-22T03:06:00",
          "2019-05-22T03:09:00",
          "2019-05-22T03:12:00",
          "2019-05-22T03:15:00",
          "2019-05-22T03:18:00",
          "2019-05-22T03:21:00",
          "2019-05-22T03:24:00",
          "2019-05-22T03:27:00",
          "2019-05-22T03:30:00",
          "2019-05-22T03:33:00",
          "2019-05-22T03:36:00",
          "2019-05-22T03:39:00",
          "2019-05-22T03:42:00",
          "2019-05-22T03:45:00",
          "2019-05-22T03:48:00",
          "2019-05-22T03:51:00",
          "2019-05-22T03:54:00",
          "2019-05-22T03:57:00",
          "2019-05-22T04:00:00",
          "2019-05-22T04:03:00",
          "2019-05-22T04:06:00",
          "2019-05-22T04:09:00",
          "2019-05-22T04:12:00",
          "2019-05-22T04:15:00",
          "2019-05-22T04:18:00",
          "2019-05-22T04:21:00",
          "2019-05-22T04:24:00",
          "2019-05-22T04:27:00",
          "2019-05-22T04:30:00",
          "2019-05-22T04:33:00",
          "2019-05-22T04:36:00",
          "2019-05-22T04:39:00",
          "2019-05-22T04:42:00",
          "2019-05-22T04:45:00",
          "2019-05-22T04:48:00",
          "2019-05-22T04:51:00",
          "2019-05-22T04:54:00",
          "2019-05-22T04:57:00",
          "2019-05-22T05:00:00",
          "2019-05-22T05:03:00",
          "2019-05-22T05:06:00",
          "2019-05-22T05:09:00",
          "2019-05-22T05:12:00",
          "2019-05-22T05:15:00",
          "2019-05-22T05:18:00",
          "2019-05-22T05:21:00",
          "2019-05-22T05:24:00",
          "2019-05-22T05:27:00",
          "2019-05-22T05:30:00",
          "2019-05-22T05:33:00",
          "2019-05-22T05:36:00",
          "2019-05-22T05:39:00",
          "2019-05-22T05:42:00",
          "2019-05-22T05:45:00",
          "2019-05-22T05:48:00",
          "2019-05-22T05:51:00",
          "2019-05-22T05:54:00",
          "2019-05-22T05:57:00",
          "2019-05-22T06:00:00",
          "2019-05-22T06:03:00",
          "2019-05-22T06:06:00",
          "2019-05-22T06:09:00",
          "2019-05-22T06:12:00",
          "2019-05-22T06:15:00",
          "2019-05-22T06:18:00",
          "2019-05-22T06:21:00",
          "2019-05-22T06:24:00",
          "2019-05-22T06:27:00",
          "2019-05-22T06:30:00",
          "2019-05-22T06:33:00",
          "2019-05-22T06:36:00",
          "2019-05-22T06:39:00",
          "2019-05-22T06:42:00",
          "2019-05-22T06:45:00",
          "2019-05-22T06:48:00",
          "2019-05-22T06:51:00",
          "2019-05-22T06:54:00",
          "2019-05-22T06:57:00",
          "2019-05-22T07:00:00",
          "2019-05-22T07:03:00",
          "2019-05-22T07:06:00",
          "2019-05-22T07:09:00",
          "2019-05-22T07:12:00",
          "2019-05-22T07:15:00",
          "2019-05-22T07:18:00",
          "2019-05-22T07:21:00",
          "2019-05-22T07:24:00",
          "2019-05-22T07:27:00",
          "2019-05-22T07:30:00",
          "2019-05-22T07:33:00",
          "2019-05-22T07:36:00",
          "2019-05-22T07:39:00",
          "2019-05-22T07:42:00",
          "2019-05-22T07:45:00",
          "2019-05-22T07:48:00",
          "2019-05-22T07:51:00",
          "2019-05-22T07:54:00",
          "2019-05-22T07:57:00",
          "2019-05-22T08:00:00",
          "2019-05-22T08:03:00",
          "2019-05-22T08:06:00",
          "2019-05-22T08:09:00",
          "2019-05-22T08:12:00",
          "2019-05-22T08:15:00",
          "2019-05-22T08:18:00",
          "2019-05-22T08:21:00",
          "2019-05-22T08:24:00",
          "2019-05-22T08:27:00",
          "2019-05-22T08:30:00",
          "2019-05-22T08:33:00",
          "2019-05-22T08:36:00",
          "2019-05-22T08:39:00",
          "2019-05-22T08:42:00",
          "2019-05-22T08:45:00",
          "2019-05-22T08:48:00",
          "2019-05-22T08:51:00",
          "2019-05-22T08:54:00",
          "2019-05-22T08:57:00",
          "2019-05-22T09:00:00",
          "2019-05-22T09:03:00",
          "2019-05-22T09:06:00",
          "2019-05-22T09:09:00",
          "2019-05-22T09:12:00",
          "2019-05-22T09:15:00",
          "2019-05-22T09:18:00",
          "2019-05-22T09:21:00",
          "2019-05-22T09:24:00",
          "2019-05-22T09:27:00",
          "2019-05-22T09:30:00",
          "2019-05-22T09:33:00",
          "2019-05-22T09:36:00",
          "2019-05-22T09:39:00",
          "2019-05-22T09:42:00",
          "2019-05-22T09:45:00",
          "2019-05-22T09:48:00",
          "2019-05-22T09:51:00",
          "2019-05-22T09:54:00",
          "2019-05-22T09:57:00",
          "2019-05-22T10:00:00",
          "2019-05-22T10:03:00",
          "2019-05-22T10:06:00",
          "2019-05-22T10:09:00",
          "2019-05-22T10:12:00",
          "2019-05-22T10:15:00",
          "2019-05-22T10:18:00",
          "2019-05-22T10:21:00",
          "2019-05-22T10:24:00",
          "2019-05-22T10:27:00",
          "2019-05-22T10:30:00",
          "2019-05-22T10:33:00",
          "2019-05-22T10:36:00",
          "2019-05-22T10:39:00",
          "2019-05-22T10:42:00",
          "2019-05-22T10:45:00",
          "2019-05-22T10:48:00",
          "2019-05-22T10:51:00",
          "2019-05-22T10:54:00",
          "2019-05-22T10:57:00",
          "2019-05-22T11:00:00",
          "2019-05-22T11:03:00",
          "2019-05-22T11:06:00",
          "2019-05-22T11:09:00",
          "2019-05-22T11:12:00",
          "2019-05-22T11:15:00",
          "2019-05-22T11:18:00",
          "2019-05-22T11:21:00",
          "2019-05-22T11:24:00",
          "2019-05-22T11:27:00",
          "2019-05-22T11:30:00",
          "2019-05-22T11:33:00",
          "2019-05-22T11:36:00",
          "2019-05-22T11:39:00",
          "2019-05-22T11:42:00",
          "2019-05-22T11:45:00",
          "2019-05-22T11:48:00",
          "2019-05-22T11:51:00",
          "2019-05-22T11:54:00",
          "2019-05-22T11:57:00",
          "2019-05-22T12:00:00",
          "2019-05-22T12:03:00",
          "2019-05-22T12:06:00",
          "2019-05-22T12:09:00",
          "2019-05-22T12:12:00",
          "2019-05-22T12:15:00",
          "2019-05-22T12:18:00",
          "2019-05-22T12:21:00",
          "2019-05-22T12:24:00",
          "2019-05-22T12:27:00",
          "2019-05-22T12:30:00",
          "2019-05-22T12:33:00",
          "2019-05-22T12:36:00",
          "2019-05-22T12:39:00",
          "2019-05-22T12:42:00",
          "2019-05-22T12:45:00",
          "2019-05-22T12:48:00",
          "2019-05-22T12:51:00",
          "2019-05-22T12:54:00",
          "2019-05-22T12:57:00",
          "2019-05-22T13:00:00",
          "2019-05-22T13:03:00",
          "2019-05-22T13:06:00",
          "2019-05-22T13:09:00",
          "2019-05-22T13:12:00",
          "2019-05-22T13:15:00",
          "2019-05-22T13:18:00",
          "2019-05-22T13:21:00",
          "2019-05-22T13:24:00",
          "2019-05-22T13:27:00",
          "2019-05-22T13:30:00",
          "2019-05-22T13:33:00",
          "2019-05-22T13:36:00",
          "2019-05-22T13:39:00",
          "2019-05-22T13:42:00",
          "2019-05-22T13:45:00",
          "2019-05-22T13:48:00",
          "2019-05-22T13:51:00",
          "2019-05-22T13:54:00",
          "2019-05-22T13:57:00",
          "2019-05-22T14:00:00",
          "2019-05-22T14:03:00",
          "2019-05-22T14:06:00",
          "2019-05-22T14:09:00",
          "2019-05-22T14:12:00",
          "2019-05-22T14:15:00",
          "2019-05-22T14:18:00",
          "2019-05-22T14:21:00",
          "2019-05-22T14:24:00",
          "2019-05-22T14:27:00",
          "2019-05-22T14:30:00",
          "2019-05-22T14:33:00",
          "2019-05-22T14:36:00",
          "2019-05-22T14:39:00",
          "2019-05-22T14:42:00",
          "2019-05-22T14:45:00",
          "2019-05-22T14:48:00",
          "2019-05-22T14:51:00",
          "2019-05-22T14:54:00",
          "2019-05-22T14:57:00",
          "2019-05-22T15:00:00",
          "2019-05-22T15:03:00",
          "2019-05-22T15:06:00",
          "2019-05-22T15:09:00",
          "2019-05-22T15:12:00",
          "2019-05-22T15:15:00",
          "2019-05-22T15:18:00",
          "2019-05-22T15:21:00",
          "2019-05-22T15:24:00",
          "2019-05-22T15:27:00",
          "2019-05-22T15:30:00",
          "2019-05-22T15:33:00",
          "2019-05-22T15:36:00",
          "2019-05-22T15:39:00",
          "2019-05-22T15:42:00",
          "2019-05-22T15:45:00",
          "2019-05-22T15:48:00",
          "2019-05-22T15:51:00",
          "2019-05-22T15:54:00",
          "2019-05-22T15:57:00",
          "2019-05-22T16:00:00",
          "2019-05-22T16:03:00",
          "2019-05-22T16:06:00",
          "2019-05-22T16:09:00",
          "2019-05-22T16:12:00",
          "2019-05-22T16:15:00",
          "2019-05-22T16:18:00",
          "2019-05-22T16:21:00",
          "2019-05-22T16:24:00",
          "2019-05-22T16:27:00",
          "2019-05-22T16:30:00",
          "2019-05-22T16:33:00",
          "2019-05-22T16:36:00",
          "2019-05-22T16:39:00",
          "2019-05-22T16:42:00",
          "2019-05-22T16:45:00",
          "2019-05-22T16:48:00",
          "2019-05-22T16:51:00",
          "2019-05-22T16:54:00",
          "2019-05-22T16:57:00",
          "2019-05-22T17:00:00",
          "2019-05-22T17:03:00",
          "2019-05-22T17:06:00",
          "2019-05-22T17:09:00",
          "2019-05-22T17:12:00",
          "2019-05-22T17:15:00",
          "2019-05-22T17:18:00",
          "2019-05-22T17:21:00",
          "2019-05-22T17:24:00",
          "2019-05-22T17:27:00",
          "2019-05-22T17:30:00",
          "2019-05-22T17:33:00",
          "2019-05-22T17:36:00",
          "2019-05-22T17:39:00",
          "2019-05-22T17:42:00",
          "2019-05-22T17:45:00",
          "2019-05-22T17:48:00",
          "2019-05-22T17:51:00",
          "2019-05-22T17:54:00",
          "2019-05-22T17:57:00",
          "2019-05-22T18:00:00",
          "2019-05-22T18:03:00",
          "2019-05-22T18:06:00",
          "2019-05-22T18:09:00",
          "2019-05-22T18:12:00",
          "2019-05-22T18:15:00",
          "2019-05-22T18:18:00",
          "2019-05-22T18:21:00",
          "2019-05-22T18:24:00",
          "2019-05-22T18:27:00",
          "2019-05-22T18:30:00",
          "2019-05-22T18:33:00",
          "2019-05-22T18:36:00",
          "2019-05-22T18:39:00",
          "2019-05-22T18:42:00",
          "2019-05-22T18:45:00",
          "2019-05-22T18:48:00",
          "2019-05-22T18:51:00",
          "2019-05-22T18:54:00",
          "2019-05-22T18:57:00",
          "2019-05-22T19:00:00",
          "2019-05-22T19:03:00",
          "2019-05-22T19:06:00",
          "2019-05-22T19:09:00",
          "2019-05-22T19:12:00",
          "2019-05-22T19:15:00",
          "2019-05-22T19:18:00",
          "2019-05-22T19:21:00",
          "2019-05-22T19:24:00",
          "2019-05-22T19:27:00",
          "2019-05-22T19:30:00",
          "2019-05-22T19:33:00",
          "2019-05-22T19:36:00",
          "2019-05-22T19:39:00",
          "2019-05-22T19:42:00",
          "2019-05-22T19:45:00",
          "2019-05-22T19:48:00",
          "2019-05-22T19:51:00",
          "2019-05-22T19:54:00",
          "2019-05-22T19:57:00",
          "2019-05-22T20:00:00",
          "2019-05-22T20:03:00",
          "2019-05-22T20:06:00",
          "2019-05-22T20:09:00",
          "2019-05-22T20:12:00",
          "2019-05-22T20:15:00",
          "2019-05-22T20:18:00",
          "2019-05-22T20:21:00",
          "2019-05-22T20:24:00",
          "2019-05-22T20:27:00",
          "2019-05-22T20:30:00",
          "2019-05-22T20:33:00",
          "2019-05-22T20:36:00",
          "2019-05-22T20:39:00",
          "2019-05-22T20:42:00",
          "2019-05-22T20:45:00",
          "2019-05-22T20:48:00",
          "2019-05-22T20:51:00",
          "2019-05-22T20:54:00",
          "2019-05-22T20:57:00",
          "2019-05-22T21:00:00",
          "2019-05-22T21:03:00",
          "2019-05-22T21:06:00",
          "2019-05-22T21:09:00",
          "2019-05-22T21:12:00",
          "2019-05-22T21:15:00",
          "2019-05-22T21:18:00",
          "2019-05-22T21:21:00",
          "2019-05-22T21:24:00",
          "2019-05-22T21:27:00",
          "2019-05-22T21:30:00",
          "2019-05-22T21:33:00",
          "2019-05-22T21:36:00",
          "2019-05-22T21:39:00",
          "2019-05-22T21:42:00",
          "2019-05-22T21:45:00",
          "2019-05-22T21:48:00",
          "2019-05-22T21:51:00",
          "2019-05-22T21:54:00",
          "2019-05-22T21:57:00",
          "2019-05-22T22:00:00",
          "2019-05-22T22:03:00",
          "2019-05-22T22:06:00",
          "2019-05-22T22:09:00",
          "2019-05-22T22:12:00",
          "2019-05-22T22:15:00",
          "2019-05-22T22:18:00",
          "2019-05-22T22:21:00",
          "2019-05-22T22:24:00",
          "2019-05-22T22:27:00",
          "2019-05-22T22:30:00",
          "2019-05-22T22:33:00",
          "2019-05-22T22:36:00",
          "2019-05-22T22:39:00",
          "2019-05-22T22:42:00",
          "2019-05-22T22:45:00",
          "2019-05-22T22:48:00",
          "2019-05-22T22:51:00",
          "2019-05-22T22:54:00",
          "2019-05-22T22:57:00",
          "2019-05-22T23:00:00",
          "2019-05-22T23:03:00",
          "2019-05-22T23:06:00",
          "2019-05-22T23:09:00",
          "2019-05-22T23:12:00",
          "2019-05-22T23:15:00",
          "2019-05-22T23:18:00",
          "2019-05-22T23:21:00",
          "2019-05-22T23:24:00",
          "2019-05-22T23:27:00",
          "2019-05-22T23:30:00",
          "2019-05-22T23:33:00",
          "2019-05-22T23:36:00",
          "2019-05-22T23:39:00",
          "2019-05-22T23:42:00",
          "2019-05-22T23:45:00",
          "2019-05-22T23:48:00",
          "2019-05-22T23:51:00",
          "2019-05-22T23:54:00",
          "2019-05-22T23:57:00"
         ],
         "xaxis": "x",
         "y": [
          3020,
          2980,
          3000,
          2980,
          3020,
          3000,
          2980,
          3060,
          3000,
          3080,
          3000,
          3020,
          3020,
          2980,
          3000,
          2960.0000000000005,
          3020,
          3000,
          3000,
          2960.0000000000005,
          3020,
          3000,
          2900,
          2920,
          2940,
          2940,
          2920,
          2920,
          2920,
          2920,
          2920,
          2920,
          2900,
          2940,
          2900,
          2920,
          2940,
          2940,
          2900,
          2940,
          2920,
          2800.0000000000005,
          2580,
          2560,
          2780.0000000000005,
          2880.0000000000005,
          2860.0000000000005,
          2839.9999999999995,
          2860.0000000000005,
          2839.9999999999995,
          2839.9999999999995,
          2819.9999999999995,
          2600,
          2520,
          2520,
          2520,
          2520,
          2540,
          2480,
          2520,
          1160,
          2000,
          2580,
          2600,
          2540,
          2580,
          2680,
          2720,
          2680,
          2760.0000000000005,
          2700,
          2720,
          2660,
          2680,
          2620,
          2640,
          2600,
          2600,
          2580,
          2560,
          2560,
          2580,
          2580,
          2560,
          2580,
          2580,
          2600,
          2120,
          1440.0000000000002,
          2680,
          2739.9999999999995,
          2780.0000000000005,
          2540,
          2780.0000000000005,
          2760.0000000000005,
          2760.0000000000005,
          2000,
          420,
          1680,
          2520,
          2560,
          2540,
          2480,
          2460,
          2500,
          2440,
          2480,
          2500,
          2440,
          2460,
          2400,
          2440,
          2480,
          2720,
          2660,
          800,
          0,
          0,
          0,
          2200,
          0,
          0,
          0,
          0,
          0,
          0,
          0,
          340,
          2360,
          2440,
          2520,
          2600,
          2620,
          2600,
          2700,
          840,
          820,
          840,
          840,
          820,
          760,
          660,
          640,
          600,
          580,
          540.0000000000001,
          520,
          460,
          460,
          440,
          480,
          480,
          440,
          440,
          420,
          420,
          440,
          420,
          400,
          420,
          240,
          0,
          0,
          0,
          0,
          0,
          0,
          0,
          0,
          0,
          0,
          0,
          0,
          0,
          0,
          0,
          0,
          0,
          260,
          280,
          560,
          600,
          520,
          0,
          0,
          380,
          620,
          760,
          840,
          700.0000000000001,
          700.0000000000001,
          620,
          620,
          740.0000000000001,
          740.0000000000001,
          680,
          620,
          540.0000000000001,
          520,
          520,
          500,
          460,
          460,
          420,
          360.00000000000006,
          360.00000000000006,
          20,
          0,
          0,
          0,
          460,
          640,
          400,
          380,
          320,
          280,
          280,
          280,
          280,
          260,
          240,
          260,
          240,
          260,
          240,
          240,
          240,
          240,
          240,
          240,
          220,
          240,
          160,
          160,
          160,
          180.00000000000003,
          160,
          180.00000000000003,
          160,
          220,
          360.00000000000006,
          400,
          380,
          400,
          360.00000000000006,
          340,
          340,
          340,
          340,
          260,
          260,
          260,
          260,
          260,
          260,
          300,
          340,
          260,
          260,
          260,
          260,
          320,
          320,
          320,
          320,
          320,
          320,
          340,
          360.00000000000006,
          400,
          400,
          320,
          400,
          500,
          500,
          500,
          560,
          520,
          480,
          500,
          520,
          480,
          500,
          500,
          500,
          1780.0000000000002,
          3060,
          3100,
          3140,
          3100,
          2880.0000000000005,
          2819.9999999999995,
          2800.0000000000005,
          2780.0000000000005,
          2780.0000000000005,
          2800.0000000000005,
          1600,
          0,
          340,
          2920,
          2960.0000000000005,
          2760.0000000000005,
          2819.9999999999995,
          2800.0000000000005,
          2819.9999999999995,
          2780.0000000000005,
          1400.0000000000002,
          400,
          340,
          340,
          320,
          340,
          320,
          340,
          320,
          340,
          340,
          340,
          340,
          340,
          0,
          0,
          0,
          0,
          0,
          500,
          540.0000000000001,
          580,
          440,
          420,
          420,
          400,
          420,
          380,
          420,
          360.00000000000006,
          340,
          340,
          320,
          340,
          340,
          340,
          360.00000000000006,
          340,
          300,
          280,
          320,
          380,
          360.00000000000006,
          360.00000000000006,
          380,
          360.00000000000006,
          380,
          360.00000000000006,
          380,
          320,
          180.00000000000003,
          0,
          0,
          0,
          0,
          220,
          520,
          420,
          380,
          360.00000000000006,
          380,
          340,
          280,
          300,
          300,
          300,
          300,
          300,
          300,
          300,
          300,
          320,
          300,
          300,
          0,
          180.00000000000003,
          440,
          180.00000000000003,
          0,
          0,
          0,
          0,
          0,
          0,
          0,
          0,
          240,
          660,
          660,
          680,
          680,
          620,
          560,
          500,
          1760.0000000000002,
          2120,
          2060,
          2080,
          1460,
          560,
          1040,
          2640,
          2739.9999999999995,
          2700,
          2760.0000000000005,
          2739.9999999999995,
          2739.9999999999995,
          2620,
          2600,
          2600,
          2540,
          2600,
          2560,
          2560,
          2560,
          2580,
          2540,
          2560,
          2660,
          2600,
          2500,
          2340,
          2360,
          2720,
          2880.0000000000005,
          2800.0000000000005,
          2819.9999999999995,
          2900,
          3640,
          4360,
          4380,
          3060,
          2720,
          2640,
          2720,
          2680,
          2640,
          2620,
          2800.0000000000005,
          2760.0000000000005,
          2780.0000000000005,
          2819.9999999999995,
          2819.9999999999995,
          2900,
          2819.9999999999995,
          2880.0000000000005,
          3020,
          2920,
          2900,
          2860.0000000000005,
          2940,
          2960.0000000000005,
          2940,
          2960.0000000000005,
          2860.0000000000005,
          2900,
          2880.0000000000005,
          2860.0000000000005,
          2819.9999999999995,
          2860.0000000000005,
          2900,
          2920,
          2880.0000000000005,
          2920,
          2900,
          2960.0000000000005,
          2940,
          2960.0000000000005,
          3000,
          2960.0000000000005,
          2980,
          2940,
          2980,
          3000
         ],
         "yaxis": "y"
        }
       ],
       "layout": {
        "legend": {
         "title": {
          "text": "variable"
         },
         "tracegroupgap": 0
        },
        "margin": {
         "t": 60
        },
        "template": {
         "data": {
          "bar": [
           {
            "error_x": {
             "color": "#2a3f5f"
            },
            "error_y": {
             "color": "#2a3f5f"
            },
            "marker": {
             "line": {
              "color": "#E5ECF6",
              "width": 0.5
             }
            },
            "type": "bar"
           }
          ],
          "barpolar": [
           {
            "marker": {
             "line": {
              "color": "#E5ECF6",
              "width": 0.5
             }
            },
            "type": "barpolar"
           }
          ],
          "carpet": [
           {
            "aaxis": {
             "endlinecolor": "#2a3f5f",
             "gridcolor": "white",
             "linecolor": "white",
             "minorgridcolor": "white",
             "startlinecolor": "#2a3f5f"
            },
            "baxis": {
             "endlinecolor": "#2a3f5f",
             "gridcolor": "white",
             "linecolor": "white",
             "minorgridcolor": "white",
             "startlinecolor": "#2a3f5f"
            },
            "type": "carpet"
           }
          ],
          "choropleth": [
           {
            "colorbar": {
             "outlinewidth": 0,
             "ticks": ""
            },
            "type": "choropleth"
           }
          ],
          "contour": [
           {
            "colorbar": {
             "outlinewidth": 0,
             "ticks": ""
            },
            "colorscale": [
             [
              0,
              "#0d0887"
             ],
             [
              0.1111111111111111,
              "#46039f"
             ],
             [
              0.2222222222222222,
              "#7201a8"
             ],
             [
              0.3333333333333333,
              "#9c179e"
             ],
             [
              0.4444444444444444,
              "#bd3786"
             ],
             [
              0.5555555555555556,
              "#d8576b"
             ],
             [
              0.6666666666666666,
              "#ed7953"
             ],
             [
              0.7777777777777778,
              "#fb9f3a"
             ],
             [
              0.8888888888888888,
              "#fdca26"
             ],
             [
              1,
              "#f0f921"
             ]
            ],
            "type": "contour"
           }
          ],
          "contourcarpet": [
           {
            "colorbar": {
             "outlinewidth": 0,
             "ticks": ""
            },
            "type": "contourcarpet"
           }
          ],
          "heatmap": [
           {
            "colorbar": {
             "outlinewidth": 0,
             "ticks": ""
            },
            "colorscale": [
             [
              0,
              "#0d0887"
             ],
             [
              0.1111111111111111,
              "#46039f"
             ],
             [
              0.2222222222222222,
              "#7201a8"
             ],
             [
              0.3333333333333333,
              "#9c179e"
             ],
             [
              0.4444444444444444,
              "#bd3786"
             ],
             [
              0.5555555555555556,
              "#d8576b"
             ],
             [
              0.6666666666666666,
              "#ed7953"
             ],
             [
              0.7777777777777778,
              "#fb9f3a"
             ],
             [
              0.8888888888888888,
              "#fdca26"
             ],
             [
              1,
              "#f0f921"
             ]
            ],
            "type": "heatmap"
           }
          ],
          "heatmapgl": [
           {
            "colorbar": {
             "outlinewidth": 0,
             "ticks": ""
            },
            "colorscale": [
             [
              0,
              "#0d0887"
             ],
             [
              0.1111111111111111,
              "#46039f"
             ],
             [
              0.2222222222222222,
              "#7201a8"
             ],
             [
              0.3333333333333333,
              "#9c179e"
             ],
             [
              0.4444444444444444,
              "#bd3786"
             ],
             [
              0.5555555555555556,
              "#d8576b"
             ],
             [
              0.6666666666666666,
              "#ed7953"
             ],
             [
              0.7777777777777778,
              "#fb9f3a"
             ],
             [
              0.8888888888888888,
              "#fdca26"
             ],
             [
              1,
              "#f0f921"
             ]
            ],
            "type": "heatmapgl"
           }
          ],
          "histogram": [
           {
            "marker": {
             "colorbar": {
              "outlinewidth": 0,
              "ticks": ""
             }
            },
            "type": "histogram"
           }
          ],
          "histogram2d": [
           {
            "colorbar": {
             "outlinewidth": 0,
             "ticks": ""
            },
            "colorscale": [
             [
              0,
              "#0d0887"
             ],
             [
              0.1111111111111111,
              "#46039f"
             ],
             [
              0.2222222222222222,
              "#7201a8"
             ],
             [
              0.3333333333333333,
              "#9c179e"
             ],
             [
              0.4444444444444444,
              "#bd3786"
             ],
             [
              0.5555555555555556,
              "#d8576b"
             ],
             [
              0.6666666666666666,
              "#ed7953"
             ],
             [
              0.7777777777777778,
              "#fb9f3a"
             ],
             [
              0.8888888888888888,
              "#fdca26"
             ],
             [
              1,
              "#f0f921"
             ]
            ],
            "type": "histogram2d"
           }
          ],
          "histogram2dcontour": [
           {
            "colorbar": {
             "outlinewidth": 0,
             "ticks": ""
            },
            "colorscale": [
             [
              0,
              "#0d0887"
             ],
             [
              0.1111111111111111,
              "#46039f"
             ],
             [
              0.2222222222222222,
              "#7201a8"
             ],
             [
              0.3333333333333333,
              "#9c179e"
             ],
             [
              0.4444444444444444,
              "#bd3786"
             ],
             [
              0.5555555555555556,
              "#d8576b"
             ],
             [
              0.6666666666666666,
              "#ed7953"
             ],
             [
              0.7777777777777778,
              "#fb9f3a"
             ],
             [
              0.8888888888888888,
              "#fdca26"
             ],
             [
              1,
              "#f0f921"
             ]
            ],
            "type": "histogram2dcontour"
           }
          ],
          "mesh3d": [
           {
            "colorbar": {
             "outlinewidth": 0,
             "ticks": ""
            },
            "type": "mesh3d"
           }
          ],
          "parcoords": [
           {
            "line": {
             "colorbar": {
              "outlinewidth": 0,
              "ticks": ""
             }
            },
            "type": "parcoords"
           }
          ],
          "pie": [
           {
            "automargin": true,
            "type": "pie"
           }
          ],
          "scatter": [
           {
            "marker": {
             "colorbar": {
              "outlinewidth": 0,
              "ticks": ""
             }
            },
            "type": "scatter"
           }
          ],
          "scatter3d": [
           {
            "line": {
             "colorbar": {
              "outlinewidth": 0,
              "ticks": ""
             }
            },
            "marker": {
             "colorbar": {
              "outlinewidth": 0,
              "ticks": ""
             }
            },
            "type": "scatter3d"
           }
          ],
          "scattercarpet": [
           {
            "marker": {
             "colorbar": {
              "outlinewidth": 0,
              "ticks": ""
             }
            },
            "type": "scattercarpet"
           }
          ],
          "scattergeo": [
           {
            "marker": {
             "colorbar": {
              "outlinewidth": 0,
              "ticks": ""
             }
            },
            "type": "scattergeo"
           }
          ],
          "scattergl": [
           {
            "marker": {
             "colorbar": {
              "outlinewidth": 0,
              "ticks": ""
             }
            },
            "type": "scattergl"
           }
          ],
          "scattermapbox": [
           {
            "marker": {
             "colorbar": {
              "outlinewidth": 0,
              "ticks": ""
             }
            },
            "type": "scattermapbox"
           }
          ],
          "scatterpolar": [
           {
            "marker": {
             "colorbar": {
              "outlinewidth": 0,
              "ticks": ""
             }
            },
            "type": "scatterpolar"
           }
          ],
          "scatterpolargl": [
           {
            "marker": {
             "colorbar": {
              "outlinewidth": 0,
              "ticks": ""
             }
            },
            "type": "scatterpolargl"
           }
          ],
          "scatterternary": [
           {
            "marker": {
             "colorbar": {
              "outlinewidth": 0,
              "ticks": ""
             }
            },
            "type": "scatterternary"
           }
          ],
          "surface": [
           {
            "colorbar": {
             "outlinewidth": 0,
             "ticks": ""
            },
            "colorscale": [
             [
              0,
              "#0d0887"
             ],
             [
              0.1111111111111111,
              "#46039f"
             ],
             [
              0.2222222222222222,
              "#7201a8"
             ],
             [
              0.3333333333333333,
              "#9c179e"
             ],
             [
              0.4444444444444444,
              "#bd3786"
             ],
             [
              0.5555555555555556,
              "#d8576b"
             ],
             [
              0.6666666666666666,
              "#ed7953"
             ],
             [
              0.7777777777777778,
              "#fb9f3a"
             ],
             [
              0.8888888888888888,
              "#fdca26"
             ],
             [
              1,
              "#f0f921"
             ]
            ],
            "type": "surface"
           }
          ],
          "table": [
           {
            "cells": {
             "fill": {
              "color": "#EBF0F8"
             },
             "line": {
              "color": "white"
             }
            },
            "header": {
             "fill": {
              "color": "#C8D4E3"
             },
             "line": {
              "color": "white"
             }
            },
            "type": "table"
           }
          ]
         },
         "layout": {
          "annotationdefaults": {
           "arrowcolor": "#2a3f5f",
           "arrowhead": 0,
           "arrowwidth": 1
          },
          "coloraxis": {
           "colorbar": {
            "outlinewidth": 0,
            "ticks": ""
           }
          },
          "colorscale": {
           "diverging": [
            [
             0,
             "#8e0152"
            ],
            [
             0.1,
             "#c51b7d"
            ],
            [
             0.2,
             "#de77ae"
            ],
            [
             0.3,
             "#f1b6da"
            ],
            [
             0.4,
             "#fde0ef"
            ],
            [
             0.5,
             "#f7f7f7"
            ],
            [
             0.6,
             "#e6f5d0"
            ],
            [
             0.7,
             "#b8e186"
            ],
            [
             0.8,
             "#7fbc41"
            ],
            [
             0.9,
             "#4d9221"
            ],
            [
             1,
             "#276419"
            ]
           ],
           "sequential": [
            [
             0,
             "#0d0887"
            ],
            [
             0.1111111111111111,
             "#46039f"
            ],
            [
             0.2222222222222222,
             "#7201a8"
            ],
            [
             0.3333333333333333,
             "#9c179e"
            ],
            [
             0.4444444444444444,
             "#bd3786"
            ],
            [
             0.5555555555555556,
             "#d8576b"
            ],
            [
             0.6666666666666666,
             "#ed7953"
            ],
            [
             0.7777777777777778,
             "#fb9f3a"
            ],
            [
             0.8888888888888888,
             "#fdca26"
            ],
            [
             1,
             "#f0f921"
            ]
           ],
           "sequentialminus": [
            [
             0,
             "#0d0887"
            ],
            [
             0.1111111111111111,
             "#46039f"
            ],
            [
             0.2222222222222222,
             "#7201a8"
            ],
            [
             0.3333333333333333,
             "#9c179e"
            ],
            [
             0.4444444444444444,
             "#bd3786"
            ],
            [
             0.5555555555555556,
             "#d8576b"
            ],
            [
             0.6666666666666666,
             "#ed7953"
            ],
            [
             0.7777777777777778,
             "#fb9f3a"
            ],
            [
             0.8888888888888888,
             "#fdca26"
            ],
            [
             1,
             "#f0f921"
            ]
           ]
          },
          "colorway": [
           "#636efa",
           "#EF553B",
           "#00cc96",
           "#ab63fa",
           "#FFA15A",
           "#19d3f3",
           "#FF6692",
           "#B6E880",
           "#FF97FF",
           "#FECB52"
          ],
          "font": {
           "color": "#2a3f5f"
          },
          "geo": {
           "bgcolor": "white",
           "lakecolor": "white",
           "landcolor": "#E5ECF6",
           "showlakes": true,
           "showland": true,
           "subunitcolor": "white"
          },
          "hoverlabel": {
           "align": "left"
          },
          "hovermode": "closest",
          "mapbox": {
           "style": "light"
          },
          "paper_bgcolor": "white",
          "plot_bgcolor": "#E5ECF6",
          "polar": {
           "angularaxis": {
            "gridcolor": "white",
            "linecolor": "white",
            "ticks": ""
           },
           "bgcolor": "#E5ECF6",
           "radialaxis": {
            "gridcolor": "white",
            "linecolor": "white",
            "ticks": ""
           }
          },
          "scene": {
           "xaxis": {
            "backgroundcolor": "#E5ECF6",
            "gridcolor": "white",
            "gridwidth": 2,
            "linecolor": "white",
            "showbackground": true,
            "ticks": "",
            "zerolinecolor": "white"
           },
           "yaxis": {
            "backgroundcolor": "#E5ECF6",
            "gridcolor": "white",
            "gridwidth": 2,
            "linecolor": "white",
            "showbackground": true,
            "ticks": "",
            "zerolinecolor": "white"
           },
           "zaxis": {
            "backgroundcolor": "#E5ECF6",
            "gridcolor": "white",
            "gridwidth": 2,
            "linecolor": "white",
            "showbackground": true,
            "ticks": "",
            "zerolinecolor": "white"
           }
          },
          "shapedefaults": {
           "line": {
            "color": "#2a3f5f"
           }
          },
          "ternary": {
           "aaxis": {
            "gridcolor": "white",
            "linecolor": "white",
            "ticks": ""
           },
           "baxis": {
            "gridcolor": "white",
            "linecolor": "white",
            "ticks": ""
           },
           "bgcolor": "#E5ECF6",
           "caxis": {
            "gridcolor": "white",
            "linecolor": "white",
            "ticks": ""
           }
          },
          "title": {
           "x": 0.05
          },
          "xaxis": {
           "automargin": true,
           "gridcolor": "white",
           "linecolor": "white",
           "ticks": "",
           "title": {
            "standoff": 15
           },
           "zerolinecolor": "white",
           "zerolinewidth": 2
          },
          "yaxis": {
           "automargin": true,
           "gridcolor": "white",
           "linecolor": "white",
           "ticks": "",
           "title": {
            "standoff": 15
           },
           "zerolinecolor": "white",
           "zerolinewidth": 2
          }
         }
        },
        "xaxis": {
         "anchor": "y",
         "domain": [
          0,
          1
         ],
         "title": {
          "text": "x_Timestamp"
         }
        },
        "yaxis": {
         "anchor": "x",
         "domain": [
          0,
          1
         ],
         "title": {
          "text": "value"
         }
        }
       }
      },
      "text/html": [
       "<div>\n",
       "        \n",
       "        \n",
       "            <div id=\"cae5ba8c-0149-4acb-80ba-6e10c8673e03\" class=\"plotly-graph-div\" style=\"height:525px; width:100%;\"></div>\n",
       "            <script type=\"text/javascript\">\n",
       "                require([\"plotly\"], function(Plotly) {\n",
       "                    window.PLOTLYENV=window.PLOTLYENV || {};\n",
       "                    \n",
       "                if (document.getElementById(\"cae5ba8c-0149-4acb-80ba-6e10c8673e03\")) {\n",
       "                    Plotly.newPlot(\n",
       "                        'cae5ba8c-0149-4acb-80ba-6e10c8673e03',\n",
       "                        [{\"hovertemplate\": \"variable=power<br>x_Timestamp=%{x}<br>value=%{y}<extra></extra>\", \"legendgroup\": \"power\", \"line\": {\"color\": \"#636efa\", \"dash\": \"solid\"}, \"mode\": \"lines\", \"name\": \"power\", \"orientation\": \"v\", \"showlegend\": true, \"type\": \"scatter\", \"x\": [\"2019-05-22T00:00:00\", \"2019-05-22T00:03:00\", \"2019-05-22T00:06:00\", \"2019-05-22T00:09:00\", \"2019-05-22T00:12:00\", \"2019-05-22T00:15:00\", \"2019-05-22T00:18:00\", \"2019-05-22T00:21:00\", \"2019-05-22T00:24:00\", \"2019-05-22T00:27:00\", \"2019-05-22T00:30:00\", \"2019-05-22T00:33:00\", \"2019-05-22T00:36:00\", \"2019-05-22T00:39:00\", \"2019-05-22T00:42:00\", \"2019-05-22T00:45:00\", \"2019-05-22T00:48:00\", \"2019-05-22T00:51:00\", \"2019-05-22T00:54:00\", \"2019-05-22T00:57:00\", \"2019-05-22T01:00:00\", \"2019-05-22T01:03:00\", \"2019-05-22T01:06:00\", \"2019-05-22T01:09:00\", \"2019-05-22T01:12:00\", \"2019-05-22T01:15:00\", \"2019-05-22T01:18:00\", \"2019-05-22T01:21:00\", \"2019-05-22T01:24:00\", \"2019-05-22T01:27:00\", \"2019-05-22T01:30:00\", \"2019-05-22T01:33:00\", \"2019-05-22T01:36:00\", \"2019-05-22T01:39:00\", \"2019-05-22T01:42:00\", \"2019-05-22T01:45:00\", \"2019-05-22T01:48:00\", \"2019-05-22T01:51:00\", \"2019-05-22T01:54:00\", \"2019-05-22T01:57:00\", \"2019-05-22T02:00:00\", \"2019-05-22T02:03:00\", \"2019-05-22T02:06:00\", \"2019-05-22T02:09:00\", \"2019-05-22T02:12:00\", \"2019-05-22T02:15:00\", \"2019-05-22T02:18:00\", \"2019-05-22T02:21:00\", \"2019-05-22T02:24:00\", \"2019-05-22T02:27:00\", \"2019-05-22T02:30:00\", \"2019-05-22T02:33:00\", \"2019-05-22T02:36:00\", \"2019-05-22T02:39:00\", \"2019-05-22T02:42:00\", \"2019-05-22T02:45:00\", \"2019-05-22T02:48:00\", \"2019-05-22T02:51:00\", \"2019-05-22T02:54:00\", \"2019-05-22T02:57:00\", \"2019-05-22T03:00:00\", \"2019-05-22T03:03:00\", \"2019-05-22T03:06:00\", \"2019-05-22T03:09:00\", \"2019-05-22T03:12:00\", \"2019-05-22T03:15:00\", \"2019-05-22T03:18:00\", \"2019-05-22T03:21:00\", \"2019-05-22T03:24:00\", \"2019-05-22T03:27:00\", \"2019-05-22T03:30:00\", \"2019-05-22T03:33:00\", \"2019-05-22T03:36:00\", \"2019-05-22T03:39:00\", \"2019-05-22T03:42:00\", \"2019-05-22T03:45:00\", \"2019-05-22T03:48:00\", \"2019-05-22T03:51:00\", \"2019-05-22T03:54:00\", \"2019-05-22T03:57:00\", \"2019-05-22T04:00:00\", \"2019-05-22T04:03:00\", \"2019-05-22T04:06:00\", \"2019-05-22T04:09:00\", \"2019-05-22T04:12:00\", \"2019-05-22T04:15:00\", \"2019-05-22T04:18:00\", \"2019-05-22T04:21:00\", \"2019-05-22T04:24:00\", \"2019-05-22T04:27:00\", \"2019-05-22T04:30:00\", \"2019-05-22T04:33:00\", \"2019-05-22T04:36:00\", \"2019-05-22T04:39:00\", \"2019-05-22T04:42:00\", \"2019-05-22T04:45:00\", \"2019-05-22T04:48:00\", \"2019-05-22T04:51:00\", \"2019-05-22T04:54:00\", \"2019-05-22T04:57:00\", \"2019-05-22T05:00:00\", \"2019-05-22T05:03:00\", \"2019-05-22T05:06:00\", \"2019-05-22T05:09:00\", \"2019-05-22T05:12:00\", \"2019-05-22T05:15:00\", \"2019-05-22T05:18:00\", \"2019-05-22T05:21:00\", \"2019-05-22T05:24:00\", \"2019-05-22T05:27:00\", \"2019-05-22T05:30:00\", \"2019-05-22T05:33:00\", \"2019-05-22T05:36:00\", \"2019-05-22T05:39:00\", \"2019-05-22T05:42:00\", \"2019-05-22T05:45:00\", \"2019-05-22T05:48:00\", \"2019-05-22T05:51:00\", \"2019-05-22T05:54:00\", \"2019-05-22T05:57:00\", \"2019-05-22T06:00:00\", \"2019-05-22T06:03:00\", \"2019-05-22T06:06:00\", \"2019-05-22T06:09:00\", \"2019-05-22T06:12:00\", \"2019-05-22T06:15:00\", \"2019-05-22T06:18:00\", \"2019-05-22T06:21:00\", \"2019-05-22T06:24:00\", \"2019-05-22T06:27:00\", \"2019-05-22T06:30:00\", \"2019-05-22T06:33:00\", \"2019-05-22T06:36:00\", \"2019-05-22T06:39:00\", \"2019-05-22T06:42:00\", \"2019-05-22T06:45:00\", \"2019-05-22T06:48:00\", \"2019-05-22T06:51:00\", \"2019-05-22T06:54:00\", \"2019-05-22T06:57:00\", \"2019-05-22T07:00:00\", \"2019-05-22T07:03:00\", \"2019-05-22T07:06:00\", \"2019-05-22T07:09:00\", \"2019-05-22T07:12:00\", \"2019-05-22T07:15:00\", \"2019-05-22T07:18:00\", \"2019-05-22T07:21:00\", \"2019-05-22T07:24:00\", \"2019-05-22T07:27:00\", \"2019-05-22T07:30:00\", \"2019-05-22T07:33:00\", \"2019-05-22T07:36:00\", \"2019-05-22T07:39:00\", \"2019-05-22T07:42:00\", \"2019-05-22T07:45:00\", \"2019-05-22T07:48:00\", \"2019-05-22T07:51:00\", \"2019-05-22T07:54:00\", \"2019-05-22T07:57:00\", \"2019-05-22T08:00:00\", \"2019-05-22T08:03:00\", \"2019-05-22T08:06:00\", \"2019-05-22T08:09:00\", \"2019-05-22T08:12:00\", \"2019-05-22T08:15:00\", \"2019-05-22T08:18:00\", \"2019-05-22T08:21:00\", \"2019-05-22T08:24:00\", \"2019-05-22T08:27:00\", \"2019-05-22T08:30:00\", \"2019-05-22T08:33:00\", \"2019-05-22T08:36:00\", \"2019-05-22T08:39:00\", \"2019-05-22T08:42:00\", \"2019-05-22T08:45:00\", \"2019-05-22T08:48:00\", \"2019-05-22T08:51:00\", \"2019-05-22T08:54:00\", \"2019-05-22T08:57:00\", \"2019-05-22T09:00:00\", \"2019-05-22T09:03:00\", \"2019-05-22T09:06:00\", \"2019-05-22T09:09:00\", \"2019-05-22T09:12:00\", \"2019-05-22T09:15:00\", \"2019-05-22T09:18:00\", \"2019-05-22T09:21:00\", \"2019-05-22T09:24:00\", \"2019-05-22T09:27:00\", \"2019-05-22T09:30:00\", \"2019-05-22T09:33:00\", \"2019-05-22T09:36:00\", \"2019-05-22T09:39:00\", \"2019-05-22T09:42:00\", \"2019-05-22T09:45:00\", \"2019-05-22T09:48:00\", \"2019-05-22T09:51:00\", \"2019-05-22T09:54:00\", \"2019-05-22T09:57:00\", \"2019-05-22T10:00:00\", \"2019-05-22T10:03:00\", \"2019-05-22T10:06:00\", \"2019-05-22T10:09:00\", \"2019-05-22T10:12:00\", \"2019-05-22T10:15:00\", \"2019-05-22T10:18:00\", \"2019-05-22T10:21:00\", \"2019-05-22T10:24:00\", \"2019-05-22T10:27:00\", \"2019-05-22T10:30:00\", \"2019-05-22T10:33:00\", \"2019-05-22T10:36:00\", \"2019-05-22T10:39:00\", \"2019-05-22T10:42:00\", \"2019-05-22T10:45:00\", \"2019-05-22T10:48:00\", \"2019-05-22T10:51:00\", \"2019-05-22T10:54:00\", \"2019-05-22T10:57:00\", \"2019-05-22T11:00:00\", \"2019-05-22T11:03:00\", \"2019-05-22T11:06:00\", \"2019-05-22T11:09:00\", \"2019-05-22T11:12:00\", \"2019-05-22T11:15:00\", \"2019-05-22T11:18:00\", \"2019-05-22T11:21:00\", \"2019-05-22T11:24:00\", \"2019-05-22T11:27:00\", \"2019-05-22T11:30:00\", \"2019-05-22T11:33:00\", \"2019-05-22T11:36:00\", \"2019-05-22T11:39:00\", \"2019-05-22T11:42:00\", \"2019-05-22T11:45:00\", \"2019-05-22T11:48:00\", \"2019-05-22T11:51:00\", \"2019-05-22T11:54:00\", \"2019-05-22T11:57:00\", \"2019-05-22T12:00:00\", \"2019-05-22T12:03:00\", \"2019-05-22T12:06:00\", \"2019-05-22T12:09:00\", \"2019-05-22T12:12:00\", \"2019-05-22T12:15:00\", \"2019-05-22T12:18:00\", \"2019-05-22T12:21:00\", \"2019-05-22T12:24:00\", \"2019-05-22T12:27:00\", \"2019-05-22T12:30:00\", \"2019-05-22T12:33:00\", \"2019-05-22T12:36:00\", \"2019-05-22T12:39:00\", \"2019-05-22T12:42:00\", \"2019-05-22T12:45:00\", \"2019-05-22T12:48:00\", \"2019-05-22T12:51:00\", \"2019-05-22T12:54:00\", \"2019-05-22T12:57:00\", \"2019-05-22T13:00:00\", \"2019-05-22T13:03:00\", \"2019-05-22T13:06:00\", \"2019-05-22T13:09:00\", \"2019-05-22T13:12:00\", \"2019-05-22T13:15:00\", \"2019-05-22T13:18:00\", \"2019-05-22T13:21:00\", \"2019-05-22T13:24:00\", \"2019-05-22T13:27:00\", \"2019-05-22T13:30:00\", \"2019-05-22T13:33:00\", \"2019-05-22T13:36:00\", \"2019-05-22T13:39:00\", \"2019-05-22T13:42:00\", \"2019-05-22T13:45:00\", \"2019-05-22T13:48:00\", \"2019-05-22T13:51:00\", \"2019-05-22T13:54:00\", \"2019-05-22T13:57:00\", \"2019-05-22T14:00:00\", \"2019-05-22T14:03:00\", \"2019-05-22T14:06:00\", \"2019-05-22T14:09:00\", \"2019-05-22T14:12:00\", \"2019-05-22T14:15:00\", \"2019-05-22T14:18:00\", \"2019-05-22T14:21:00\", \"2019-05-22T14:24:00\", \"2019-05-22T14:27:00\", \"2019-05-22T14:30:00\", \"2019-05-22T14:33:00\", \"2019-05-22T14:36:00\", \"2019-05-22T14:39:00\", \"2019-05-22T14:42:00\", \"2019-05-22T14:45:00\", \"2019-05-22T14:48:00\", \"2019-05-22T14:51:00\", \"2019-05-22T14:54:00\", \"2019-05-22T14:57:00\", \"2019-05-22T15:00:00\", \"2019-05-22T15:03:00\", \"2019-05-22T15:06:00\", \"2019-05-22T15:09:00\", \"2019-05-22T15:12:00\", \"2019-05-22T15:15:00\", \"2019-05-22T15:18:00\", \"2019-05-22T15:21:00\", \"2019-05-22T15:24:00\", \"2019-05-22T15:27:00\", \"2019-05-22T15:30:00\", \"2019-05-22T15:33:00\", \"2019-05-22T15:36:00\", \"2019-05-22T15:39:00\", \"2019-05-22T15:42:00\", \"2019-05-22T15:45:00\", \"2019-05-22T15:48:00\", \"2019-05-22T15:51:00\", \"2019-05-22T15:54:00\", \"2019-05-22T15:57:00\", \"2019-05-22T16:00:00\", \"2019-05-22T16:03:00\", \"2019-05-22T16:06:00\", \"2019-05-22T16:09:00\", \"2019-05-22T16:12:00\", \"2019-05-22T16:15:00\", \"2019-05-22T16:18:00\", \"2019-05-22T16:21:00\", \"2019-05-22T16:24:00\", \"2019-05-22T16:27:00\", \"2019-05-22T16:30:00\", \"2019-05-22T16:33:00\", \"2019-05-22T16:36:00\", \"2019-05-22T16:39:00\", \"2019-05-22T16:42:00\", \"2019-05-22T16:45:00\", \"2019-05-22T16:48:00\", \"2019-05-22T16:51:00\", \"2019-05-22T16:54:00\", \"2019-05-22T16:57:00\", \"2019-05-22T17:00:00\", \"2019-05-22T17:03:00\", \"2019-05-22T17:06:00\", \"2019-05-22T17:09:00\", \"2019-05-22T17:12:00\", \"2019-05-22T17:15:00\", \"2019-05-22T17:18:00\", \"2019-05-22T17:21:00\", \"2019-05-22T17:24:00\", \"2019-05-22T17:27:00\", \"2019-05-22T17:30:00\", \"2019-05-22T17:33:00\", \"2019-05-22T17:36:00\", \"2019-05-22T17:39:00\", \"2019-05-22T17:42:00\", \"2019-05-22T17:45:00\", \"2019-05-22T17:48:00\", \"2019-05-22T17:51:00\", \"2019-05-22T17:54:00\", \"2019-05-22T17:57:00\", \"2019-05-22T18:00:00\", \"2019-05-22T18:03:00\", \"2019-05-22T18:06:00\", \"2019-05-22T18:09:00\", \"2019-05-22T18:12:00\", \"2019-05-22T18:15:00\", \"2019-05-22T18:18:00\", \"2019-05-22T18:21:00\", \"2019-05-22T18:24:00\", \"2019-05-22T18:27:00\", \"2019-05-22T18:30:00\", \"2019-05-22T18:33:00\", \"2019-05-22T18:36:00\", \"2019-05-22T18:39:00\", \"2019-05-22T18:42:00\", \"2019-05-22T18:45:00\", \"2019-05-22T18:48:00\", \"2019-05-22T18:51:00\", \"2019-05-22T18:54:00\", \"2019-05-22T18:57:00\", \"2019-05-22T19:00:00\", \"2019-05-22T19:03:00\", \"2019-05-22T19:06:00\", \"2019-05-22T19:09:00\", \"2019-05-22T19:12:00\", \"2019-05-22T19:15:00\", \"2019-05-22T19:18:00\", \"2019-05-22T19:21:00\", \"2019-05-22T19:24:00\", \"2019-05-22T19:27:00\", \"2019-05-22T19:30:00\", \"2019-05-22T19:33:00\", \"2019-05-22T19:36:00\", \"2019-05-22T19:39:00\", \"2019-05-22T19:42:00\", \"2019-05-22T19:45:00\", \"2019-05-22T19:48:00\", \"2019-05-22T19:51:00\", \"2019-05-22T19:54:00\", \"2019-05-22T19:57:00\", \"2019-05-22T20:00:00\", \"2019-05-22T20:03:00\", \"2019-05-22T20:06:00\", \"2019-05-22T20:09:00\", \"2019-05-22T20:12:00\", \"2019-05-22T20:15:00\", \"2019-05-22T20:18:00\", \"2019-05-22T20:21:00\", \"2019-05-22T20:24:00\", \"2019-05-22T20:27:00\", \"2019-05-22T20:30:00\", \"2019-05-22T20:33:00\", \"2019-05-22T20:36:00\", \"2019-05-22T20:39:00\", \"2019-05-22T20:42:00\", \"2019-05-22T20:45:00\", \"2019-05-22T20:48:00\", \"2019-05-22T20:51:00\", \"2019-05-22T20:54:00\", \"2019-05-22T20:57:00\", \"2019-05-22T21:00:00\", \"2019-05-22T21:03:00\", \"2019-05-22T21:06:00\", \"2019-05-22T21:09:00\", \"2019-05-22T21:12:00\", \"2019-05-22T21:15:00\", \"2019-05-22T21:18:00\", \"2019-05-22T21:21:00\", \"2019-05-22T21:24:00\", \"2019-05-22T21:27:00\", \"2019-05-22T21:30:00\", \"2019-05-22T21:33:00\", \"2019-05-22T21:36:00\", \"2019-05-22T21:39:00\", \"2019-05-22T21:42:00\", \"2019-05-22T21:45:00\", \"2019-05-22T21:48:00\", \"2019-05-22T21:51:00\", \"2019-05-22T21:54:00\", \"2019-05-22T21:57:00\", \"2019-05-22T22:00:00\", \"2019-05-22T22:03:00\", \"2019-05-22T22:06:00\", \"2019-05-22T22:09:00\", \"2019-05-22T22:12:00\", \"2019-05-22T22:15:00\", \"2019-05-22T22:18:00\", \"2019-05-22T22:21:00\", \"2019-05-22T22:24:00\", \"2019-05-22T22:27:00\", \"2019-05-22T22:30:00\", \"2019-05-22T22:33:00\", \"2019-05-22T22:36:00\", \"2019-05-22T22:39:00\", \"2019-05-22T22:42:00\", \"2019-05-22T22:45:00\", \"2019-05-22T22:48:00\", \"2019-05-22T22:51:00\", \"2019-05-22T22:54:00\", \"2019-05-22T22:57:00\", \"2019-05-22T23:00:00\", \"2019-05-22T23:03:00\", \"2019-05-22T23:06:00\", \"2019-05-22T23:09:00\", \"2019-05-22T23:12:00\", \"2019-05-22T23:15:00\", \"2019-05-22T23:18:00\", \"2019-05-22T23:21:00\", \"2019-05-22T23:24:00\", \"2019-05-22T23:27:00\", \"2019-05-22T23:30:00\", \"2019-05-22T23:33:00\", \"2019-05-22T23:36:00\", \"2019-05-22T23:39:00\", \"2019-05-22T23:42:00\", \"2019-05-22T23:45:00\", \"2019-05-22T23:48:00\", \"2019-05-22T23:51:00\", \"2019-05-22T23:54:00\", \"2019-05-22T23:57:00\"], \"xaxis\": \"x\", \"y\": [3020.0, 2980.0, 3000.0, 2980.0, 3020.0, 3000.0, 2980.0, 3060.0, 3000.0, 3080.0, 3000.0, 3020.0, 3020.0, 2980.0, 3000.0, 2960.0000000000005, 3020.0, 3000.0, 3000.0, 2960.0000000000005, 3020.0, 3000.0, 2900.0, 2920.0, 2940.0, 2940.0, 2920.0, 2920.0, 2920.0, 2920.0, 2920.0, 2920.0, 2900.0, 2940.0, 2900.0, 2920.0, 2940.0, 2940.0, 2900.0, 2940.0, 2920.0, 2800.0000000000005, 2580.0, 2560.0, 2780.0000000000005, 2880.0000000000005, 2860.0000000000005, 2839.9999999999995, 2860.0000000000005, 2839.9999999999995, 2839.9999999999995, 2819.9999999999995, 2600.0, 2520.0, 2520.0, 2520.0, 2520.0, 2540.0, 2480.0, 2520.0, 1160.0, 2000.0, 2580.0, 2600.0, 2540.0, 2580.0, 2680.0, 2720.0, 2680.0, 2760.0000000000005, 2700.0, 2720.0, 2660.0, 2680.0, 2620.0, 2640.0, 2600.0, 2600.0, 2580.0, 2560.0, 2560.0, 2580.0, 2580.0, 2560.0, 2580.0, 2580.0, 2600.0, 2120.0, 1440.0000000000002, 2680.0, 2739.9999999999995, 2780.0000000000005, 2540.0, 2780.0000000000005, 2760.0000000000005, 2760.0000000000005, 2000.0, 420.0, 1680.0, 2520.0, 2560.0, 2540.0, 2480.0, 2460.0, 2500.0, 2440.0, 2480.0, 2500.0, 2440.0, 2460.0, 2400.0, 2440.0, 2480.0, 2720.0, 2660.0, 800.0, 0.0, 0.0, 0.0, 2200.0, 0.0, 0.0, 0.0, 0.0, 0.0, 0.0, 0.0, 340.0, 2360.0, 2440.0, 2520.0, 2600.0, 2620.0, 2600.0, 2700.0, 840.0, 820.0, 840.0, 840.0, 820.0, 760.0, 660.0, 640.0, 600.0, 580.0, 540.0000000000001, 520.0, 460.0, 460.0, 440.0, 480.0, 480.0, 440.0, 440.0, 420.0, 420.0, 440.0, 420.0, 400.0, 420.0, 240.0, 0.0, 0.0, 0.0, 0.0, 0.0, 0.0, 0.0, 0.0, 0.0, 0.0, 0.0, 0.0, 0.0, 0.0, 0.0, 0.0, 0.0, 260.0, 280.0, 560.0, 600.0, 520.0, 0.0, 0.0, 380.0, 620.0, 760.0, 840.0, 700.0000000000001, 700.0000000000001, 620.0, 620.0, 740.0000000000001, 740.0000000000001, 680.0, 620.0, 540.0000000000001, 520.0, 520.0, 500.0, 460.0, 460.0, 420.0, 360.00000000000006, 360.00000000000006, 20.0, 0.0, 0.0, 0.0, 460.0, 640.0, 400.0, 380.0, 320.0, 280.0, 280.0, 280.0, 280.0, 260.0, 240.0, 260.0, 240.0, 260.0, 240.0, 240.0, 240.0, 240.0, 240.0, 240.0, 220.0, 240.0, 160.0, 160.0, 160.0, 180.00000000000003, 160.0, 180.00000000000003, 160.0, 220.0, 360.00000000000006, 400.0, 380.0, 400.0, 360.00000000000006, 340.0, 340.0, 340.0, 340.0, 260.0, 260.0, 260.0, 260.0, 260.0, 260.0, 300.0, 340.0, 260.0, 260.0, 260.0, 260.0, 320.0, 320.0, 320.0, 320.0, 320.0, 320.0, 340.0, 360.00000000000006, 400.0, 400.0, 320.0, 400.0, 500.0, 500.0, 500.0, 560.0, 520.0, 480.0, 500.0, 520.0, 480.0, 500.0, 500.0, 500.0, 1780.0000000000002, 3060.0, 3100.0, 3140.0, 3100.0, 2880.0000000000005, 2819.9999999999995, 2800.0000000000005, 2780.0000000000005, 2780.0000000000005, 2800.0000000000005, 1600.0, 0.0, 340.0, 2920.0, 2960.0000000000005, 2760.0000000000005, 2819.9999999999995, 2800.0000000000005, 2819.9999999999995, 2780.0000000000005, 1400.0000000000002, 400.0, 340.0, 340.0, 320.0, 340.0, 320.0, 340.0, 320.0, 340.0, 340.0, 340.0, 340.0, 340.0, 0.0, 0.0, 0.0, 0.0, 0.0, 500.0, 540.0000000000001, 580.0, 440.0, 420.0, 420.0, 400.0, 420.0, 380.0, 420.0, 360.00000000000006, 340.0, 340.0, 320.0, 340.0, 340.0, 340.0, 360.00000000000006, 340.0, 300.0, 280.0, 320.0, 380.0, 360.00000000000006, 360.00000000000006, 380.0, 360.00000000000006, 380.0, 360.00000000000006, 380.0, 320.0, 180.00000000000003, 0.0, 0.0, 0.0, 0.0, 220.0, 520.0, 420.0, 380.0, 360.00000000000006, 380.0, 340.0, 280.0, 300.0, 300.0, 300.0, 300.0, 300.0, 300.0, 300.0, 300.0, 320.0, 300.0, 300.0, 0.0, 180.00000000000003, 440.0, 180.00000000000003, 0.0, 0.0, 0.0, 0.0, 0.0, 0.0, 0.0, 0.0, 240.0, 660.0, 660.0, 680.0, 680.0, 620.0, 560.0, 500.0, 1760.0000000000002, 2120.0, 2060.0, 2080.0, 1460.0, 560.0, 1040.0, 2640.0, 2739.9999999999995, 2700.0, 2760.0000000000005, 2739.9999999999995, 2739.9999999999995, 2620.0, 2600.0, 2600.0, 2540.0, 2600.0, 2560.0, 2560.0, 2560.0, 2580.0, 2540.0, 2560.0, 2660.0, 2600.0, 2500.0, 2340.0, 2360.0, 2720.0, 2880.0000000000005, 2800.0000000000005, 2819.9999999999995, 2900.0, 3640.0, 4360.0, 4380.0, 3060.0, 2720.0, 2640.0, 2720.0, 2680.0, 2640.0, 2620.0, 2800.0000000000005, 2760.0000000000005, 2780.0000000000005, 2819.9999999999995, 2819.9999999999995, 2900.0, 2819.9999999999995, 2880.0000000000005, 3020.0, 2920.0, 2900.0, 2860.0000000000005, 2940.0, 2960.0000000000005, 2940.0, 2960.0000000000005, 2860.0000000000005, 2900.0, 2880.0000000000005, 2860.0000000000005, 2819.9999999999995, 2860.0000000000005, 2900.0, 2920.0, 2880.0000000000005, 2920.0, 2900.0, 2960.0000000000005, 2940.0, 2960.0000000000005, 3000.0, 2960.0000000000005, 2980.0, 2940.0, 2980.0, 3000.0], \"yaxis\": \"y\"}],\n",
       "                        {\"legend\": {\"title\": {\"text\": \"variable\"}, \"tracegroupgap\": 0}, \"margin\": {\"t\": 60}, \"template\": {\"data\": {\"bar\": [{\"error_x\": {\"color\": \"#2a3f5f\"}, \"error_y\": {\"color\": \"#2a3f5f\"}, \"marker\": {\"line\": {\"color\": \"#E5ECF6\", \"width\": 0.5}}, \"type\": \"bar\"}], \"barpolar\": [{\"marker\": {\"line\": {\"color\": \"#E5ECF6\", \"width\": 0.5}}, \"type\": \"barpolar\"}], \"carpet\": [{\"aaxis\": {\"endlinecolor\": \"#2a3f5f\", \"gridcolor\": \"white\", \"linecolor\": \"white\", \"minorgridcolor\": \"white\", \"startlinecolor\": \"#2a3f5f\"}, \"baxis\": {\"endlinecolor\": \"#2a3f5f\", \"gridcolor\": \"white\", \"linecolor\": \"white\", \"minorgridcolor\": \"white\", \"startlinecolor\": \"#2a3f5f\"}, \"type\": \"carpet\"}], \"choropleth\": [{\"colorbar\": {\"outlinewidth\": 0, \"ticks\": \"\"}, \"type\": \"choropleth\"}], \"contour\": [{\"colorbar\": {\"outlinewidth\": 0, \"ticks\": \"\"}, \"colorscale\": [[0.0, \"#0d0887\"], [0.1111111111111111, \"#46039f\"], [0.2222222222222222, \"#7201a8\"], [0.3333333333333333, \"#9c179e\"], [0.4444444444444444, \"#bd3786\"], [0.5555555555555556, \"#d8576b\"], [0.6666666666666666, \"#ed7953\"], [0.7777777777777778, \"#fb9f3a\"], [0.8888888888888888, \"#fdca26\"], [1.0, \"#f0f921\"]], \"type\": \"contour\"}], \"contourcarpet\": [{\"colorbar\": {\"outlinewidth\": 0, \"ticks\": \"\"}, \"type\": \"contourcarpet\"}], \"heatmap\": [{\"colorbar\": {\"outlinewidth\": 0, \"ticks\": \"\"}, \"colorscale\": [[0.0, \"#0d0887\"], [0.1111111111111111, \"#46039f\"], [0.2222222222222222, \"#7201a8\"], [0.3333333333333333, \"#9c179e\"], [0.4444444444444444, \"#bd3786\"], [0.5555555555555556, \"#d8576b\"], [0.6666666666666666, \"#ed7953\"], [0.7777777777777778, \"#fb9f3a\"], [0.8888888888888888, \"#fdca26\"], [1.0, \"#f0f921\"]], \"type\": \"heatmap\"}], \"heatmapgl\": [{\"colorbar\": {\"outlinewidth\": 0, \"ticks\": \"\"}, \"colorscale\": [[0.0, \"#0d0887\"], [0.1111111111111111, \"#46039f\"], [0.2222222222222222, \"#7201a8\"], [0.3333333333333333, \"#9c179e\"], [0.4444444444444444, \"#bd3786\"], [0.5555555555555556, \"#d8576b\"], [0.6666666666666666, \"#ed7953\"], [0.7777777777777778, \"#fb9f3a\"], [0.8888888888888888, \"#fdca26\"], [1.0, \"#f0f921\"]], \"type\": \"heatmapgl\"}], \"histogram\": [{\"marker\": {\"colorbar\": {\"outlinewidth\": 0, \"ticks\": \"\"}}, \"type\": \"histogram\"}], \"histogram2d\": [{\"colorbar\": {\"outlinewidth\": 0, \"ticks\": \"\"}, \"colorscale\": [[0.0, \"#0d0887\"], [0.1111111111111111, \"#46039f\"], [0.2222222222222222, \"#7201a8\"], [0.3333333333333333, \"#9c179e\"], [0.4444444444444444, \"#bd3786\"], [0.5555555555555556, \"#d8576b\"], [0.6666666666666666, \"#ed7953\"], [0.7777777777777778, \"#fb9f3a\"], [0.8888888888888888, \"#fdca26\"], [1.0, \"#f0f921\"]], \"type\": \"histogram2d\"}], \"histogram2dcontour\": [{\"colorbar\": {\"outlinewidth\": 0, \"ticks\": \"\"}, \"colorscale\": [[0.0, \"#0d0887\"], [0.1111111111111111, \"#46039f\"], [0.2222222222222222, \"#7201a8\"], [0.3333333333333333, \"#9c179e\"], [0.4444444444444444, \"#bd3786\"], [0.5555555555555556, \"#d8576b\"], [0.6666666666666666, \"#ed7953\"], [0.7777777777777778, \"#fb9f3a\"], [0.8888888888888888, \"#fdca26\"], [1.0, \"#f0f921\"]], \"type\": \"histogram2dcontour\"}], \"mesh3d\": [{\"colorbar\": {\"outlinewidth\": 0, \"ticks\": \"\"}, \"type\": \"mesh3d\"}], \"parcoords\": [{\"line\": {\"colorbar\": {\"outlinewidth\": 0, \"ticks\": \"\"}}, \"type\": \"parcoords\"}], \"pie\": [{\"automargin\": true, \"type\": \"pie\"}], \"scatter\": [{\"marker\": {\"colorbar\": {\"outlinewidth\": 0, \"ticks\": \"\"}}, \"type\": \"scatter\"}], \"scatter3d\": [{\"line\": {\"colorbar\": {\"outlinewidth\": 0, \"ticks\": \"\"}}, \"marker\": {\"colorbar\": {\"outlinewidth\": 0, \"ticks\": \"\"}}, \"type\": \"scatter3d\"}], \"scattercarpet\": [{\"marker\": {\"colorbar\": {\"outlinewidth\": 0, \"ticks\": \"\"}}, \"type\": \"scattercarpet\"}], \"scattergeo\": [{\"marker\": {\"colorbar\": {\"outlinewidth\": 0, \"ticks\": \"\"}}, \"type\": \"scattergeo\"}], \"scattergl\": [{\"marker\": {\"colorbar\": {\"outlinewidth\": 0, \"ticks\": \"\"}}, \"type\": \"scattergl\"}], \"scattermapbox\": [{\"marker\": {\"colorbar\": {\"outlinewidth\": 0, \"ticks\": \"\"}}, \"type\": \"scattermapbox\"}], \"scatterpolar\": [{\"marker\": {\"colorbar\": {\"outlinewidth\": 0, \"ticks\": \"\"}}, \"type\": \"scatterpolar\"}], \"scatterpolargl\": [{\"marker\": {\"colorbar\": {\"outlinewidth\": 0, \"ticks\": \"\"}}, \"type\": \"scatterpolargl\"}], \"scatterternary\": [{\"marker\": {\"colorbar\": {\"outlinewidth\": 0, \"ticks\": \"\"}}, \"type\": \"scatterternary\"}], \"surface\": [{\"colorbar\": {\"outlinewidth\": 0, \"ticks\": \"\"}, \"colorscale\": [[0.0, \"#0d0887\"], [0.1111111111111111, \"#46039f\"], [0.2222222222222222, \"#7201a8\"], [0.3333333333333333, \"#9c179e\"], [0.4444444444444444, \"#bd3786\"], [0.5555555555555556, \"#d8576b\"], [0.6666666666666666, \"#ed7953\"], [0.7777777777777778, \"#fb9f3a\"], [0.8888888888888888, \"#fdca26\"], [1.0, \"#f0f921\"]], \"type\": \"surface\"}], \"table\": [{\"cells\": {\"fill\": {\"color\": \"#EBF0F8\"}, \"line\": {\"color\": \"white\"}}, \"header\": {\"fill\": {\"color\": \"#C8D4E3\"}, \"line\": {\"color\": \"white\"}}, \"type\": \"table\"}]}, \"layout\": {\"annotationdefaults\": {\"arrowcolor\": \"#2a3f5f\", \"arrowhead\": 0, \"arrowwidth\": 1}, \"coloraxis\": {\"colorbar\": {\"outlinewidth\": 0, \"ticks\": \"\"}}, \"colorscale\": {\"diverging\": [[0, \"#8e0152\"], [0.1, \"#c51b7d\"], [0.2, \"#de77ae\"], [0.3, \"#f1b6da\"], [0.4, \"#fde0ef\"], [0.5, \"#f7f7f7\"], [0.6, \"#e6f5d0\"], [0.7, \"#b8e186\"], [0.8, \"#7fbc41\"], [0.9, \"#4d9221\"], [1, \"#276419\"]], \"sequential\": [[0.0, \"#0d0887\"], [0.1111111111111111, \"#46039f\"], [0.2222222222222222, \"#7201a8\"], [0.3333333333333333, \"#9c179e\"], [0.4444444444444444, \"#bd3786\"], [0.5555555555555556, \"#d8576b\"], [0.6666666666666666, \"#ed7953\"], [0.7777777777777778, \"#fb9f3a\"], [0.8888888888888888, \"#fdca26\"], [1.0, \"#f0f921\"]], \"sequentialminus\": [[0.0, \"#0d0887\"], [0.1111111111111111, \"#46039f\"], [0.2222222222222222, \"#7201a8\"], [0.3333333333333333, \"#9c179e\"], [0.4444444444444444, \"#bd3786\"], [0.5555555555555556, \"#d8576b\"], [0.6666666666666666, \"#ed7953\"], [0.7777777777777778, \"#fb9f3a\"], [0.8888888888888888, \"#fdca26\"], [1.0, \"#f0f921\"]]}, \"colorway\": [\"#636efa\", \"#EF553B\", \"#00cc96\", \"#ab63fa\", \"#FFA15A\", \"#19d3f3\", \"#FF6692\", \"#B6E880\", \"#FF97FF\", \"#FECB52\"], \"font\": {\"color\": \"#2a3f5f\"}, \"geo\": {\"bgcolor\": \"white\", \"lakecolor\": \"white\", \"landcolor\": \"#E5ECF6\", \"showlakes\": true, \"showland\": true, \"subunitcolor\": \"white\"}, \"hoverlabel\": {\"align\": \"left\"}, \"hovermode\": \"closest\", \"mapbox\": {\"style\": \"light\"}, \"paper_bgcolor\": \"white\", \"plot_bgcolor\": \"#E5ECF6\", \"polar\": {\"angularaxis\": {\"gridcolor\": \"white\", \"linecolor\": \"white\", \"ticks\": \"\"}, \"bgcolor\": \"#E5ECF6\", \"radialaxis\": {\"gridcolor\": \"white\", \"linecolor\": \"white\", \"ticks\": \"\"}}, \"scene\": {\"xaxis\": {\"backgroundcolor\": \"#E5ECF6\", \"gridcolor\": \"white\", \"gridwidth\": 2, \"linecolor\": \"white\", \"showbackground\": true, \"ticks\": \"\", \"zerolinecolor\": \"white\"}, \"yaxis\": {\"backgroundcolor\": \"#E5ECF6\", \"gridcolor\": \"white\", \"gridwidth\": 2, \"linecolor\": \"white\", \"showbackground\": true, \"ticks\": \"\", \"zerolinecolor\": \"white\"}, \"zaxis\": {\"backgroundcolor\": \"#E5ECF6\", \"gridcolor\": \"white\", \"gridwidth\": 2, \"linecolor\": \"white\", \"showbackground\": true, \"ticks\": \"\", \"zerolinecolor\": \"white\"}}, \"shapedefaults\": {\"line\": {\"color\": \"#2a3f5f\"}}, \"ternary\": {\"aaxis\": {\"gridcolor\": \"white\", \"linecolor\": \"white\", \"ticks\": \"\"}, \"baxis\": {\"gridcolor\": \"white\", \"linecolor\": \"white\", \"ticks\": \"\"}, \"bgcolor\": \"#E5ECF6\", \"caxis\": {\"gridcolor\": \"white\", \"linecolor\": \"white\", \"ticks\": \"\"}}, \"title\": {\"x\": 0.05}, \"xaxis\": {\"automargin\": true, \"gridcolor\": \"white\", \"linecolor\": \"white\", \"ticks\": \"\", \"title\": {\"standoff\": 15}, \"zerolinecolor\": \"white\", \"zerolinewidth\": 2}, \"yaxis\": {\"automargin\": true, \"gridcolor\": \"white\", \"linecolor\": \"white\", \"ticks\": \"\", \"title\": {\"standoff\": 15}, \"zerolinecolor\": \"white\", \"zerolinewidth\": 2}}}, \"xaxis\": {\"anchor\": \"y\", \"domain\": [0.0, 1.0], \"title\": {\"text\": \"x_Timestamp\"}}, \"yaxis\": {\"anchor\": \"x\", \"domain\": [0.0, 1.0], \"title\": {\"text\": \"value\"}}},\n",
       "                        {\"responsive\": true}\n",
       "                    ).then(function(){\n",
       "                            \n",
       "var gd = document.getElementById('cae5ba8c-0149-4acb-80ba-6e10c8673e03');\n",
       "var x = new MutationObserver(function (mutations, observer) {{\n",
       "        var display = window.getComputedStyle(gd).display;\n",
       "        if (!display || display === 'none') {{\n",
       "            console.log([gd, 'removed!']);\n",
       "            Plotly.purge(gd);\n",
       "            observer.disconnect();\n",
       "        }}\n",
       "}});\n",
       "\n",
       "// Listen for the removal of the full notebook cells\n",
       "var notebookContainer = gd.closest('#notebook-container');\n",
       "if (notebookContainer) {{\n",
       "    x.observe(notebookContainer, {childList: true});\n",
       "}}\n",
       "\n",
       "// Listen for the clearing of the current output cell\n",
       "var outputEl = gd.closest('.output');\n",
       "if (outputEl) {{\n",
       "    x.observe(outputEl, {childList: true});\n",
       "}}\n",
       "\n",
       "                        })\n",
       "                };\n",
       "                });\n",
       "            </script>\n",
       "        </div>"
      ]
     },
     "metadata": {},
     "output_type": "display_data"
    }
   ],
   "source": [
    "g['power'].plot()"
   ]
  },
  {
   "cell_type": "code",
   "execution_count": 56,
   "metadata": {},
   "outputs": [
    {
     "data": {
      "application/vnd.plotly.v1+json": {
       "config": {
        "plotlyServerURL": "https://plotly.com"
       },
       "data": [
        {
         "hovertemplate": "variable=final_compressor<br>x_Timestamp=%{x}<br>value=%{y}<extra></extra>",
         "legendgroup": "final_compressor",
         "line": {
          "color": "#636efa",
          "dash": "solid"
         },
         "mode": "lines",
         "name": "final_compressor",
         "orientation": "v",
         "showlegend": true,
         "type": "scatter",
         "x": [
          "2019-05-22T00:00:00",
          "2019-05-22T00:03:00",
          "2019-05-22T00:06:00",
          "2019-05-22T00:09:00",
          "2019-05-22T00:12:00",
          "2019-05-22T00:15:00",
          "2019-05-22T00:18:00",
          "2019-05-22T00:21:00",
          "2019-05-22T00:24:00",
          "2019-05-22T00:27:00",
          "2019-05-22T00:30:00",
          "2019-05-22T00:33:00",
          "2019-05-22T00:36:00",
          "2019-05-22T00:39:00",
          "2019-05-22T00:42:00",
          "2019-05-22T00:45:00",
          "2019-05-22T00:48:00",
          "2019-05-22T00:51:00",
          "2019-05-22T00:54:00",
          "2019-05-22T00:57:00",
          "2019-05-22T01:00:00",
          "2019-05-22T01:03:00",
          "2019-05-22T01:06:00",
          "2019-05-22T01:09:00",
          "2019-05-22T01:12:00",
          "2019-05-22T01:15:00",
          "2019-05-22T01:18:00",
          "2019-05-22T01:21:00",
          "2019-05-22T01:24:00",
          "2019-05-22T01:27:00",
          "2019-05-22T01:30:00",
          "2019-05-22T01:33:00",
          "2019-05-22T01:36:00",
          "2019-05-22T01:39:00",
          "2019-05-22T01:42:00",
          "2019-05-22T01:45:00",
          "2019-05-22T01:48:00",
          "2019-05-22T01:51:00",
          "2019-05-22T01:54:00",
          "2019-05-22T01:57:00",
          "2019-05-22T02:00:00",
          "2019-05-22T02:03:00",
          "2019-05-22T02:06:00",
          "2019-05-22T02:09:00",
          "2019-05-22T02:12:00",
          "2019-05-22T02:15:00",
          "2019-05-22T02:18:00",
          "2019-05-22T02:21:00",
          "2019-05-22T02:24:00",
          "2019-05-22T02:27:00",
          "2019-05-22T02:30:00",
          "2019-05-22T02:33:00",
          "2019-05-22T02:36:00",
          "2019-05-22T02:39:00",
          "2019-05-22T02:42:00",
          "2019-05-22T02:45:00",
          "2019-05-22T02:48:00",
          "2019-05-22T02:51:00",
          "2019-05-22T02:54:00",
          "2019-05-22T02:57:00",
          "2019-05-22T03:00:00",
          "2019-05-22T03:03:00",
          "2019-05-22T03:06:00",
          "2019-05-22T03:09:00",
          "2019-05-22T03:12:00",
          "2019-05-22T03:15:00",
          "2019-05-22T03:18:00",
          "2019-05-22T03:21:00",
          "2019-05-22T03:24:00",
          "2019-05-22T03:27:00",
          "2019-05-22T03:30:00",
          "2019-05-22T03:33:00",
          "2019-05-22T03:36:00",
          "2019-05-22T03:39:00",
          "2019-05-22T03:42:00",
          "2019-05-22T03:45:00",
          "2019-05-22T03:48:00",
          "2019-05-22T03:51:00",
          "2019-05-22T03:54:00",
          "2019-05-22T03:57:00",
          "2019-05-22T04:00:00",
          "2019-05-22T04:03:00",
          "2019-05-22T04:06:00",
          "2019-05-22T04:09:00",
          "2019-05-22T04:12:00",
          "2019-05-22T04:15:00",
          "2019-05-22T04:18:00",
          "2019-05-22T04:21:00",
          "2019-05-22T04:24:00",
          "2019-05-22T04:27:00",
          "2019-05-22T04:30:00",
          "2019-05-22T04:33:00",
          "2019-05-22T04:36:00",
          "2019-05-22T04:39:00",
          "2019-05-22T04:42:00",
          "2019-05-22T04:45:00",
          "2019-05-22T04:48:00",
          "2019-05-22T04:51:00",
          "2019-05-22T04:54:00",
          "2019-05-22T04:57:00",
          "2019-05-22T05:00:00",
          "2019-05-22T05:03:00",
          "2019-05-22T05:06:00",
          "2019-05-22T05:09:00",
          "2019-05-22T05:12:00",
          "2019-05-22T05:15:00",
          "2019-05-22T05:18:00",
          "2019-05-22T05:21:00",
          "2019-05-22T05:24:00",
          "2019-05-22T05:27:00",
          "2019-05-22T05:30:00",
          "2019-05-22T05:33:00",
          "2019-05-22T05:36:00",
          "2019-05-22T05:39:00",
          "2019-05-22T05:42:00",
          "2019-05-22T05:45:00",
          "2019-05-22T05:48:00",
          "2019-05-22T05:51:00",
          "2019-05-22T05:54:00",
          "2019-05-22T05:57:00",
          "2019-05-22T06:00:00",
          "2019-05-22T06:03:00",
          "2019-05-22T06:06:00",
          "2019-05-22T06:09:00",
          "2019-05-22T06:12:00",
          "2019-05-22T06:15:00",
          "2019-05-22T06:18:00",
          "2019-05-22T06:21:00",
          "2019-05-22T06:24:00",
          "2019-05-22T06:27:00",
          "2019-05-22T06:30:00",
          "2019-05-22T06:33:00",
          "2019-05-22T06:36:00",
          "2019-05-22T06:39:00",
          "2019-05-22T06:42:00",
          "2019-05-22T06:45:00",
          "2019-05-22T06:48:00",
          "2019-05-22T06:51:00",
          "2019-05-22T06:54:00",
          "2019-05-22T06:57:00",
          "2019-05-22T07:00:00",
          "2019-05-22T07:03:00",
          "2019-05-22T07:06:00",
          "2019-05-22T07:09:00",
          "2019-05-22T07:12:00",
          "2019-05-22T07:15:00",
          "2019-05-22T07:18:00",
          "2019-05-22T07:21:00",
          "2019-05-22T07:24:00",
          "2019-05-22T07:27:00",
          "2019-05-22T07:30:00",
          "2019-05-22T07:33:00",
          "2019-05-22T07:36:00",
          "2019-05-22T07:39:00",
          "2019-05-22T07:42:00",
          "2019-05-22T07:45:00",
          "2019-05-22T07:48:00",
          "2019-05-22T07:51:00",
          "2019-05-22T07:54:00",
          "2019-05-22T07:57:00",
          "2019-05-22T08:00:00",
          "2019-05-22T08:03:00",
          "2019-05-22T08:06:00",
          "2019-05-22T08:09:00",
          "2019-05-22T08:12:00",
          "2019-05-22T08:15:00",
          "2019-05-22T08:18:00",
          "2019-05-22T08:21:00",
          "2019-05-22T08:24:00",
          "2019-05-22T08:27:00",
          "2019-05-22T08:30:00",
          "2019-05-22T08:33:00",
          "2019-05-22T08:36:00",
          "2019-05-22T08:39:00",
          "2019-05-22T08:42:00",
          "2019-05-22T08:45:00",
          "2019-05-22T08:48:00",
          "2019-05-22T08:51:00",
          "2019-05-22T08:54:00",
          "2019-05-22T08:57:00",
          "2019-05-22T09:00:00",
          "2019-05-22T09:03:00",
          "2019-05-22T09:06:00",
          "2019-05-22T09:09:00",
          "2019-05-22T09:12:00",
          "2019-05-22T09:15:00",
          "2019-05-22T09:18:00",
          "2019-05-22T09:21:00",
          "2019-05-22T09:24:00",
          "2019-05-22T09:27:00",
          "2019-05-22T09:30:00",
          "2019-05-22T09:33:00",
          "2019-05-22T09:36:00",
          "2019-05-22T09:39:00",
          "2019-05-22T09:42:00",
          "2019-05-22T09:45:00",
          "2019-05-22T09:48:00",
          "2019-05-22T09:51:00",
          "2019-05-22T09:54:00",
          "2019-05-22T09:57:00",
          "2019-05-22T10:00:00",
          "2019-05-22T10:03:00",
          "2019-05-22T10:06:00",
          "2019-05-22T10:09:00",
          "2019-05-22T10:12:00",
          "2019-05-22T10:15:00",
          "2019-05-22T10:18:00",
          "2019-05-22T10:21:00",
          "2019-05-22T10:24:00",
          "2019-05-22T10:27:00",
          "2019-05-22T10:30:00",
          "2019-05-22T10:33:00",
          "2019-05-22T10:36:00",
          "2019-05-22T10:39:00",
          "2019-05-22T10:42:00",
          "2019-05-22T10:45:00",
          "2019-05-22T10:48:00",
          "2019-05-22T10:51:00",
          "2019-05-22T10:54:00",
          "2019-05-22T10:57:00",
          "2019-05-22T11:00:00",
          "2019-05-22T11:03:00",
          "2019-05-22T11:06:00",
          "2019-05-22T11:09:00",
          "2019-05-22T11:12:00",
          "2019-05-22T11:15:00",
          "2019-05-22T11:18:00",
          "2019-05-22T11:21:00",
          "2019-05-22T11:24:00",
          "2019-05-22T11:27:00",
          "2019-05-22T11:30:00",
          "2019-05-22T11:33:00",
          "2019-05-22T11:36:00",
          "2019-05-22T11:39:00",
          "2019-05-22T11:42:00",
          "2019-05-22T11:45:00",
          "2019-05-22T11:48:00",
          "2019-05-22T11:51:00",
          "2019-05-22T11:54:00",
          "2019-05-22T11:57:00",
          "2019-05-22T12:00:00",
          "2019-05-22T12:03:00",
          "2019-05-22T12:06:00",
          "2019-05-22T12:09:00",
          "2019-05-22T12:12:00",
          "2019-05-22T12:15:00",
          "2019-05-22T12:18:00",
          "2019-05-22T12:21:00",
          "2019-05-22T12:24:00",
          "2019-05-22T12:27:00",
          "2019-05-22T12:30:00",
          "2019-05-22T12:33:00",
          "2019-05-22T12:36:00",
          "2019-05-22T12:39:00",
          "2019-05-22T12:42:00",
          "2019-05-22T12:45:00",
          "2019-05-22T12:48:00",
          "2019-05-22T12:51:00",
          "2019-05-22T12:54:00",
          "2019-05-22T12:57:00",
          "2019-05-22T13:00:00",
          "2019-05-22T13:03:00",
          "2019-05-22T13:06:00",
          "2019-05-22T13:09:00",
          "2019-05-22T13:12:00",
          "2019-05-22T13:15:00",
          "2019-05-22T13:18:00",
          "2019-05-22T13:21:00",
          "2019-05-22T13:24:00",
          "2019-05-22T13:27:00",
          "2019-05-22T13:30:00",
          "2019-05-22T13:33:00",
          "2019-05-22T13:36:00",
          "2019-05-22T13:39:00",
          "2019-05-22T13:42:00",
          "2019-05-22T13:45:00",
          "2019-05-22T13:48:00",
          "2019-05-22T13:51:00",
          "2019-05-22T13:54:00",
          "2019-05-22T13:57:00",
          "2019-05-22T14:00:00",
          "2019-05-22T14:03:00",
          "2019-05-22T14:06:00",
          "2019-05-22T14:09:00",
          "2019-05-22T14:12:00",
          "2019-05-22T14:15:00",
          "2019-05-22T14:18:00",
          "2019-05-22T14:21:00",
          "2019-05-22T14:24:00",
          "2019-05-22T14:27:00",
          "2019-05-22T14:30:00",
          "2019-05-22T14:33:00",
          "2019-05-22T14:36:00",
          "2019-05-22T14:39:00",
          "2019-05-22T14:42:00",
          "2019-05-22T14:45:00",
          "2019-05-22T14:48:00",
          "2019-05-22T14:51:00",
          "2019-05-22T14:54:00",
          "2019-05-22T14:57:00",
          "2019-05-22T15:00:00",
          "2019-05-22T15:03:00",
          "2019-05-22T15:06:00",
          "2019-05-22T15:09:00",
          "2019-05-22T15:12:00",
          "2019-05-22T15:15:00",
          "2019-05-22T15:18:00",
          "2019-05-22T15:21:00",
          "2019-05-22T15:24:00",
          "2019-05-22T15:27:00",
          "2019-05-22T15:30:00",
          "2019-05-22T15:33:00",
          "2019-05-22T15:36:00",
          "2019-05-22T15:39:00",
          "2019-05-22T15:42:00",
          "2019-05-22T15:45:00",
          "2019-05-22T15:48:00",
          "2019-05-22T15:51:00",
          "2019-05-22T15:54:00",
          "2019-05-22T15:57:00",
          "2019-05-22T16:00:00",
          "2019-05-22T16:03:00",
          "2019-05-22T16:06:00",
          "2019-05-22T16:09:00",
          "2019-05-22T16:12:00",
          "2019-05-22T16:15:00",
          "2019-05-22T16:18:00",
          "2019-05-22T16:21:00",
          "2019-05-22T16:24:00",
          "2019-05-22T16:27:00",
          "2019-05-22T16:30:00",
          "2019-05-22T16:33:00",
          "2019-05-22T16:36:00",
          "2019-05-22T16:39:00",
          "2019-05-22T16:42:00",
          "2019-05-22T16:45:00",
          "2019-05-22T16:48:00",
          "2019-05-22T16:51:00",
          "2019-05-22T16:54:00",
          "2019-05-22T16:57:00",
          "2019-05-22T17:00:00",
          "2019-05-22T17:03:00",
          "2019-05-22T17:06:00",
          "2019-05-22T17:09:00",
          "2019-05-22T17:12:00",
          "2019-05-22T17:15:00",
          "2019-05-22T17:18:00",
          "2019-05-22T17:21:00",
          "2019-05-22T17:24:00",
          "2019-05-22T17:27:00",
          "2019-05-22T17:30:00",
          "2019-05-22T17:33:00",
          "2019-05-22T17:36:00",
          "2019-05-22T17:39:00",
          "2019-05-22T17:42:00",
          "2019-05-22T17:45:00",
          "2019-05-22T17:48:00",
          "2019-05-22T17:51:00",
          "2019-05-22T17:54:00",
          "2019-05-22T17:57:00",
          "2019-05-22T18:00:00",
          "2019-05-22T18:03:00",
          "2019-05-22T18:06:00",
          "2019-05-22T18:09:00",
          "2019-05-22T18:12:00",
          "2019-05-22T18:15:00",
          "2019-05-22T18:18:00",
          "2019-05-22T18:21:00",
          "2019-05-22T18:24:00",
          "2019-05-22T18:27:00",
          "2019-05-22T18:30:00",
          "2019-05-22T18:33:00",
          "2019-05-22T18:36:00",
          "2019-05-22T18:39:00",
          "2019-05-22T18:42:00",
          "2019-05-22T18:45:00",
          "2019-05-22T18:48:00",
          "2019-05-22T18:51:00",
          "2019-05-22T18:54:00",
          "2019-05-22T18:57:00",
          "2019-05-22T19:00:00",
          "2019-05-22T19:03:00",
          "2019-05-22T19:06:00",
          "2019-05-22T19:09:00",
          "2019-05-22T19:12:00",
          "2019-05-22T19:15:00",
          "2019-05-22T19:18:00",
          "2019-05-22T19:21:00",
          "2019-05-22T19:24:00",
          "2019-05-22T19:27:00",
          "2019-05-22T19:30:00",
          "2019-05-22T19:33:00",
          "2019-05-22T19:36:00",
          "2019-05-22T19:39:00",
          "2019-05-22T19:42:00",
          "2019-05-22T19:45:00",
          "2019-05-22T19:48:00",
          "2019-05-22T19:51:00",
          "2019-05-22T19:54:00",
          "2019-05-22T19:57:00",
          "2019-05-22T20:00:00",
          "2019-05-22T20:03:00",
          "2019-05-22T20:06:00",
          "2019-05-22T20:09:00",
          "2019-05-22T20:12:00",
          "2019-05-22T20:15:00",
          "2019-05-22T20:18:00",
          "2019-05-22T20:21:00",
          "2019-05-22T20:24:00",
          "2019-05-22T20:27:00",
          "2019-05-22T20:30:00",
          "2019-05-22T20:33:00",
          "2019-05-22T20:36:00",
          "2019-05-22T20:39:00",
          "2019-05-22T20:42:00",
          "2019-05-22T20:45:00",
          "2019-05-22T20:48:00",
          "2019-05-22T20:51:00",
          "2019-05-22T20:54:00",
          "2019-05-22T20:57:00",
          "2019-05-22T21:00:00",
          "2019-05-22T21:03:00",
          "2019-05-22T21:06:00",
          "2019-05-22T21:09:00",
          "2019-05-22T21:12:00",
          "2019-05-22T21:15:00",
          "2019-05-22T21:18:00",
          "2019-05-22T21:21:00",
          "2019-05-22T21:24:00",
          "2019-05-22T21:27:00",
          "2019-05-22T21:30:00",
          "2019-05-22T21:33:00",
          "2019-05-22T21:36:00",
          "2019-05-22T21:39:00",
          "2019-05-22T21:42:00",
          "2019-05-22T21:45:00",
          "2019-05-22T21:48:00",
          "2019-05-22T21:51:00",
          "2019-05-22T21:54:00",
          "2019-05-22T21:57:00",
          "2019-05-22T22:00:00",
          "2019-05-22T22:03:00",
          "2019-05-22T22:06:00",
          "2019-05-22T22:09:00",
          "2019-05-22T22:12:00",
          "2019-05-22T22:15:00",
          "2019-05-22T22:18:00",
          "2019-05-22T22:21:00",
          "2019-05-22T22:24:00",
          "2019-05-22T22:27:00",
          "2019-05-22T22:30:00",
          "2019-05-22T22:33:00",
          "2019-05-22T22:36:00",
          "2019-05-22T22:39:00",
          "2019-05-22T22:42:00",
          "2019-05-22T22:45:00",
          "2019-05-22T22:48:00",
          "2019-05-22T22:51:00",
          "2019-05-22T22:54:00",
          "2019-05-22T22:57:00",
          "2019-05-22T23:00:00",
          "2019-05-22T23:03:00",
          "2019-05-22T23:06:00",
          "2019-05-22T23:09:00",
          "2019-05-22T23:12:00",
          "2019-05-22T23:15:00",
          "2019-05-22T23:18:00",
          "2019-05-22T23:21:00",
          "2019-05-22T23:24:00",
          "2019-05-22T23:27:00",
          "2019-05-22T23:30:00",
          "2019-05-22T23:33:00",
          "2019-05-22T23:36:00",
          "2019-05-22T23:39:00",
          "2019-05-22T23:42:00",
          "2019-05-22T23:45:00",
          "2019-05-22T23:48:00",
          "2019-05-22T23:51:00",
          "2019-05-22T23:54:00",
          "2019-05-22T23:57:00"
         ],
         "xaxis": "x",
         "y": [
          1,
          1,
          1,
          1,
          1,
          1,
          1,
          1,
          1,
          1,
          1,
          1,
          1,
          1,
          1,
          1,
          1,
          1,
          1,
          1,
          1,
          1,
          1,
          1,
          1,
          1,
          1,
          1,
          1,
          1,
          1,
          1,
          1,
          1,
          1,
          1,
          1,
          1,
          1,
          1,
          1,
          1,
          1,
          1,
          1,
          1,
          1,
          1,
          1,
          1,
          1,
          1,
          1,
          1,
          1,
          1,
          1,
          1,
          1,
          1,
          0,
          0,
          0,
          0,
          0,
          0,
          0,
          0,
          0,
          0,
          0,
          0,
          0,
          0,
          0,
          0,
          0,
          0,
          0,
          0,
          0,
          0,
          0,
          0,
          0,
          0,
          0,
          0,
          0,
          0,
          0,
          0,
          0,
          0,
          0,
          0,
          0,
          0,
          0,
          0,
          0,
          0,
          0,
          0,
          0,
          0,
          0,
          0,
          0,
          0,
          0,
          0,
          0,
          0,
          0,
          0,
          0,
          0,
          1,
          1,
          0,
          0,
          0,
          0,
          0,
          0,
          1,
          1,
          1,
          1,
          1,
          1,
          1,
          1,
          1,
          0,
          0,
          0,
          0,
          0,
          0,
          0,
          0,
          0,
          0,
          0,
          0,
          0,
          0,
          0,
          0,
          0,
          0,
          0,
          0,
          0,
          0,
          0,
          0,
          0,
          0,
          0,
          0,
          0,
          0,
          0,
          0,
          0,
          0,
          0,
          0,
          0,
          0,
          0,
          0,
          0,
          0,
          0,
          0,
          0,
          0,
          0,
          0,
          0,
          0,
          0,
          0,
          0,
          0,
          0,
          0,
          0,
          0,
          0,
          0,
          0,
          0,
          0,
          0,
          0,
          0,
          0,
          0,
          0,
          0,
          0,
          0,
          0,
          0,
          0,
          0,
          0,
          0,
          0,
          0,
          0,
          0,
          0,
          0,
          0,
          0,
          0,
          0,
          0,
          0,
          0,
          0,
          0,
          0,
          0,
          0,
          0,
          0,
          0,
          0,
          0,
          0,
          0,
          0,
          0,
          0,
          0,
          0,
          0,
          0,
          0,
          0,
          0,
          0,
          0,
          0,
          0,
          0,
          0,
          0,
          0,
          0,
          0,
          0,
          0,
          0,
          0,
          0,
          0,
          0,
          0,
          0,
          0,
          0,
          0,
          0,
          0,
          0,
          0,
          0,
          0,
          0,
          0,
          0,
          0,
          0,
          0,
          0,
          0,
          0,
          1,
          1,
          1,
          1,
          1,
          1,
          1,
          1,
          1,
          1,
          1,
          1,
          0,
          1,
          1,
          1,
          1,
          1,
          1,
          1,
          1,
          0,
          0,
          0,
          0,
          0,
          0,
          0,
          0,
          0,
          0,
          0,
          0,
          0,
          0,
          0,
          0,
          0,
          0,
          0,
          0,
          0,
          0,
          0,
          0,
          0,
          0,
          0,
          0,
          0,
          0,
          0,
          0,
          0,
          0,
          0,
          0,
          0,
          0,
          0,
          0,
          0,
          0,
          0,
          0,
          0,
          0,
          0,
          0,
          0,
          0,
          0,
          0,
          0,
          0,
          0,
          0,
          0,
          0,
          0,
          0,
          0,
          0,
          0,
          0,
          0,
          0,
          0,
          0,
          0,
          0,
          0,
          0,
          0,
          0,
          0,
          0,
          0,
          0,
          0,
          0,
          0,
          0,
          0,
          0,
          0,
          0,
          0,
          0,
          0,
          0,
          0,
          0,
          0,
          0,
          0,
          0,
          0,
          0,
          0,
          0,
          0,
          0,
          0,
          0,
          0,
          0,
          0,
          0,
          0,
          0,
          0,
          0,
          0,
          0,
          0,
          0,
          0,
          0,
          0,
          0,
          0,
          0,
          0,
          0,
          0,
          0,
          0,
          0,
          1,
          1,
          1,
          1,
          1,
          1,
          1,
          1,
          1,
          1,
          1,
          1,
          1,
          1,
          1,
          1,
          1,
          1,
          1,
          1,
          1,
          1,
          1,
          1,
          1,
          1,
          1,
          1,
          1,
          1,
          1,
          1,
          1,
          1,
          1,
          1,
          1,
          1,
          1,
          1,
          1,
          1,
          1,
          1,
          1,
          1
         ],
         "yaxis": "y"
        }
       ],
       "layout": {
        "legend": {
         "title": {
          "text": "variable"
         },
         "tracegroupgap": 0
        },
        "margin": {
         "t": 60
        },
        "template": {
         "data": {
          "bar": [
           {
            "error_x": {
             "color": "#2a3f5f"
            },
            "error_y": {
             "color": "#2a3f5f"
            },
            "marker": {
             "line": {
              "color": "#E5ECF6",
              "width": 0.5
             }
            },
            "type": "bar"
           }
          ],
          "barpolar": [
           {
            "marker": {
             "line": {
              "color": "#E5ECF6",
              "width": 0.5
             }
            },
            "type": "barpolar"
           }
          ],
          "carpet": [
           {
            "aaxis": {
             "endlinecolor": "#2a3f5f",
             "gridcolor": "white",
             "linecolor": "white",
             "minorgridcolor": "white",
             "startlinecolor": "#2a3f5f"
            },
            "baxis": {
             "endlinecolor": "#2a3f5f",
             "gridcolor": "white",
             "linecolor": "white",
             "minorgridcolor": "white",
             "startlinecolor": "#2a3f5f"
            },
            "type": "carpet"
           }
          ],
          "choropleth": [
           {
            "colorbar": {
             "outlinewidth": 0,
             "ticks": ""
            },
            "type": "choropleth"
           }
          ],
          "contour": [
           {
            "colorbar": {
             "outlinewidth": 0,
             "ticks": ""
            },
            "colorscale": [
             [
              0,
              "#0d0887"
             ],
             [
              0.1111111111111111,
              "#46039f"
             ],
             [
              0.2222222222222222,
              "#7201a8"
             ],
             [
              0.3333333333333333,
              "#9c179e"
             ],
             [
              0.4444444444444444,
              "#bd3786"
             ],
             [
              0.5555555555555556,
              "#d8576b"
             ],
             [
              0.6666666666666666,
              "#ed7953"
             ],
             [
              0.7777777777777778,
              "#fb9f3a"
             ],
             [
              0.8888888888888888,
              "#fdca26"
             ],
             [
              1,
              "#f0f921"
             ]
            ],
            "type": "contour"
           }
          ],
          "contourcarpet": [
           {
            "colorbar": {
             "outlinewidth": 0,
             "ticks": ""
            },
            "type": "contourcarpet"
           }
          ],
          "heatmap": [
           {
            "colorbar": {
             "outlinewidth": 0,
             "ticks": ""
            },
            "colorscale": [
             [
              0,
              "#0d0887"
             ],
             [
              0.1111111111111111,
              "#46039f"
             ],
             [
              0.2222222222222222,
              "#7201a8"
             ],
             [
              0.3333333333333333,
              "#9c179e"
             ],
             [
              0.4444444444444444,
              "#bd3786"
             ],
             [
              0.5555555555555556,
              "#d8576b"
             ],
             [
              0.6666666666666666,
              "#ed7953"
             ],
             [
              0.7777777777777778,
              "#fb9f3a"
             ],
             [
              0.8888888888888888,
              "#fdca26"
             ],
             [
              1,
              "#f0f921"
             ]
            ],
            "type": "heatmap"
           }
          ],
          "heatmapgl": [
           {
            "colorbar": {
             "outlinewidth": 0,
             "ticks": ""
            },
            "colorscale": [
             [
              0,
              "#0d0887"
             ],
             [
              0.1111111111111111,
              "#46039f"
             ],
             [
              0.2222222222222222,
              "#7201a8"
             ],
             [
              0.3333333333333333,
              "#9c179e"
             ],
             [
              0.4444444444444444,
              "#bd3786"
             ],
             [
              0.5555555555555556,
              "#d8576b"
             ],
             [
              0.6666666666666666,
              "#ed7953"
             ],
             [
              0.7777777777777778,
              "#fb9f3a"
             ],
             [
              0.8888888888888888,
              "#fdca26"
             ],
             [
              1,
              "#f0f921"
             ]
            ],
            "type": "heatmapgl"
           }
          ],
          "histogram": [
           {
            "marker": {
             "colorbar": {
              "outlinewidth": 0,
              "ticks": ""
             }
            },
            "type": "histogram"
           }
          ],
          "histogram2d": [
           {
            "colorbar": {
             "outlinewidth": 0,
             "ticks": ""
            },
            "colorscale": [
             [
              0,
              "#0d0887"
             ],
             [
              0.1111111111111111,
              "#46039f"
             ],
             [
              0.2222222222222222,
              "#7201a8"
             ],
             [
              0.3333333333333333,
              "#9c179e"
             ],
             [
              0.4444444444444444,
              "#bd3786"
             ],
             [
              0.5555555555555556,
              "#d8576b"
             ],
             [
              0.6666666666666666,
              "#ed7953"
             ],
             [
              0.7777777777777778,
              "#fb9f3a"
             ],
             [
              0.8888888888888888,
              "#fdca26"
             ],
             [
              1,
              "#f0f921"
             ]
            ],
            "type": "histogram2d"
           }
          ],
          "histogram2dcontour": [
           {
            "colorbar": {
             "outlinewidth": 0,
             "ticks": ""
            },
            "colorscale": [
             [
              0,
              "#0d0887"
             ],
             [
              0.1111111111111111,
              "#46039f"
             ],
             [
              0.2222222222222222,
              "#7201a8"
             ],
             [
              0.3333333333333333,
              "#9c179e"
             ],
             [
              0.4444444444444444,
              "#bd3786"
             ],
             [
              0.5555555555555556,
              "#d8576b"
             ],
             [
              0.6666666666666666,
              "#ed7953"
             ],
             [
              0.7777777777777778,
              "#fb9f3a"
             ],
             [
              0.8888888888888888,
              "#fdca26"
             ],
             [
              1,
              "#f0f921"
             ]
            ],
            "type": "histogram2dcontour"
           }
          ],
          "mesh3d": [
           {
            "colorbar": {
             "outlinewidth": 0,
             "ticks": ""
            },
            "type": "mesh3d"
           }
          ],
          "parcoords": [
           {
            "line": {
             "colorbar": {
              "outlinewidth": 0,
              "ticks": ""
             }
            },
            "type": "parcoords"
           }
          ],
          "pie": [
           {
            "automargin": true,
            "type": "pie"
           }
          ],
          "scatter": [
           {
            "marker": {
             "colorbar": {
              "outlinewidth": 0,
              "ticks": ""
             }
            },
            "type": "scatter"
           }
          ],
          "scatter3d": [
           {
            "line": {
             "colorbar": {
              "outlinewidth": 0,
              "ticks": ""
             }
            },
            "marker": {
             "colorbar": {
              "outlinewidth": 0,
              "ticks": ""
             }
            },
            "type": "scatter3d"
           }
          ],
          "scattercarpet": [
           {
            "marker": {
             "colorbar": {
              "outlinewidth": 0,
              "ticks": ""
             }
            },
            "type": "scattercarpet"
           }
          ],
          "scattergeo": [
           {
            "marker": {
             "colorbar": {
              "outlinewidth": 0,
              "ticks": ""
             }
            },
            "type": "scattergeo"
           }
          ],
          "scattergl": [
           {
            "marker": {
             "colorbar": {
              "outlinewidth": 0,
              "ticks": ""
             }
            },
            "type": "scattergl"
           }
          ],
          "scattermapbox": [
           {
            "marker": {
             "colorbar": {
              "outlinewidth": 0,
              "ticks": ""
             }
            },
            "type": "scattermapbox"
           }
          ],
          "scatterpolar": [
           {
            "marker": {
             "colorbar": {
              "outlinewidth": 0,
              "ticks": ""
             }
            },
            "type": "scatterpolar"
           }
          ],
          "scatterpolargl": [
           {
            "marker": {
             "colorbar": {
              "outlinewidth": 0,
              "ticks": ""
             }
            },
            "type": "scatterpolargl"
           }
          ],
          "scatterternary": [
           {
            "marker": {
             "colorbar": {
              "outlinewidth": 0,
              "ticks": ""
             }
            },
            "type": "scatterternary"
           }
          ],
          "surface": [
           {
            "colorbar": {
             "outlinewidth": 0,
             "ticks": ""
            },
            "colorscale": [
             [
              0,
              "#0d0887"
             ],
             [
              0.1111111111111111,
              "#46039f"
             ],
             [
              0.2222222222222222,
              "#7201a8"
             ],
             [
              0.3333333333333333,
              "#9c179e"
             ],
             [
              0.4444444444444444,
              "#bd3786"
             ],
             [
              0.5555555555555556,
              "#d8576b"
             ],
             [
              0.6666666666666666,
              "#ed7953"
             ],
             [
              0.7777777777777778,
              "#fb9f3a"
             ],
             [
              0.8888888888888888,
              "#fdca26"
             ],
             [
              1,
              "#f0f921"
             ]
            ],
            "type": "surface"
           }
          ],
          "table": [
           {
            "cells": {
             "fill": {
              "color": "#EBF0F8"
             },
             "line": {
              "color": "white"
             }
            },
            "header": {
             "fill": {
              "color": "#C8D4E3"
             },
             "line": {
              "color": "white"
             }
            },
            "type": "table"
           }
          ]
         },
         "layout": {
          "annotationdefaults": {
           "arrowcolor": "#2a3f5f",
           "arrowhead": 0,
           "arrowwidth": 1
          },
          "coloraxis": {
           "colorbar": {
            "outlinewidth": 0,
            "ticks": ""
           }
          },
          "colorscale": {
           "diverging": [
            [
             0,
             "#8e0152"
            ],
            [
             0.1,
             "#c51b7d"
            ],
            [
             0.2,
             "#de77ae"
            ],
            [
             0.3,
             "#f1b6da"
            ],
            [
             0.4,
             "#fde0ef"
            ],
            [
             0.5,
             "#f7f7f7"
            ],
            [
             0.6,
             "#e6f5d0"
            ],
            [
             0.7,
             "#b8e186"
            ],
            [
             0.8,
             "#7fbc41"
            ],
            [
             0.9,
             "#4d9221"
            ],
            [
             1,
             "#276419"
            ]
           ],
           "sequential": [
            [
             0,
             "#0d0887"
            ],
            [
             0.1111111111111111,
             "#46039f"
            ],
            [
             0.2222222222222222,
             "#7201a8"
            ],
            [
             0.3333333333333333,
             "#9c179e"
            ],
            [
             0.4444444444444444,
             "#bd3786"
            ],
            [
             0.5555555555555556,
             "#d8576b"
            ],
            [
             0.6666666666666666,
             "#ed7953"
            ],
            [
             0.7777777777777778,
             "#fb9f3a"
            ],
            [
             0.8888888888888888,
             "#fdca26"
            ],
            [
             1,
             "#f0f921"
            ]
           ],
           "sequentialminus": [
            [
             0,
             "#0d0887"
            ],
            [
             0.1111111111111111,
             "#46039f"
            ],
            [
             0.2222222222222222,
             "#7201a8"
            ],
            [
             0.3333333333333333,
             "#9c179e"
            ],
            [
             0.4444444444444444,
             "#bd3786"
            ],
            [
             0.5555555555555556,
             "#d8576b"
            ],
            [
             0.6666666666666666,
             "#ed7953"
            ],
            [
             0.7777777777777778,
             "#fb9f3a"
            ],
            [
             0.8888888888888888,
             "#fdca26"
            ],
            [
             1,
             "#f0f921"
            ]
           ]
          },
          "colorway": [
           "#636efa",
           "#EF553B",
           "#00cc96",
           "#ab63fa",
           "#FFA15A",
           "#19d3f3",
           "#FF6692",
           "#B6E880",
           "#FF97FF",
           "#FECB52"
          ],
          "font": {
           "color": "#2a3f5f"
          },
          "geo": {
           "bgcolor": "white",
           "lakecolor": "white",
           "landcolor": "#E5ECF6",
           "showlakes": true,
           "showland": true,
           "subunitcolor": "white"
          },
          "hoverlabel": {
           "align": "left"
          },
          "hovermode": "closest",
          "mapbox": {
           "style": "light"
          },
          "paper_bgcolor": "white",
          "plot_bgcolor": "#E5ECF6",
          "polar": {
           "angularaxis": {
            "gridcolor": "white",
            "linecolor": "white",
            "ticks": ""
           },
           "bgcolor": "#E5ECF6",
           "radialaxis": {
            "gridcolor": "white",
            "linecolor": "white",
            "ticks": ""
           }
          },
          "scene": {
           "xaxis": {
            "backgroundcolor": "#E5ECF6",
            "gridcolor": "white",
            "gridwidth": 2,
            "linecolor": "white",
            "showbackground": true,
            "ticks": "",
            "zerolinecolor": "white"
           },
           "yaxis": {
            "backgroundcolor": "#E5ECF6",
            "gridcolor": "white",
            "gridwidth": 2,
            "linecolor": "white",
            "showbackground": true,
            "ticks": "",
            "zerolinecolor": "white"
           },
           "zaxis": {
            "backgroundcolor": "#E5ECF6",
            "gridcolor": "white",
            "gridwidth": 2,
            "linecolor": "white",
            "showbackground": true,
            "ticks": "",
            "zerolinecolor": "white"
           }
          },
          "shapedefaults": {
           "line": {
            "color": "#2a3f5f"
           }
          },
          "ternary": {
           "aaxis": {
            "gridcolor": "white",
            "linecolor": "white",
            "ticks": ""
           },
           "baxis": {
            "gridcolor": "white",
            "linecolor": "white",
            "ticks": ""
           },
           "bgcolor": "#E5ECF6",
           "caxis": {
            "gridcolor": "white",
            "linecolor": "white",
            "ticks": ""
           }
          },
          "title": {
           "x": 0.05
          },
          "xaxis": {
           "automargin": true,
           "gridcolor": "white",
           "linecolor": "white",
           "ticks": "",
           "title": {
            "standoff": 15
           },
           "zerolinecolor": "white",
           "zerolinewidth": 2
          },
          "yaxis": {
           "automargin": true,
           "gridcolor": "white",
           "linecolor": "white",
           "ticks": "",
           "title": {
            "standoff": 15
           },
           "zerolinecolor": "white",
           "zerolinewidth": 2
          }
         }
        },
        "xaxis": {
         "anchor": "y",
         "domain": [
          0,
          1
         ],
         "title": {
          "text": "x_Timestamp"
         }
        },
        "yaxis": {
         "anchor": "x",
         "domain": [
          0,
          1
         ],
         "title": {
          "text": "value"
         }
        }
       }
      },
      "text/html": [
       "<div>\n",
       "        \n",
       "        \n",
       "            <div id=\"e1bdf344-cab2-46db-ad31-826b77b142de\" class=\"plotly-graph-div\" style=\"height:525px; width:100%;\"></div>\n",
       "            <script type=\"text/javascript\">\n",
       "                require([\"plotly\"], function(Plotly) {\n",
       "                    window.PLOTLYENV=window.PLOTLYENV || {};\n",
       "                    \n",
       "                if (document.getElementById(\"e1bdf344-cab2-46db-ad31-826b77b142de\")) {\n",
       "                    Plotly.newPlot(\n",
       "                        'e1bdf344-cab2-46db-ad31-826b77b142de',\n",
       "                        [{\"hovertemplate\": \"variable=final_compressor<br>x_Timestamp=%{x}<br>value=%{y}<extra></extra>\", \"legendgroup\": \"final_compressor\", \"line\": {\"color\": \"#636efa\", \"dash\": \"solid\"}, \"mode\": \"lines\", \"name\": \"final_compressor\", \"orientation\": \"v\", \"showlegend\": true, \"type\": \"scatter\", \"x\": [\"2019-05-22T00:00:00\", \"2019-05-22T00:03:00\", \"2019-05-22T00:06:00\", \"2019-05-22T00:09:00\", \"2019-05-22T00:12:00\", \"2019-05-22T00:15:00\", \"2019-05-22T00:18:00\", \"2019-05-22T00:21:00\", \"2019-05-22T00:24:00\", \"2019-05-22T00:27:00\", \"2019-05-22T00:30:00\", \"2019-05-22T00:33:00\", \"2019-05-22T00:36:00\", \"2019-05-22T00:39:00\", \"2019-05-22T00:42:00\", \"2019-05-22T00:45:00\", \"2019-05-22T00:48:00\", \"2019-05-22T00:51:00\", \"2019-05-22T00:54:00\", \"2019-05-22T00:57:00\", \"2019-05-22T01:00:00\", \"2019-05-22T01:03:00\", \"2019-05-22T01:06:00\", \"2019-05-22T01:09:00\", \"2019-05-22T01:12:00\", \"2019-05-22T01:15:00\", \"2019-05-22T01:18:00\", \"2019-05-22T01:21:00\", \"2019-05-22T01:24:00\", \"2019-05-22T01:27:00\", \"2019-05-22T01:30:00\", \"2019-05-22T01:33:00\", \"2019-05-22T01:36:00\", \"2019-05-22T01:39:00\", \"2019-05-22T01:42:00\", \"2019-05-22T01:45:00\", \"2019-05-22T01:48:00\", \"2019-05-22T01:51:00\", \"2019-05-22T01:54:00\", \"2019-05-22T01:57:00\", \"2019-05-22T02:00:00\", \"2019-05-22T02:03:00\", \"2019-05-22T02:06:00\", \"2019-05-22T02:09:00\", \"2019-05-22T02:12:00\", \"2019-05-22T02:15:00\", \"2019-05-22T02:18:00\", \"2019-05-22T02:21:00\", \"2019-05-22T02:24:00\", \"2019-05-22T02:27:00\", \"2019-05-22T02:30:00\", \"2019-05-22T02:33:00\", \"2019-05-22T02:36:00\", \"2019-05-22T02:39:00\", \"2019-05-22T02:42:00\", \"2019-05-22T02:45:00\", \"2019-05-22T02:48:00\", \"2019-05-22T02:51:00\", \"2019-05-22T02:54:00\", \"2019-05-22T02:57:00\", \"2019-05-22T03:00:00\", \"2019-05-22T03:03:00\", \"2019-05-22T03:06:00\", \"2019-05-22T03:09:00\", \"2019-05-22T03:12:00\", \"2019-05-22T03:15:00\", \"2019-05-22T03:18:00\", \"2019-05-22T03:21:00\", \"2019-05-22T03:24:00\", \"2019-05-22T03:27:00\", \"2019-05-22T03:30:00\", \"2019-05-22T03:33:00\", \"2019-05-22T03:36:00\", \"2019-05-22T03:39:00\", \"2019-05-22T03:42:00\", \"2019-05-22T03:45:00\", \"2019-05-22T03:48:00\", \"2019-05-22T03:51:00\", \"2019-05-22T03:54:00\", \"2019-05-22T03:57:00\", \"2019-05-22T04:00:00\", \"2019-05-22T04:03:00\", \"2019-05-22T04:06:00\", \"2019-05-22T04:09:00\", \"2019-05-22T04:12:00\", \"2019-05-22T04:15:00\", \"2019-05-22T04:18:00\", \"2019-05-22T04:21:00\", \"2019-05-22T04:24:00\", \"2019-05-22T04:27:00\", \"2019-05-22T04:30:00\", \"2019-05-22T04:33:00\", \"2019-05-22T04:36:00\", \"2019-05-22T04:39:00\", \"2019-05-22T04:42:00\", \"2019-05-22T04:45:00\", \"2019-05-22T04:48:00\", \"2019-05-22T04:51:00\", \"2019-05-22T04:54:00\", \"2019-05-22T04:57:00\", \"2019-05-22T05:00:00\", \"2019-05-22T05:03:00\", \"2019-05-22T05:06:00\", \"2019-05-22T05:09:00\", \"2019-05-22T05:12:00\", \"2019-05-22T05:15:00\", \"2019-05-22T05:18:00\", \"2019-05-22T05:21:00\", \"2019-05-22T05:24:00\", \"2019-05-22T05:27:00\", \"2019-05-22T05:30:00\", \"2019-05-22T05:33:00\", \"2019-05-22T05:36:00\", \"2019-05-22T05:39:00\", \"2019-05-22T05:42:00\", \"2019-05-22T05:45:00\", \"2019-05-22T05:48:00\", \"2019-05-22T05:51:00\", \"2019-05-22T05:54:00\", \"2019-05-22T05:57:00\", \"2019-05-22T06:00:00\", \"2019-05-22T06:03:00\", \"2019-05-22T06:06:00\", \"2019-05-22T06:09:00\", \"2019-05-22T06:12:00\", \"2019-05-22T06:15:00\", \"2019-05-22T06:18:00\", \"2019-05-22T06:21:00\", \"2019-05-22T06:24:00\", \"2019-05-22T06:27:00\", \"2019-05-22T06:30:00\", \"2019-05-22T06:33:00\", \"2019-05-22T06:36:00\", \"2019-05-22T06:39:00\", \"2019-05-22T06:42:00\", \"2019-05-22T06:45:00\", \"2019-05-22T06:48:00\", \"2019-05-22T06:51:00\", \"2019-05-22T06:54:00\", \"2019-05-22T06:57:00\", \"2019-05-22T07:00:00\", \"2019-05-22T07:03:00\", \"2019-05-22T07:06:00\", \"2019-05-22T07:09:00\", \"2019-05-22T07:12:00\", \"2019-05-22T07:15:00\", \"2019-05-22T07:18:00\", \"2019-05-22T07:21:00\", \"2019-05-22T07:24:00\", \"2019-05-22T07:27:00\", \"2019-05-22T07:30:00\", \"2019-05-22T07:33:00\", \"2019-05-22T07:36:00\", \"2019-05-22T07:39:00\", \"2019-05-22T07:42:00\", \"2019-05-22T07:45:00\", \"2019-05-22T07:48:00\", \"2019-05-22T07:51:00\", \"2019-05-22T07:54:00\", \"2019-05-22T07:57:00\", \"2019-05-22T08:00:00\", \"2019-05-22T08:03:00\", \"2019-05-22T08:06:00\", \"2019-05-22T08:09:00\", \"2019-05-22T08:12:00\", \"2019-05-22T08:15:00\", \"2019-05-22T08:18:00\", \"2019-05-22T08:21:00\", \"2019-05-22T08:24:00\", \"2019-05-22T08:27:00\", \"2019-05-22T08:30:00\", \"2019-05-22T08:33:00\", \"2019-05-22T08:36:00\", \"2019-05-22T08:39:00\", \"2019-05-22T08:42:00\", \"2019-05-22T08:45:00\", \"2019-05-22T08:48:00\", \"2019-05-22T08:51:00\", \"2019-05-22T08:54:00\", \"2019-05-22T08:57:00\", \"2019-05-22T09:00:00\", \"2019-05-22T09:03:00\", \"2019-05-22T09:06:00\", \"2019-05-22T09:09:00\", \"2019-05-22T09:12:00\", \"2019-05-22T09:15:00\", \"2019-05-22T09:18:00\", \"2019-05-22T09:21:00\", \"2019-05-22T09:24:00\", \"2019-05-22T09:27:00\", \"2019-05-22T09:30:00\", \"2019-05-22T09:33:00\", \"2019-05-22T09:36:00\", \"2019-05-22T09:39:00\", \"2019-05-22T09:42:00\", \"2019-05-22T09:45:00\", \"2019-05-22T09:48:00\", \"2019-05-22T09:51:00\", \"2019-05-22T09:54:00\", \"2019-05-22T09:57:00\", \"2019-05-22T10:00:00\", \"2019-05-22T10:03:00\", \"2019-05-22T10:06:00\", \"2019-05-22T10:09:00\", \"2019-05-22T10:12:00\", \"2019-05-22T10:15:00\", \"2019-05-22T10:18:00\", \"2019-05-22T10:21:00\", \"2019-05-22T10:24:00\", \"2019-05-22T10:27:00\", \"2019-05-22T10:30:00\", \"2019-05-22T10:33:00\", \"2019-05-22T10:36:00\", \"2019-05-22T10:39:00\", \"2019-05-22T10:42:00\", \"2019-05-22T10:45:00\", \"2019-05-22T10:48:00\", \"2019-05-22T10:51:00\", \"2019-05-22T10:54:00\", \"2019-05-22T10:57:00\", \"2019-05-22T11:00:00\", \"2019-05-22T11:03:00\", \"2019-05-22T11:06:00\", \"2019-05-22T11:09:00\", \"2019-05-22T11:12:00\", \"2019-05-22T11:15:00\", \"2019-05-22T11:18:00\", \"2019-05-22T11:21:00\", \"2019-05-22T11:24:00\", \"2019-05-22T11:27:00\", \"2019-05-22T11:30:00\", \"2019-05-22T11:33:00\", \"2019-05-22T11:36:00\", \"2019-05-22T11:39:00\", \"2019-05-22T11:42:00\", \"2019-05-22T11:45:00\", \"2019-05-22T11:48:00\", \"2019-05-22T11:51:00\", \"2019-05-22T11:54:00\", \"2019-05-22T11:57:00\", \"2019-05-22T12:00:00\", \"2019-05-22T12:03:00\", \"2019-05-22T12:06:00\", \"2019-05-22T12:09:00\", \"2019-05-22T12:12:00\", \"2019-05-22T12:15:00\", \"2019-05-22T12:18:00\", \"2019-05-22T12:21:00\", \"2019-05-22T12:24:00\", \"2019-05-22T12:27:00\", \"2019-05-22T12:30:00\", \"2019-05-22T12:33:00\", \"2019-05-22T12:36:00\", \"2019-05-22T12:39:00\", \"2019-05-22T12:42:00\", \"2019-05-22T12:45:00\", \"2019-05-22T12:48:00\", \"2019-05-22T12:51:00\", \"2019-05-22T12:54:00\", \"2019-05-22T12:57:00\", \"2019-05-22T13:00:00\", \"2019-05-22T13:03:00\", \"2019-05-22T13:06:00\", \"2019-05-22T13:09:00\", \"2019-05-22T13:12:00\", \"2019-05-22T13:15:00\", \"2019-05-22T13:18:00\", \"2019-05-22T13:21:00\", \"2019-05-22T13:24:00\", \"2019-05-22T13:27:00\", \"2019-05-22T13:30:00\", \"2019-05-22T13:33:00\", \"2019-05-22T13:36:00\", \"2019-05-22T13:39:00\", \"2019-05-22T13:42:00\", \"2019-05-22T13:45:00\", \"2019-05-22T13:48:00\", \"2019-05-22T13:51:00\", \"2019-05-22T13:54:00\", \"2019-05-22T13:57:00\", \"2019-05-22T14:00:00\", \"2019-05-22T14:03:00\", \"2019-05-22T14:06:00\", \"2019-05-22T14:09:00\", \"2019-05-22T14:12:00\", \"2019-05-22T14:15:00\", \"2019-05-22T14:18:00\", \"2019-05-22T14:21:00\", \"2019-05-22T14:24:00\", \"2019-05-22T14:27:00\", \"2019-05-22T14:30:00\", \"2019-05-22T14:33:00\", \"2019-05-22T14:36:00\", \"2019-05-22T14:39:00\", \"2019-05-22T14:42:00\", \"2019-05-22T14:45:00\", \"2019-05-22T14:48:00\", \"2019-05-22T14:51:00\", \"2019-05-22T14:54:00\", \"2019-05-22T14:57:00\", \"2019-05-22T15:00:00\", \"2019-05-22T15:03:00\", \"2019-05-22T15:06:00\", \"2019-05-22T15:09:00\", \"2019-05-22T15:12:00\", \"2019-05-22T15:15:00\", \"2019-05-22T15:18:00\", \"2019-05-22T15:21:00\", \"2019-05-22T15:24:00\", \"2019-05-22T15:27:00\", \"2019-05-22T15:30:00\", \"2019-05-22T15:33:00\", \"2019-05-22T15:36:00\", \"2019-05-22T15:39:00\", \"2019-05-22T15:42:00\", \"2019-05-22T15:45:00\", \"2019-05-22T15:48:00\", \"2019-05-22T15:51:00\", \"2019-05-22T15:54:00\", \"2019-05-22T15:57:00\", \"2019-05-22T16:00:00\", \"2019-05-22T16:03:00\", \"2019-05-22T16:06:00\", \"2019-05-22T16:09:00\", \"2019-05-22T16:12:00\", \"2019-05-22T16:15:00\", \"2019-05-22T16:18:00\", \"2019-05-22T16:21:00\", \"2019-05-22T16:24:00\", \"2019-05-22T16:27:00\", \"2019-05-22T16:30:00\", \"2019-05-22T16:33:00\", \"2019-05-22T16:36:00\", \"2019-05-22T16:39:00\", \"2019-05-22T16:42:00\", \"2019-05-22T16:45:00\", \"2019-05-22T16:48:00\", \"2019-05-22T16:51:00\", \"2019-05-22T16:54:00\", \"2019-05-22T16:57:00\", \"2019-05-22T17:00:00\", \"2019-05-22T17:03:00\", \"2019-05-22T17:06:00\", \"2019-05-22T17:09:00\", \"2019-05-22T17:12:00\", \"2019-05-22T17:15:00\", \"2019-05-22T17:18:00\", \"2019-05-22T17:21:00\", \"2019-05-22T17:24:00\", \"2019-05-22T17:27:00\", \"2019-05-22T17:30:00\", \"2019-05-22T17:33:00\", \"2019-05-22T17:36:00\", \"2019-05-22T17:39:00\", \"2019-05-22T17:42:00\", \"2019-05-22T17:45:00\", \"2019-05-22T17:48:00\", \"2019-05-22T17:51:00\", \"2019-05-22T17:54:00\", \"2019-05-22T17:57:00\", \"2019-05-22T18:00:00\", \"2019-05-22T18:03:00\", \"2019-05-22T18:06:00\", \"2019-05-22T18:09:00\", \"2019-05-22T18:12:00\", \"2019-05-22T18:15:00\", \"2019-05-22T18:18:00\", \"2019-05-22T18:21:00\", \"2019-05-22T18:24:00\", \"2019-05-22T18:27:00\", \"2019-05-22T18:30:00\", \"2019-05-22T18:33:00\", \"2019-05-22T18:36:00\", \"2019-05-22T18:39:00\", \"2019-05-22T18:42:00\", \"2019-05-22T18:45:00\", \"2019-05-22T18:48:00\", \"2019-05-22T18:51:00\", \"2019-05-22T18:54:00\", \"2019-05-22T18:57:00\", \"2019-05-22T19:00:00\", \"2019-05-22T19:03:00\", \"2019-05-22T19:06:00\", \"2019-05-22T19:09:00\", \"2019-05-22T19:12:00\", \"2019-05-22T19:15:00\", \"2019-05-22T19:18:00\", \"2019-05-22T19:21:00\", \"2019-05-22T19:24:00\", \"2019-05-22T19:27:00\", \"2019-05-22T19:30:00\", \"2019-05-22T19:33:00\", \"2019-05-22T19:36:00\", \"2019-05-22T19:39:00\", \"2019-05-22T19:42:00\", \"2019-05-22T19:45:00\", \"2019-05-22T19:48:00\", \"2019-05-22T19:51:00\", \"2019-05-22T19:54:00\", \"2019-05-22T19:57:00\", \"2019-05-22T20:00:00\", \"2019-05-22T20:03:00\", \"2019-05-22T20:06:00\", \"2019-05-22T20:09:00\", \"2019-05-22T20:12:00\", \"2019-05-22T20:15:00\", \"2019-05-22T20:18:00\", \"2019-05-22T20:21:00\", \"2019-05-22T20:24:00\", \"2019-05-22T20:27:00\", \"2019-05-22T20:30:00\", \"2019-05-22T20:33:00\", \"2019-05-22T20:36:00\", \"2019-05-22T20:39:00\", \"2019-05-22T20:42:00\", \"2019-05-22T20:45:00\", \"2019-05-22T20:48:00\", \"2019-05-22T20:51:00\", \"2019-05-22T20:54:00\", \"2019-05-22T20:57:00\", \"2019-05-22T21:00:00\", \"2019-05-22T21:03:00\", \"2019-05-22T21:06:00\", \"2019-05-22T21:09:00\", \"2019-05-22T21:12:00\", \"2019-05-22T21:15:00\", \"2019-05-22T21:18:00\", \"2019-05-22T21:21:00\", \"2019-05-22T21:24:00\", \"2019-05-22T21:27:00\", \"2019-05-22T21:30:00\", \"2019-05-22T21:33:00\", \"2019-05-22T21:36:00\", \"2019-05-22T21:39:00\", \"2019-05-22T21:42:00\", \"2019-05-22T21:45:00\", \"2019-05-22T21:48:00\", \"2019-05-22T21:51:00\", \"2019-05-22T21:54:00\", \"2019-05-22T21:57:00\", \"2019-05-22T22:00:00\", \"2019-05-22T22:03:00\", \"2019-05-22T22:06:00\", \"2019-05-22T22:09:00\", \"2019-05-22T22:12:00\", \"2019-05-22T22:15:00\", \"2019-05-22T22:18:00\", \"2019-05-22T22:21:00\", \"2019-05-22T22:24:00\", \"2019-05-22T22:27:00\", \"2019-05-22T22:30:00\", \"2019-05-22T22:33:00\", \"2019-05-22T22:36:00\", \"2019-05-22T22:39:00\", \"2019-05-22T22:42:00\", \"2019-05-22T22:45:00\", \"2019-05-22T22:48:00\", \"2019-05-22T22:51:00\", \"2019-05-22T22:54:00\", \"2019-05-22T22:57:00\", \"2019-05-22T23:00:00\", \"2019-05-22T23:03:00\", \"2019-05-22T23:06:00\", \"2019-05-22T23:09:00\", \"2019-05-22T23:12:00\", \"2019-05-22T23:15:00\", \"2019-05-22T23:18:00\", \"2019-05-22T23:21:00\", \"2019-05-22T23:24:00\", \"2019-05-22T23:27:00\", \"2019-05-22T23:30:00\", \"2019-05-22T23:33:00\", \"2019-05-22T23:36:00\", \"2019-05-22T23:39:00\", \"2019-05-22T23:42:00\", \"2019-05-22T23:45:00\", \"2019-05-22T23:48:00\", \"2019-05-22T23:51:00\", \"2019-05-22T23:54:00\", \"2019-05-22T23:57:00\"], \"xaxis\": \"x\", \"y\": [1, 1, 1, 1, 1, 1, 1, 1, 1, 1, 1, 1, 1, 1, 1, 1, 1, 1, 1, 1, 1, 1, 1, 1, 1, 1, 1, 1, 1, 1, 1, 1, 1, 1, 1, 1, 1, 1, 1, 1, 1, 1, 1, 1, 1, 1, 1, 1, 1, 1, 1, 1, 1, 1, 1, 1, 1, 1, 1, 1, 0, 0, 0, 0, 0, 0, 0, 0, 0, 0, 0, 0, 0, 0, 0, 0, 0, 0, 0, 0, 0, 0, 0, 0, 0, 0, 0, 0, 0, 0, 0, 0, 0, 0, 0, 0, 0, 0, 0, 0, 0, 0, 0, 0, 0, 0, 0, 0, 0, 0, 0, 0, 0, 0, 0, 0, 0, 0, 1, 1, 0, 0, 0, 0, 0, 0, 1, 1, 1, 1, 1, 1, 1, 1, 1, 0, 0, 0, 0, 0, 0, 0, 0, 0, 0, 0, 0, 0, 0, 0, 0, 0, 0, 0, 0, 0, 0, 0, 0, 0, 0, 0, 0, 0, 0, 0, 0, 0, 0, 0, 0, 0, 0, 0, 0, 0, 0, 0, 0, 0, 0, 0, 0, 0, 0, 0, 0, 0, 0, 0, 0, 0, 0, 0, 0, 0, 0, 0, 0, 0, 0, 0, 0, 0, 0, 0, 0, 0, 0, 0, 0, 0, 0, 0, 0, 0, 0, 0, 0, 0, 0, 0, 0, 0, 0, 0, 0, 0, 0, 0, 0, 0, 0, 0, 0, 0, 0, 0, 0, 0, 0, 0, 0, 0, 0, 0, 0, 0, 0, 0, 0, 0, 0, 0, 0, 0, 0, 0, 0, 0, 0, 0, 0, 0, 0, 0, 0, 0, 0, 0, 0, 0, 0, 0, 0, 0, 0, 0, 0, 0, 0, 0, 0, 0, 0, 1, 1, 1, 1, 1, 1, 1, 1, 1, 1, 1, 1, 0, 1, 1, 1, 1, 1, 1, 1, 1, 0, 0, 0, 0, 0, 0, 0, 0, 0, 0, 0, 0, 0, 0, 0, 0, 0, 0, 0, 0, 0, 0, 0, 0, 0, 0, 0, 0, 0, 0, 0, 0, 0, 0, 0, 0, 0, 0, 0, 0, 0, 0, 0, 0, 0, 0, 0, 0, 0, 0, 0, 0, 0, 0, 0, 0, 0, 0, 0, 0, 0, 0, 0, 0, 0, 0, 0, 0, 0, 0, 0, 0, 0, 0, 0, 0, 0, 0, 0, 0, 0, 0, 0, 0, 0, 0, 0, 0, 0, 0, 0, 0, 0, 0, 0, 0, 0, 0, 0, 0, 0, 0, 0, 0, 0, 0, 0, 0, 0, 0, 0, 0, 0, 0, 0, 0, 0, 0, 0, 0, 0, 0, 0, 0, 0, 0, 0, 0, 1, 1, 1, 1, 1, 1, 1, 1, 1, 1, 1, 1, 1, 1, 1, 1, 1, 1, 1, 1, 1, 1, 1, 1, 1, 1, 1, 1, 1, 1, 1, 1, 1, 1, 1, 1, 1, 1, 1, 1, 1, 1, 1, 1, 1, 1], \"yaxis\": \"y\"}],\n",
       "                        {\"legend\": {\"title\": {\"text\": \"variable\"}, \"tracegroupgap\": 0}, \"margin\": {\"t\": 60}, \"template\": {\"data\": {\"bar\": [{\"error_x\": {\"color\": \"#2a3f5f\"}, \"error_y\": {\"color\": \"#2a3f5f\"}, \"marker\": {\"line\": {\"color\": \"#E5ECF6\", \"width\": 0.5}}, \"type\": \"bar\"}], \"barpolar\": [{\"marker\": {\"line\": {\"color\": \"#E5ECF6\", \"width\": 0.5}}, \"type\": \"barpolar\"}], \"carpet\": [{\"aaxis\": {\"endlinecolor\": \"#2a3f5f\", \"gridcolor\": \"white\", \"linecolor\": \"white\", \"minorgridcolor\": \"white\", \"startlinecolor\": \"#2a3f5f\"}, \"baxis\": {\"endlinecolor\": \"#2a3f5f\", \"gridcolor\": \"white\", \"linecolor\": \"white\", \"minorgridcolor\": \"white\", \"startlinecolor\": \"#2a3f5f\"}, \"type\": \"carpet\"}], \"choropleth\": [{\"colorbar\": {\"outlinewidth\": 0, \"ticks\": \"\"}, \"type\": \"choropleth\"}], \"contour\": [{\"colorbar\": {\"outlinewidth\": 0, \"ticks\": \"\"}, \"colorscale\": [[0.0, \"#0d0887\"], [0.1111111111111111, \"#46039f\"], [0.2222222222222222, \"#7201a8\"], [0.3333333333333333, \"#9c179e\"], [0.4444444444444444, \"#bd3786\"], [0.5555555555555556, \"#d8576b\"], [0.6666666666666666, \"#ed7953\"], [0.7777777777777778, \"#fb9f3a\"], [0.8888888888888888, \"#fdca26\"], [1.0, \"#f0f921\"]], \"type\": \"contour\"}], \"contourcarpet\": [{\"colorbar\": {\"outlinewidth\": 0, \"ticks\": \"\"}, \"type\": \"contourcarpet\"}], \"heatmap\": [{\"colorbar\": {\"outlinewidth\": 0, \"ticks\": \"\"}, \"colorscale\": [[0.0, \"#0d0887\"], [0.1111111111111111, \"#46039f\"], [0.2222222222222222, \"#7201a8\"], [0.3333333333333333, \"#9c179e\"], [0.4444444444444444, \"#bd3786\"], [0.5555555555555556, \"#d8576b\"], [0.6666666666666666, \"#ed7953\"], [0.7777777777777778, \"#fb9f3a\"], [0.8888888888888888, \"#fdca26\"], [1.0, \"#f0f921\"]], \"type\": \"heatmap\"}], \"heatmapgl\": [{\"colorbar\": {\"outlinewidth\": 0, \"ticks\": \"\"}, \"colorscale\": [[0.0, \"#0d0887\"], [0.1111111111111111, \"#46039f\"], [0.2222222222222222, \"#7201a8\"], [0.3333333333333333, \"#9c179e\"], [0.4444444444444444, \"#bd3786\"], [0.5555555555555556, \"#d8576b\"], [0.6666666666666666, \"#ed7953\"], [0.7777777777777778, \"#fb9f3a\"], [0.8888888888888888, \"#fdca26\"], [1.0, \"#f0f921\"]], \"type\": \"heatmapgl\"}], \"histogram\": [{\"marker\": {\"colorbar\": {\"outlinewidth\": 0, \"ticks\": \"\"}}, \"type\": \"histogram\"}], \"histogram2d\": [{\"colorbar\": {\"outlinewidth\": 0, \"ticks\": \"\"}, \"colorscale\": [[0.0, \"#0d0887\"], [0.1111111111111111, \"#46039f\"], [0.2222222222222222, \"#7201a8\"], [0.3333333333333333, \"#9c179e\"], [0.4444444444444444, \"#bd3786\"], [0.5555555555555556, \"#d8576b\"], [0.6666666666666666, \"#ed7953\"], [0.7777777777777778, \"#fb9f3a\"], [0.8888888888888888, \"#fdca26\"], [1.0, \"#f0f921\"]], \"type\": \"histogram2d\"}], \"histogram2dcontour\": [{\"colorbar\": {\"outlinewidth\": 0, \"ticks\": \"\"}, \"colorscale\": [[0.0, \"#0d0887\"], [0.1111111111111111, \"#46039f\"], [0.2222222222222222, \"#7201a8\"], [0.3333333333333333, \"#9c179e\"], [0.4444444444444444, \"#bd3786\"], [0.5555555555555556, \"#d8576b\"], [0.6666666666666666, \"#ed7953\"], [0.7777777777777778, \"#fb9f3a\"], [0.8888888888888888, \"#fdca26\"], [1.0, \"#f0f921\"]], \"type\": \"histogram2dcontour\"}], \"mesh3d\": [{\"colorbar\": {\"outlinewidth\": 0, \"ticks\": \"\"}, \"type\": \"mesh3d\"}], \"parcoords\": [{\"line\": {\"colorbar\": {\"outlinewidth\": 0, \"ticks\": \"\"}}, \"type\": \"parcoords\"}], \"pie\": [{\"automargin\": true, \"type\": \"pie\"}], \"scatter\": [{\"marker\": {\"colorbar\": {\"outlinewidth\": 0, \"ticks\": \"\"}}, \"type\": \"scatter\"}], \"scatter3d\": [{\"line\": {\"colorbar\": {\"outlinewidth\": 0, \"ticks\": \"\"}}, \"marker\": {\"colorbar\": {\"outlinewidth\": 0, \"ticks\": \"\"}}, \"type\": \"scatter3d\"}], \"scattercarpet\": [{\"marker\": {\"colorbar\": {\"outlinewidth\": 0, \"ticks\": \"\"}}, \"type\": \"scattercarpet\"}], \"scattergeo\": [{\"marker\": {\"colorbar\": {\"outlinewidth\": 0, \"ticks\": \"\"}}, \"type\": \"scattergeo\"}], \"scattergl\": [{\"marker\": {\"colorbar\": {\"outlinewidth\": 0, \"ticks\": \"\"}}, \"type\": \"scattergl\"}], \"scattermapbox\": [{\"marker\": {\"colorbar\": {\"outlinewidth\": 0, \"ticks\": \"\"}}, \"type\": \"scattermapbox\"}], \"scatterpolar\": [{\"marker\": {\"colorbar\": {\"outlinewidth\": 0, \"ticks\": \"\"}}, \"type\": \"scatterpolar\"}], \"scatterpolargl\": [{\"marker\": {\"colorbar\": {\"outlinewidth\": 0, \"ticks\": \"\"}}, \"type\": \"scatterpolargl\"}], \"scatterternary\": [{\"marker\": {\"colorbar\": {\"outlinewidth\": 0, \"ticks\": \"\"}}, \"type\": \"scatterternary\"}], \"surface\": [{\"colorbar\": {\"outlinewidth\": 0, \"ticks\": \"\"}, \"colorscale\": [[0.0, \"#0d0887\"], [0.1111111111111111, \"#46039f\"], [0.2222222222222222, \"#7201a8\"], [0.3333333333333333, \"#9c179e\"], [0.4444444444444444, \"#bd3786\"], [0.5555555555555556, \"#d8576b\"], [0.6666666666666666, \"#ed7953\"], [0.7777777777777778, \"#fb9f3a\"], [0.8888888888888888, \"#fdca26\"], [1.0, \"#f0f921\"]], \"type\": \"surface\"}], \"table\": [{\"cells\": {\"fill\": {\"color\": \"#EBF0F8\"}, \"line\": {\"color\": \"white\"}}, \"header\": {\"fill\": {\"color\": \"#C8D4E3\"}, \"line\": {\"color\": \"white\"}}, \"type\": \"table\"}]}, \"layout\": {\"annotationdefaults\": {\"arrowcolor\": \"#2a3f5f\", \"arrowhead\": 0, \"arrowwidth\": 1}, \"coloraxis\": {\"colorbar\": {\"outlinewidth\": 0, \"ticks\": \"\"}}, \"colorscale\": {\"diverging\": [[0, \"#8e0152\"], [0.1, \"#c51b7d\"], [0.2, \"#de77ae\"], [0.3, \"#f1b6da\"], [0.4, \"#fde0ef\"], [0.5, \"#f7f7f7\"], [0.6, \"#e6f5d0\"], [0.7, \"#b8e186\"], [0.8, \"#7fbc41\"], [0.9, \"#4d9221\"], [1, \"#276419\"]], \"sequential\": [[0.0, \"#0d0887\"], [0.1111111111111111, \"#46039f\"], [0.2222222222222222, \"#7201a8\"], [0.3333333333333333, \"#9c179e\"], [0.4444444444444444, \"#bd3786\"], [0.5555555555555556, \"#d8576b\"], [0.6666666666666666, \"#ed7953\"], [0.7777777777777778, \"#fb9f3a\"], [0.8888888888888888, \"#fdca26\"], [1.0, \"#f0f921\"]], \"sequentialminus\": [[0.0, \"#0d0887\"], [0.1111111111111111, \"#46039f\"], [0.2222222222222222, \"#7201a8\"], [0.3333333333333333, \"#9c179e\"], [0.4444444444444444, \"#bd3786\"], [0.5555555555555556, \"#d8576b\"], [0.6666666666666666, \"#ed7953\"], [0.7777777777777778, \"#fb9f3a\"], [0.8888888888888888, \"#fdca26\"], [1.0, \"#f0f921\"]]}, \"colorway\": [\"#636efa\", \"#EF553B\", \"#00cc96\", \"#ab63fa\", \"#FFA15A\", \"#19d3f3\", \"#FF6692\", \"#B6E880\", \"#FF97FF\", \"#FECB52\"], \"font\": {\"color\": \"#2a3f5f\"}, \"geo\": {\"bgcolor\": \"white\", \"lakecolor\": \"white\", \"landcolor\": \"#E5ECF6\", \"showlakes\": true, \"showland\": true, \"subunitcolor\": \"white\"}, \"hoverlabel\": {\"align\": \"left\"}, \"hovermode\": \"closest\", \"mapbox\": {\"style\": \"light\"}, \"paper_bgcolor\": \"white\", \"plot_bgcolor\": \"#E5ECF6\", \"polar\": {\"angularaxis\": {\"gridcolor\": \"white\", \"linecolor\": \"white\", \"ticks\": \"\"}, \"bgcolor\": \"#E5ECF6\", \"radialaxis\": {\"gridcolor\": \"white\", \"linecolor\": \"white\", \"ticks\": \"\"}}, \"scene\": {\"xaxis\": {\"backgroundcolor\": \"#E5ECF6\", \"gridcolor\": \"white\", \"gridwidth\": 2, \"linecolor\": \"white\", \"showbackground\": true, \"ticks\": \"\", \"zerolinecolor\": \"white\"}, \"yaxis\": {\"backgroundcolor\": \"#E5ECF6\", \"gridcolor\": \"white\", \"gridwidth\": 2, \"linecolor\": \"white\", \"showbackground\": true, \"ticks\": \"\", \"zerolinecolor\": \"white\"}, \"zaxis\": {\"backgroundcolor\": \"#E5ECF6\", \"gridcolor\": \"white\", \"gridwidth\": 2, \"linecolor\": \"white\", \"showbackground\": true, \"ticks\": \"\", \"zerolinecolor\": \"white\"}}, \"shapedefaults\": {\"line\": {\"color\": \"#2a3f5f\"}}, \"ternary\": {\"aaxis\": {\"gridcolor\": \"white\", \"linecolor\": \"white\", \"ticks\": \"\"}, \"baxis\": {\"gridcolor\": \"white\", \"linecolor\": \"white\", \"ticks\": \"\"}, \"bgcolor\": \"#E5ECF6\", \"caxis\": {\"gridcolor\": \"white\", \"linecolor\": \"white\", \"ticks\": \"\"}}, \"title\": {\"x\": 0.05}, \"xaxis\": {\"automargin\": true, \"gridcolor\": \"white\", \"linecolor\": \"white\", \"ticks\": \"\", \"title\": {\"standoff\": 15}, \"zerolinecolor\": \"white\", \"zerolinewidth\": 2}, \"yaxis\": {\"automargin\": true, \"gridcolor\": \"white\", \"linecolor\": \"white\", \"ticks\": \"\", \"title\": {\"standoff\": 15}, \"zerolinecolor\": \"white\", \"zerolinewidth\": 2}}}, \"xaxis\": {\"anchor\": \"y\", \"domain\": [0.0, 1.0], \"title\": {\"text\": \"x_Timestamp\"}}, \"yaxis\": {\"anchor\": \"x\", \"domain\": [0.0, 1.0], \"title\": {\"text\": \"value\"}}},\n",
       "                        {\"responsive\": true}\n",
       "                    ).then(function(){\n",
       "                            \n",
       "var gd = document.getElementById('e1bdf344-cab2-46db-ad31-826b77b142de');\n",
       "var x = new MutationObserver(function (mutations, observer) {{\n",
       "        var display = window.getComputedStyle(gd).display;\n",
       "        if (!display || display === 'none') {{\n",
       "            console.log([gd, 'removed!']);\n",
       "            Plotly.purge(gd);\n",
       "            observer.disconnect();\n",
       "        }}\n",
       "}});\n",
       "\n",
       "// Listen for the removal of the full notebook cells\n",
       "var notebookContainer = gd.closest('#notebook-container');\n",
       "if (notebookContainer) {{\n",
       "    x.observe(notebookContainer, {childList: true});\n",
       "}}\n",
       "\n",
       "// Listen for the clearing of the current output cell\n",
       "var outputEl = gd.closest('.output');\n",
       "if (outputEl) {{\n",
       "    x.observe(outputEl, {childList: true});\n",
       "}}\n",
       "\n",
       "                        })\n",
       "                };\n",
       "                });\n",
       "            </script>\n",
       "        </div>"
      ]
     },
     "metadata": {},
     "output_type": "display_data"
    }
   ],
   "source": [
    "g['final_compressor'].plot()"
   ]
  },
  {
   "cell_type": "code",
   "execution_count": 40,
   "metadata": {},
   "outputs": [
    {
     "data": {
      "application/vnd.plotly.v1+json": {
       "config": {
        "plotlyServerURL": "https://plotly.com"
       },
       "data": [
        {
         "hovertemplate": "variable=ac_power<br>x_Timestamp=%{x}<br>value=%{y}<extra></extra>",
         "legendgroup": "ac_power",
         "line": {
          "color": "#636efa",
          "dash": "solid"
         },
         "mode": "lines",
         "name": "ac_power",
         "orientation": "v",
         "showlegend": true,
         "type": "scatter",
         "x": [
          "2019-05-22T00:00:00",
          "2019-05-22T00:03:00",
          "2019-05-22T00:06:00",
          "2019-05-22T00:09:00",
          "2019-05-22T00:12:00",
          "2019-05-22T00:15:00",
          "2019-05-22T00:18:00",
          "2019-05-22T00:21:00",
          "2019-05-22T00:24:00",
          "2019-05-22T00:27:00",
          "2019-05-22T00:30:00",
          "2019-05-22T00:33:00",
          "2019-05-22T00:36:00",
          "2019-05-22T00:39:00",
          "2019-05-22T00:42:00",
          "2019-05-22T00:45:00",
          "2019-05-22T00:48:00",
          "2019-05-22T00:51:00",
          "2019-05-22T00:54:00",
          "2019-05-22T00:57:00",
          "2019-05-22T01:00:00",
          "2019-05-22T01:03:00",
          "2019-05-22T01:06:00",
          "2019-05-22T01:09:00",
          "2019-05-22T01:12:00",
          "2019-05-22T01:15:00",
          "2019-05-22T01:18:00",
          "2019-05-22T01:21:00",
          "2019-05-22T01:24:00",
          "2019-05-22T01:27:00",
          "2019-05-22T01:30:00",
          "2019-05-22T01:33:00",
          "2019-05-22T01:36:00",
          "2019-05-22T01:39:00",
          "2019-05-22T01:42:00",
          "2019-05-22T01:45:00",
          "2019-05-22T01:48:00",
          "2019-05-22T01:51:00",
          "2019-05-22T01:54:00",
          "2019-05-22T01:57:00",
          "2019-05-22T02:00:00",
          "2019-05-22T02:03:00",
          "2019-05-22T02:06:00",
          "2019-05-22T02:09:00",
          "2019-05-22T02:12:00",
          "2019-05-22T02:15:00",
          "2019-05-22T02:18:00",
          "2019-05-22T02:21:00",
          "2019-05-22T02:24:00",
          "2019-05-22T02:27:00",
          "2019-05-22T02:30:00",
          "2019-05-22T02:33:00",
          "2019-05-22T02:36:00",
          "2019-05-22T02:39:00",
          "2019-05-22T02:42:00",
          "2019-05-22T02:45:00",
          "2019-05-22T02:48:00",
          "2019-05-22T02:51:00",
          "2019-05-22T02:54:00",
          "2019-05-22T02:57:00",
          "2019-05-22T03:00:00",
          "2019-05-22T03:03:00",
          "2019-05-22T03:06:00",
          "2019-05-22T03:09:00",
          "2019-05-22T03:12:00",
          "2019-05-22T03:15:00",
          "2019-05-22T03:18:00",
          "2019-05-22T03:21:00",
          "2019-05-22T03:24:00",
          "2019-05-22T03:27:00",
          "2019-05-22T03:30:00",
          "2019-05-22T03:33:00",
          "2019-05-22T03:36:00",
          "2019-05-22T03:39:00",
          "2019-05-22T03:42:00",
          "2019-05-22T03:45:00",
          "2019-05-22T03:48:00",
          "2019-05-22T03:51:00",
          "2019-05-22T03:54:00",
          "2019-05-22T03:57:00",
          "2019-05-22T04:00:00",
          "2019-05-22T04:03:00",
          "2019-05-22T04:06:00",
          "2019-05-22T04:09:00",
          "2019-05-22T04:12:00",
          "2019-05-22T04:15:00",
          "2019-05-22T04:18:00",
          "2019-05-22T04:21:00",
          "2019-05-22T04:24:00",
          "2019-05-22T04:27:00",
          "2019-05-22T04:30:00",
          "2019-05-22T04:33:00",
          "2019-05-22T04:36:00",
          "2019-05-22T04:39:00",
          "2019-05-22T04:42:00",
          "2019-05-22T04:45:00",
          "2019-05-22T04:48:00",
          "2019-05-22T04:51:00",
          "2019-05-22T04:54:00",
          "2019-05-22T04:57:00",
          "2019-05-22T05:00:00",
          "2019-05-22T05:03:00",
          "2019-05-22T05:06:00",
          "2019-05-22T05:09:00",
          "2019-05-22T05:12:00",
          "2019-05-22T05:15:00",
          "2019-05-22T05:18:00",
          "2019-05-22T05:21:00",
          "2019-05-22T05:24:00",
          "2019-05-22T05:27:00",
          "2019-05-22T05:30:00",
          "2019-05-22T05:33:00",
          "2019-05-22T05:36:00",
          "2019-05-22T05:39:00",
          "2019-05-22T05:42:00",
          "2019-05-22T05:45:00",
          "2019-05-22T05:48:00",
          "2019-05-22T05:51:00",
          "2019-05-22T05:54:00",
          "2019-05-22T05:57:00",
          "2019-05-22T06:00:00",
          "2019-05-22T06:03:00",
          "2019-05-22T06:06:00",
          "2019-05-22T06:09:00",
          "2019-05-22T06:12:00",
          "2019-05-22T06:15:00",
          "2019-05-22T06:18:00",
          "2019-05-22T06:21:00",
          "2019-05-22T06:24:00",
          "2019-05-22T06:27:00",
          "2019-05-22T06:30:00",
          "2019-05-22T06:33:00",
          "2019-05-22T06:36:00",
          "2019-05-22T06:39:00",
          "2019-05-22T06:42:00",
          "2019-05-22T06:45:00",
          "2019-05-22T06:48:00",
          "2019-05-22T06:51:00",
          "2019-05-22T06:54:00",
          "2019-05-22T06:57:00",
          "2019-05-22T07:00:00",
          "2019-05-22T07:03:00",
          "2019-05-22T07:06:00",
          "2019-05-22T07:09:00",
          "2019-05-22T07:12:00",
          "2019-05-22T07:15:00",
          "2019-05-22T07:18:00",
          "2019-05-22T07:21:00",
          "2019-05-22T07:24:00",
          "2019-05-22T07:27:00",
          "2019-05-22T07:30:00",
          "2019-05-22T07:33:00",
          "2019-05-22T07:36:00",
          "2019-05-22T07:39:00",
          "2019-05-22T07:42:00",
          "2019-05-22T07:45:00",
          "2019-05-22T07:48:00",
          "2019-05-22T07:51:00",
          "2019-05-22T07:54:00",
          "2019-05-22T07:57:00",
          "2019-05-22T08:00:00",
          "2019-05-22T08:03:00",
          "2019-05-22T08:06:00",
          "2019-05-22T08:09:00",
          "2019-05-22T08:12:00",
          "2019-05-22T08:15:00",
          "2019-05-22T08:18:00",
          "2019-05-22T08:21:00",
          "2019-05-22T08:24:00",
          "2019-05-22T08:27:00",
          "2019-05-22T08:30:00",
          "2019-05-22T08:33:00",
          "2019-05-22T08:36:00",
          "2019-05-22T08:39:00",
          "2019-05-22T08:42:00",
          "2019-05-22T08:45:00",
          "2019-05-22T08:48:00",
          "2019-05-22T08:51:00",
          "2019-05-22T08:54:00",
          "2019-05-22T08:57:00",
          "2019-05-22T09:00:00",
          "2019-05-22T09:03:00",
          "2019-05-22T09:06:00",
          "2019-05-22T09:09:00",
          "2019-05-22T09:12:00",
          "2019-05-22T09:15:00",
          "2019-05-22T09:18:00",
          "2019-05-22T09:21:00",
          "2019-05-22T09:24:00",
          "2019-05-22T09:27:00",
          "2019-05-22T09:30:00",
          "2019-05-22T09:33:00",
          "2019-05-22T09:36:00",
          "2019-05-22T09:39:00",
          "2019-05-22T09:42:00",
          "2019-05-22T09:45:00",
          "2019-05-22T09:48:00",
          "2019-05-22T09:51:00",
          "2019-05-22T09:54:00",
          "2019-05-22T09:57:00",
          "2019-05-22T10:00:00",
          "2019-05-22T10:03:00",
          "2019-05-22T10:06:00",
          "2019-05-22T10:09:00",
          "2019-05-22T10:12:00",
          "2019-05-22T10:15:00",
          "2019-05-22T10:18:00",
          "2019-05-22T10:21:00",
          "2019-05-22T10:24:00",
          "2019-05-22T10:27:00",
          "2019-05-22T10:30:00",
          "2019-05-22T10:33:00",
          "2019-05-22T10:36:00",
          "2019-05-22T10:39:00",
          "2019-05-22T10:42:00",
          "2019-05-22T10:45:00",
          "2019-05-22T10:48:00",
          "2019-05-22T10:51:00",
          "2019-05-22T10:54:00",
          "2019-05-22T10:57:00",
          "2019-05-22T11:00:00",
          "2019-05-22T11:03:00",
          "2019-05-22T11:06:00",
          "2019-05-22T11:09:00",
          "2019-05-22T11:12:00",
          "2019-05-22T11:15:00",
          "2019-05-22T11:18:00",
          "2019-05-22T11:21:00",
          "2019-05-22T11:24:00",
          "2019-05-22T11:27:00",
          "2019-05-22T11:30:00",
          "2019-05-22T11:33:00",
          "2019-05-22T11:36:00",
          "2019-05-22T11:39:00",
          "2019-05-22T11:42:00",
          "2019-05-22T11:45:00",
          "2019-05-22T11:48:00",
          "2019-05-22T11:51:00",
          "2019-05-22T11:54:00",
          "2019-05-22T11:57:00",
          "2019-05-22T12:00:00",
          "2019-05-22T12:03:00",
          "2019-05-22T12:06:00",
          "2019-05-22T12:09:00",
          "2019-05-22T12:12:00",
          "2019-05-22T12:15:00",
          "2019-05-22T12:18:00",
          "2019-05-22T12:21:00",
          "2019-05-22T12:24:00",
          "2019-05-22T12:27:00",
          "2019-05-22T12:30:00",
          "2019-05-22T12:33:00",
          "2019-05-22T12:36:00",
          "2019-05-22T12:39:00",
          "2019-05-22T12:42:00",
          "2019-05-22T12:45:00",
          "2019-05-22T12:48:00",
          "2019-05-22T12:51:00",
          "2019-05-22T12:54:00",
          "2019-05-22T12:57:00",
          "2019-05-22T13:00:00",
          "2019-05-22T13:03:00",
          "2019-05-22T13:06:00",
          "2019-05-22T13:09:00",
          "2019-05-22T13:12:00",
          "2019-05-22T13:15:00",
          "2019-05-22T13:18:00",
          "2019-05-22T13:21:00",
          "2019-05-22T13:24:00",
          "2019-05-22T13:27:00",
          "2019-05-22T13:30:00",
          "2019-05-22T13:33:00",
          "2019-05-22T13:36:00",
          "2019-05-22T13:39:00",
          "2019-05-22T13:42:00",
          "2019-05-22T13:45:00",
          "2019-05-22T13:48:00",
          "2019-05-22T13:51:00",
          "2019-05-22T13:54:00",
          "2019-05-22T13:57:00",
          "2019-05-22T14:00:00",
          "2019-05-22T14:03:00",
          "2019-05-22T14:06:00",
          "2019-05-22T14:09:00",
          "2019-05-22T14:12:00",
          "2019-05-22T14:15:00",
          "2019-05-22T14:18:00",
          "2019-05-22T14:21:00",
          "2019-05-22T14:24:00",
          "2019-05-22T14:27:00",
          "2019-05-22T14:30:00",
          "2019-05-22T14:33:00",
          "2019-05-22T14:36:00",
          "2019-05-22T14:39:00",
          "2019-05-22T14:42:00",
          "2019-05-22T14:45:00",
          "2019-05-22T14:48:00",
          "2019-05-22T14:51:00",
          "2019-05-22T14:54:00",
          "2019-05-22T14:57:00",
          "2019-05-22T15:00:00",
          "2019-05-22T15:03:00",
          "2019-05-22T15:06:00",
          "2019-05-22T15:09:00",
          "2019-05-22T15:12:00",
          "2019-05-22T15:15:00",
          "2019-05-22T15:18:00",
          "2019-05-22T15:21:00",
          "2019-05-22T15:24:00",
          "2019-05-22T15:27:00",
          "2019-05-22T15:30:00",
          "2019-05-22T15:33:00",
          "2019-05-22T15:36:00",
          "2019-05-22T15:39:00",
          "2019-05-22T15:42:00",
          "2019-05-22T15:45:00",
          "2019-05-22T15:48:00",
          "2019-05-22T15:51:00",
          "2019-05-22T15:54:00",
          "2019-05-22T15:57:00",
          "2019-05-22T16:00:00",
          "2019-05-22T16:03:00",
          "2019-05-22T16:06:00",
          "2019-05-22T16:09:00",
          "2019-05-22T16:12:00",
          "2019-05-22T16:15:00",
          "2019-05-22T16:18:00",
          "2019-05-22T16:21:00",
          "2019-05-22T16:24:00",
          "2019-05-22T16:27:00",
          "2019-05-22T16:30:00",
          "2019-05-22T16:33:00",
          "2019-05-22T16:36:00",
          "2019-05-22T16:39:00",
          "2019-05-22T16:42:00",
          "2019-05-22T16:45:00",
          "2019-05-22T16:48:00",
          "2019-05-22T16:51:00",
          "2019-05-22T16:54:00",
          "2019-05-22T16:57:00",
          "2019-05-22T17:00:00",
          "2019-05-22T17:03:00",
          "2019-05-22T17:06:00",
          "2019-05-22T17:09:00",
          "2019-05-22T17:12:00",
          "2019-05-22T17:15:00",
          "2019-05-22T17:18:00",
          "2019-05-22T17:21:00",
          "2019-05-22T17:24:00",
          "2019-05-22T17:27:00",
          "2019-05-22T17:30:00",
          "2019-05-22T17:33:00",
          "2019-05-22T17:36:00",
          "2019-05-22T17:39:00",
          "2019-05-22T17:42:00",
          "2019-05-22T17:45:00",
          "2019-05-22T17:48:00",
          "2019-05-22T17:51:00",
          "2019-05-22T17:54:00",
          "2019-05-22T17:57:00",
          "2019-05-22T18:00:00",
          "2019-05-22T18:03:00",
          "2019-05-22T18:06:00",
          "2019-05-22T18:09:00",
          "2019-05-22T18:12:00",
          "2019-05-22T18:15:00",
          "2019-05-22T18:18:00",
          "2019-05-22T18:21:00",
          "2019-05-22T18:24:00",
          "2019-05-22T18:27:00",
          "2019-05-22T18:30:00",
          "2019-05-22T18:33:00",
          "2019-05-22T18:36:00",
          "2019-05-22T18:39:00",
          "2019-05-22T18:42:00",
          "2019-05-22T18:45:00",
          "2019-05-22T18:48:00",
          "2019-05-22T18:51:00",
          "2019-05-22T18:54:00",
          "2019-05-22T18:57:00",
          "2019-05-22T19:00:00",
          "2019-05-22T19:03:00",
          "2019-05-22T19:06:00",
          "2019-05-22T19:09:00",
          "2019-05-22T19:12:00",
          "2019-05-22T19:15:00",
          "2019-05-22T19:18:00",
          "2019-05-22T19:21:00",
          "2019-05-22T19:24:00",
          "2019-05-22T19:27:00",
          "2019-05-22T19:30:00",
          "2019-05-22T19:33:00",
          "2019-05-22T19:36:00",
          "2019-05-22T19:39:00",
          "2019-05-22T19:42:00",
          "2019-05-22T19:45:00",
          "2019-05-22T19:48:00",
          "2019-05-22T19:51:00",
          "2019-05-22T19:54:00",
          "2019-05-22T19:57:00",
          "2019-05-22T20:00:00",
          "2019-05-22T20:03:00",
          "2019-05-22T20:06:00",
          "2019-05-22T20:09:00",
          "2019-05-22T20:12:00",
          "2019-05-22T20:15:00",
          "2019-05-22T20:18:00",
          "2019-05-22T20:21:00",
          "2019-05-22T20:24:00",
          "2019-05-22T20:27:00",
          "2019-05-22T20:30:00",
          "2019-05-22T20:33:00",
          "2019-05-22T20:36:00",
          "2019-05-22T20:39:00",
          "2019-05-22T20:42:00",
          "2019-05-22T20:45:00",
          "2019-05-22T20:48:00",
          "2019-05-22T20:51:00",
          "2019-05-22T20:54:00",
          "2019-05-22T20:57:00",
          "2019-05-22T21:00:00",
          "2019-05-22T21:03:00",
          "2019-05-22T21:06:00",
          "2019-05-22T21:09:00",
          "2019-05-22T21:12:00",
          "2019-05-22T21:15:00",
          "2019-05-22T21:18:00",
          "2019-05-22T21:21:00",
          "2019-05-22T21:24:00",
          "2019-05-22T21:27:00",
          "2019-05-22T21:30:00",
          "2019-05-22T21:33:00",
          "2019-05-22T21:36:00",
          "2019-05-22T21:39:00",
          "2019-05-22T21:42:00",
          "2019-05-22T21:45:00",
          "2019-05-22T21:48:00",
          "2019-05-22T21:51:00",
          "2019-05-22T21:54:00",
          "2019-05-22T21:57:00",
          "2019-05-22T22:00:00",
          "2019-05-22T22:03:00",
          "2019-05-22T22:06:00",
          "2019-05-22T22:09:00",
          "2019-05-22T22:12:00",
          "2019-05-22T22:15:00",
          "2019-05-22T22:18:00",
          "2019-05-22T22:21:00",
          "2019-05-22T22:24:00",
          "2019-05-22T22:27:00",
          "2019-05-22T22:30:00",
          "2019-05-22T22:33:00",
          "2019-05-22T22:36:00",
          "2019-05-22T22:39:00",
          "2019-05-22T22:42:00",
          "2019-05-22T22:45:00",
          "2019-05-22T22:48:00",
          "2019-05-22T22:51:00",
          "2019-05-22T22:54:00",
          "2019-05-22T22:57:00",
          "2019-05-22T23:00:00",
          "2019-05-22T23:03:00",
          "2019-05-22T23:06:00",
          "2019-05-22T23:09:00",
          "2019-05-22T23:12:00",
          "2019-05-22T23:15:00",
          "2019-05-22T23:18:00",
          "2019-05-22T23:21:00",
          "2019-05-22T23:24:00",
          "2019-05-22T23:27:00",
          "2019-05-22T23:30:00",
          "2019-05-22T23:33:00",
          "2019-05-22T23:36:00",
          "2019-05-22T23:39:00",
          "2019-05-22T23:42:00",
          "2019-05-22T23:45:00",
          "2019-05-22T23:48:00",
          "2019-05-22T23:51:00",
          "2019-05-22T23:54:00",
          "2019-05-22T23:57:00"
         ],
         "xaxis": "x",
         "y": [
          2230.3748066422195,
          2230.3748066422195,
          2230.3748066422195,
          2230.3748066422195,
          2230.3748066422195,
          2230.3748066422195,
          2230.3748066422195,
          2230.3748066422195,
          2230.3748066422195,
          2230.3748066422195,
          2230.3748066422195,
          2230.3748066422195,
          2230.3748066422195,
          2230.3748066422195,
          2230.3748066422195,
          2230.3748066422195,
          2230.3748066422195,
          2230.3748066422195,
          2230.3748066422195,
          2230.3748066422195,
          2230.3748066422195,
          2230.3748066422195,
          2230.3748066422195,
          2230.3748066422195,
          2230.3748066422195,
          2230.3748066422195,
          2230.3748066422195,
          2230.3748066422195,
          2230.3748066422195,
          2230.3748066422195,
          2230.3748066422195,
          2230.3748066422195,
          2230.3748066422195,
          2230.3748066422195,
          2230.3748066422195,
          2230.3748066422195,
          2230.3748066422195,
          2230.3748066422195,
          2230.3748066422195,
          2230.3748066422195,
          2230.3748066422195,
          2230.3748066422195,
          2230.3748066422195,
          2230.3748066422195,
          2230.3748066422195,
          2230.3748066422195,
          2230.3748066422195,
          2230.3748066422195,
          2230.3748066422195,
          2230.3748066422195,
          2230.3748066422195,
          2230.3748066422195,
          2230.3748066422195,
          2230.3748066422195,
          2230.3748066422195,
          2230.3748066422195,
          2230.3748066422195,
          2230.3748066422195,
          2230.3748066422195,
          2230.3748066422195,
          2230.3748066422195,
          0,
          0,
          0,
          0,
          0,
          0,
          0,
          0,
          0,
          0,
          0,
          0,
          0,
          0,
          0,
          0,
          0,
          0,
          0,
          0,
          0,
          0,
          0,
          0,
          0,
          0,
          0,
          0,
          0,
          0,
          0,
          0,
          0,
          0,
          0,
          0,
          0,
          0,
          0,
          0,
          0,
          0,
          0,
          0,
          0,
          0,
          0,
          0,
          0,
          0,
          0,
          0,
          0,
          0,
          0,
          0,
          0,
          767.2089010105601,
          767.2089010105601,
          767.2089010105601,
          767.2089010105601,
          767.2089010105601,
          767.2089010105601,
          767.2089010105601,
          767.2089010105601,
          767.2089010105601,
          767.2089010105601,
          767.2089010105601,
          767.2089010105601,
          767.2089010105601,
          767.2089010105601,
          767.2089010105601,
          767.2089010105601,
          767.2089010105601,
          767.2089010105601,
          0,
          0,
          0,
          0,
          0,
          0,
          0,
          0,
          0,
          0,
          0,
          0,
          0,
          0,
          0,
          0,
          0,
          0,
          0,
          0,
          0,
          0,
          0,
          0,
          0,
          0,
          0,
          0,
          0,
          0,
          0,
          0,
          0,
          0,
          0,
          0,
          0,
          0,
          0,
          0,
          0,
          0,
          0,
          0,
          0,
          0,
          0,
          0,
          0,
          0,
          0,
          0,
          0,
          0,
          0,
          0,
          0,
          0,
          0,
          0,
          0,
          0,
          0,
          0,
          0,
          0,
          0,
          0,
          0,
          0,
          0,
          0,
          0,
          0,
          0,
          0,
          0,
          0,
          0,
          0,
          0,
          0,
          0,
          0,
          0,
          0,
          0,
          0,
          0,
          0,
          0,
          0,
          0,
          0,
          0,
          0,
          0,
          0,
          0,
          0,
          0,
          0,
          0,
          0,
          0,
          0,
          0,
          0,
          0,
          0,
          0,
          0,
          0,
          0,
          0,
          0,
          0,
          0,
          0,
          0,
          0,
          0,
          0,
          0,
          0,
          0,
          0,
          0,
          0,
          0,
          0,
          0,
          0,
          0,
          0,
          0,
          0,
          0,
          0,
          0,
          0,
          0,
          0,
          0,
          0,
          0,
          0,
          0,
          0,
          2053.774557576217,
          2053.774557576217,
          2053.774557576217,
          2053.774557576217,
          2053.774557576217,
          2053.774557576217,
          2053.774557576217,
          2053.774557576217,
          2053.774557576217,
          2053.774557576217,
          2053.774557576217,
          2053.774557576217,
          2053.774557576217,
          2053.774557576217,
          2053.774557576217,
          2053.774557576217,
          2053.774557576217,
          2053.774557576217,
          2053.774557576217,
          2053.774557576217,
          2053.774557576217,
          2053.774557576217,
          0,
          0,
          0,
          0,
          0,
          0,
          0,
          0,
          0,
          0,
          0,
          0,
          0,
          0,
          0,
          0,
          0,
          0,
          0,
          0,
          0,
          0,
          0,
          0,
          0,
          0,
          0,
          0,
          0,
          0,
          0,
          0,
          0,
          0,
          0,
          0,
          0,
          0,
          0,
          0,
          0,
          0,
          0,
          0,
          0,
          0,
          0,
          0,
          0,
          0,
          0,
          0,
          0,
          0,
          0,
          0,
          0,
          0,
          0,
          0,
          0,
          0,
          0,
          0,
          0,
          0,
          0,
          0,
          0,
          0,
          0,
          0,
          0,
          0,
          0,
          0,
          0,
          0,
          0,
          0,
          0,
          0,
          0,
          0,
          0,
          0,
          0,
          0,
          0,
          0,
          0,
          0,
          0,
          0,
          0,
          0,
          0,
          0,
          0,
          0,
          0,
          0,
          0,
          0,
          0,
          0,
          0,
          0,
          0,
          0,
          0,
          0,
          0,
          0,
          0,
          0,
          0,
          0,
          0,
          0,
          0,
          0,
          0,
          0,
          0,
          0,
          0,
          2357.6613294869408,
          2357.6613294869408,
          2357.6613294869408,
          2357.6613294869408,
          2357.6613294869408,
          2357.6613294869408,
          2357.6613294869408,
          2357.6613294869408,
          2357.6613294869408,
          2357.6613294869408,
          2357.6613294869408,
          2357.6613294869408,
          2357.6613294869408,
          2357.6613294869408,
          2357.6613294869408,
          2357.6613294869408,
          2357.6613294869408,
          2357.6613294869408,
          2357.6613294869408,
          2357.6613294869408,
          2357.6613294869408,
          2357.6613294869408,
          2357.6613294869408,
          2357.6613294869408,
          2357.6613294869408,
          2357.6613294869408,
          2357.6613294869408,
          2357.6613294869408,
          2357.6613294869408,
          2357.6613294869408,
          2357.6613294869408,
          2357.6613294869408,
          2357.6613294869408,
          2357.6613294869408,
          2357.6613294869408,
          2357.6613294869408,
          2357.6613294869408,
          2357.6613294869408,
          2357.6613294869408,
          2357.6613294869408,
          2357.6613294869408,
          2357.6613294869408,
          2357.6613294869408,
          2357.6613294869408,
          2357.6613294869408,
          2357.6613294869408
         ],
         "yaxis": "y"
        }
       ],
       "layout": {
        "legend": {
         "title": {
          "text": "variable"
         },
         "tracegroupgap": 0
        },
        "margin": {
         "t": 60
        },
        "template": {
         "data": {
          "bar": [
           {
            "error_x": {
             "color": "#2a3f5f"
            },
            "error_y": {
             "color": "#2a3f5f"
            },
            "marker": {
             "line": {
              "color": "#E5ECF6",
              "width": 0.5
             }
            },
            "type": "bar"
           }
          ],
          "barpolar": [
           {
            "marker": {
             "line": {
              "color": "#E5ECF6",
              "width": 0.5
             }
            },
            "type": "barpolar"
           }
          ],
          "carpet": [
           {
            "aaxis": {
             "endlinecolor": "#2a3f5f",
             "gridcolor": "white",
             "linecolor": "white",
             "minorgridcolor": "white",
             "startlinecolor": "#2a3f5f"
            },
            "baxis": {
             "endlinecolor": "#2a3f5f",
             "gridcolor": "white",
             "linecolor": "white",
             "minorgridcolor": "white",
             "startlinecolor": "#2a3f5f"
            },
            "type": "carpet"
           }
          ],
          "choropleth": [
           {
            "colorbar": {
             "outlinewidth": 0,
             "ticks": ""
            },
            "type": "choropleth"
           }
          ],
          "contour": [
           {
            "colorbar": {
             "outlinewidth": 0,
             "ticks": ""
            },
            "colorscale": [
             [
              0,
              "#0d0887"
             ],
             [
              0.1111111111111111,
              "#46039f"
             ],
             [
              0.2222222222222222,
              "#7201a8"
             ],
             [
              0.3333333333333333,
              "#9c179e"
             ],
             [
              0.4444444444444444,
              "#bd3786"
             ],
             [
              0.5555555555555556,
              "#d8576b"
             ],
             [
              0.6666666666666666,
              "#ed7953"
             ],
             [
              0.7777777777777778,
              "#fb9f3a"
             ],
             [
              0.8888888888888888,
              "#fdca26"
             ],
             [
              1,
              "#f0f921"
             ]
            ],
            "type": "contour"
           }
          ],
          "contourcarpet": [
           {
            "colorbar": {
             "outlinewidth": 0,
             "ticks": ""
            },
            "type": "contourcarpet"
           }
          ],
          "heatmap": [
           {
            "colorbar": {
             "outlinewidth": 0,
             "ticks": ""
            },
            "colorscale": [
             [
              0,
              "#0d0887"
             ],
             [
              0.1111111111111111,
              "#46039f"
             ],
             [
              0.2222222222222222,
              "#7201a8"
             ],
             [
              0.3333333333333333,
              "#9c179e"
             ],
             [
              0.4444444444444444,
              "#bd3786"
             ],
             [
              0.5555555555555556,
              "#d8576b"
             ],
             [
              0.6666666666666666,
              "#ed7953"
             ],
             [
              0.7777777777777778,
              "#fb9f3a"
             ],
             [
              0.8888888888888888,
              "#fdca26"
             ],
             [
              1,
              "#f0f921"
             ]
            ],
            "type": "heatmap"
           }
          ],
          "heatmapgl": [
           {
            "colorbar": {
             "outlinewidth": 0,
             "ticks": ""
            },
            "colorscale": [
             [
              0,
              "#0d0887"
             ],
             [
              0.1111111111111111,
              "#46039f"
             ],
             [
              0.2222222222222222,
              "#7201a8"
             ],
             [
              0.3333333333333333,
              "#9c179e"
             ],
             [
              0.4444444444444444,
              "#bd3786"
             ],
             [
              0.5555555555555556,
              "#d8576b"
             ],
             [
              0.6666666666666666,
              "#ed7953"
             ],
             [
              0.7777777777777778,
              "#fb9f3a"
             ],
             [
              0.8888888888888888,
              "#fdca26"
             ],
             [
              1,
              "#f0f921"
             ]
            ],
            "type": "heatmapgl"
           }
          ],
          "histogram": [
           {
            "marker": {
             "colorbar": {
              "outlinewidth": 0,
              "ticks": ""
             }
            },
            "type": "histogram"
           }
          ],
          "histogram2d": [
           {
            "colorbar": {
             "outlinewidth": 0,
             "ticks": ""
            },
            "colorscale": [
             [
              0,
              "#0d0887"
             ],
             [
              0.1111111111111111,
              "#46039f"
             ],
             [
              0.2222222222222222,
              "#7201a8"
             ],
             [
              0.3333333333333333,
              "#9c179e"
             ],
             [
              0.4444444444444444,
              "#bd3786"
             ],
             [
              0.5555555555555556,
              "#d8576b"
             ],
             [
              0.6666666666666666,
              "#ed7953"
             ],
             [
              0.7777777777777778,
              "#fb9f3a"
             ],
             [
              0.8888888888888888,
              "#fdca26"
             ],
             [
              1,
              "#f0f921"
             ]
            ],
            "type": "histogram2d"
           }
          ],
          "histogram2dcontour": [
           {
            "colorbar": {
             "outlinewidth": 0,
             "ticks": ""
            },
            "colorscale": [
             [
              0,
              "#0d0887"
             ],
             [
              0.1111111111111111,
              "#46039f"
             ],
             [
              0.2222222222222222,
              "#7201a8"
             ],
             [
              0.3333333333333333,
              "#9c179e"
             ],
             [
              0.4444444444444444,
              "#bd3786"
             ],
             [
              0.5555555555555556,
              "#d8576b"
             ],
             [
              0.6666666666666666,
              "#ed7953"
             ],
             [
              0.7777777777777778,
              "#fb9f3a"
             ],
             [
              0.8888888888888888,
              "#fdca26"
             ],
             [
              1,
              "#f0f921"
             ]
            ],
            "type": "histogram2dcontour"
           }
          ],
          "mesh3d": [
           {
            "colorbar": {
             "outlinewidth": 0,
             "ticks": ""
            },
            "type": "mesh3d"
           }
          ],
          "parcoords": [
           {
            "line": {
             "colorbar": {
              "outlinewidth": 0,
              "ticks": ""
             }
            },
            "type": "parcoords"
           }
          ],
          "pie": [
           {
            "automargin": true,
            "type": "pie"
           }
          ],
          "scatter": [
           {
            "marker": {
             "colorbar": {
              "outlinewidth": 0,
              "ticks": ""
             }
            },
            "type": "scatter"
           }
          ],
          "scatter3d": [
           {
            "line": {
             "colorbar": {
              "outlinewidth": 0,
              "ticks": ""
             }
            },
            "marker": {
             "colorbar": {
              "outlinewidth": 0,
              "ticks": ""
             }
            },
            "type": "scatter3d"
           }
          ],
          "scattercarpet": [
           {
            "marker": {
             "colorbar": {
              "outlinewidth": 0,
              "ticks": ""
             }
            },
            "type": "scattercarpet"
           }
          ],
          "scattergeo": [
           {
            "marker": {
             "colorbar": {
              "outlinewidth": 0,
              "ticks": ""
             }
            },
            "type": "scattergeo"
           }
          ],
          "scattergl": [
           {
            "marker": {
             "colorbar": {
              "outlinewidth": 0,
              "ticks": ""
             }
            },
            "type": "scattergl"
           }
          ],
          "scattermapbox": [
           {
            "marker": {
             "colorbar": {
              "outlinewidth": 0,
              "ticks": ""
             }
            },
            "type": "scattermapbox"
           }
          ],
          "scatterpolar": [
           {
            "marker": {
             "colorbar": {
              "outlinewidth": 0,
              "ticks": ""
             }
            },
            "type": "scatterpolar"
           }
          ],
          "scatterpolargl": [
           {
            "marker": {
             "colorbar": {
              "outlinewidth": 0,
              "ticks": ""
             }
            },
            "type": "scatterpolargl"
           }
          ],
          "scatterternary": [
           {
            "marker": {
             "colorbar": {
              "outlinewidth": 0,
              "ticks": ""
             }
            },
            "type": "scatterternary"
           }
          ],
          "surface": [
           {
            "colorbar": {
             "outlinewidth": 0,
             "ticks": ""
            },
            "colorscale": [
             [
              0,
              "#0d0887"
             ],
             [
              0.1111111111111111,
              "#46039f"
             ],
             [
              0.2222222222222222,
              "#7201a8"
             ],
             [
              0.3333333333333333,
              "#9c179e"
             ],
             [
              0.4444444444444444,
              "#bd3786"
             ],
             [
              0.5555555555555556,
              "#d8576b"
             ],
             [
              0.6666666666666666,
              "#ed7953"
             ],
             [
              0.7777777777777778,
              "#fb9f3a"
             ],
             [
              0.8888888888888888,
              "#fdca26"
             ],
             [
              1,
              "#f0f921"
             ]
            ],
            "type": "surface"
           }
          ],
          "table": [
           {
            "cells": {
             "fill": {
              "color": "#EBF0F8"
             },
             "line": {
              "color": "white"
             }
            },
            "header": {
             "fill": {
              "color": "#C8D4E3"
             },
             "line": {
              "color": "white"
             }
            },
            "type": "table"
           }
          ]
         },
         "layout": {
          "annotationdefaults": {
           "arrowcolor": "#2a3f5f",
           "arrowhead": 0,
           "arrowwidth": 1
          },
          "coloraxis": {
           "colorbar": {
            "outlinewidth": 0,
            "ticks": ""
           }
          },
          "colorscale": {
           "diverging": [
            [
             0,
             "#8e0152"
            ],
            [
             0.1,
             "#c51b7d"
            ],
            [
             0.2,
             "#de77ae"
            ],
            [
             0.3,
             "#f1b6da"
            ],
            [
             0.4,
             "#fde0ef"
            ],
            [
             0.5,
             "#f7f7f7"
            ],
            [
             0.6,
             "#e6f5d0"
            ],
            [
             0.7,
             "#b8e186"
            ],
            [
             0.8,
             "#7fbc41"
            ],
            [
             0.9,
             "#4d9221"
            ],
            [
             1,
             "#276419"
            ]
           ],
           "sequential": [
            [
             0,
             "#0d0887"
            ],
            [
             0.1111111111111111,
             "#46039f"
            ],
            [
             0.2222222222222222,
             "#7201a8"
            ],
            [
             0.3333333333333333,
             "#9c179e"
            ],
            [
             0.4444444444444444,
             "#bd3786"
            ],
            [
             0.5555555555555556,
             "#d8576b"
            ],
            [
             0.6666666666666666,
             "#ed7953"
            ],
            [
             0.7777777777777778,
             "#fb9f3a"
            ],
            [
             0.8888888888888888,
             "#fdca26"
            ],
            [
             1,
             "#f0f921"
            ]
           ],
           "sequentialminus": [
            [
             0,
             "#0d0887"
            ],
            [
             0.1111111111111111,
             "#46039f"
            ],
            [
             0.2222222222222222,
             "#7201a8"
            ],
            [
             0.3333333333333333,
             "#9c179e"
            ],
            [
             0.4444444444444444,
             "#bd3786"
            ],
            [
             0.5555555555555556,
             "#d8576b"
            ],
            [
             0.6666666666666666,
             "#ed7953"
            ],
            [
             0.7777777777777778,
             "#fb9f3a"
            ],
            [
             0.8888888888888888,
             "#fdca26"
            ],
            [
             1,
             "#f0f921"
            ]
           ]
          },
          "colorway": [
           "#636efa",
           "#EF553B",
           "#00cc96",
           "#ab63fa",
           "#FFA15A",
           "#19d3f3",
           "#FF6692",
           "#B6E880",
           "#FF97FF",
           "#FECB52"
          ],
          "font": {
           "color": "#2a3f5f"
          },
          "geo": {
           "bgcolor": "white",
           "lakecolor": "white",
           "landcolor": "#E5ECF6",
           "showlakes": true,
           "showland": true,
           "subunitcolor": "white"
          },
          "hoverlabel": {
           "align": "left"
          },
          "hovermode": "closest",
          "mapbox": {
           "style": "light"
          },
          "paper_bgcolor": "white",
          "plot_bgcolor": "#E5ECF6",
          "polar": {
           "angularaxis": {
            "gridcolor": "white",
            "linecolor": "white",
            "ticks": ""
           },
           "bgcolor": "#E5ECF6",
           "radialaxis": {
            "gridcolor": "white",
            "linecolor": "white",
            "ticks": ""
           }
          },
          "scene": {
           "xaxis": {
            "backgroundcolor": "#E5ECF6",
            "gridcolor": "white",
            "gridwidth": 2,
            "linecolor": "white",
            "showbackground": true,
            "ticks": "",
            "zerolinecolor": "white"
           },
           "yaxis": {
            "backgroundcolor": "#E5ECF6",
            "gridcolor": "white",
            "gridwidth": 2,
            "linecolor": "white",
            "showbackground": true,
            "ticks": "",
            "zerolinecolor": "white"
           },
           "zaxis": {
            "backgroundcolor": "#E5ECF6",
            "gridcolor": "white",
            "gridwidth": 2,
            "linecolor": "white",
            "showbackground": true,
            "ticks": "",
            "zerolinecolor": "white"
           }
          },
          "shapedefaults": {
           "line": {
            "color": "#2a3f5f"
           }
          },
          "ternary": {
           "aaxis": {
            "gridcolor": "white",
            "linecolor": "white",
            "ticks": ""
           },
           "baxis": {
            "gridcolor": "white",
            "linecolor": "white",
            "ticks": ""
           },
           "bgcolor": "#E5ECF6",
           "caxis": {
            "gridcolor": "white",
            "linecolor": "white",
            "ticks": ""
           }
          },
          "title": {
           "x": 0.05
          },
          "xaxis": {
           "automargin": true,
           "gridcolor": "white",
           "linecolor": "white",
           "ticks": "",
           "title": {
            "standoff": 15
           },
           "zerolinecolor": "white",
           "zerolinewidth": 2
          },
          "yaxis": {
           "automargin": true,
           "gridcolor": "white",
           "linecolor": "white",
           "ticks": "",
           "title": {
            "standoff": 15
           },
           "zerolinecolor": "white",
           "zerolinewidth": 2
          }
         }
        },
        "xaxis": {
         "anchor": "y",
         "domain": [
          0,
          1
         ],
         "title": {
          "text": "x_Timestamp"
         }
        },
        "yaxis": {
         "anchor": "x",
         "domain": [
          0,
          1
         ],
         "title": {
          "text": "value"
         }
        }
       }
      },
      "text/html": [
       "<div>\n",
       "        \n",
       "        \n",
       "            <div id=\"744bb23d-4ac9-4205-82be-49ae0c0e1fdf\" class=\"plotly-graph-div\" style=\"height:525px; width:100%;\"></div>\n",
       "            <script type=\"text/javascript\">\n",
       "                require([\"plotly\"], function(Plotly) {\n",
       "                    window.PLOTLYENV=window.PLOTLYENV || {};\n",
       "                    \n",
       "                if (document.getElementById(\"744bb23d-4ac9-4205-82be-49ae0c0e1fdf\")) {\n",
       "                    Plotly.newPlot(\n",
       "                        '744bb23d-4ac9-4205-82be-49ae0c0e1fdf',\n",
       "                        [{\"hovertemplate\": \"variable=ac_power<br>x_Timestamp=%{x}<br>value=%{y}<extra></extra>\", \"legendgroup\": \"ac_power\", \"line\": {\"color\": \"#636efa\", \"dash\": \"solid\"}, \"mode\": \"lines\", \"name\": \"ac_power\", \"orientation\": \"v\", \"showlegend\": true, \"type\": \"scatter\", \"x\": [\"2019-05-22T00:00:00\", \"2019-05-22T00:03:00\", \"2019-05-22T00:06:00\", \"2019-05-22T00:09:00\", \"2019-05-22T00:12:00\", \"2019-05-22T00:15:00\", \"2019-05-22T00:18:00\", \"2019-05-22T00:21:00\", \"2019-05-22T00:24:00\", \"2019-05-22T00:27:00\", \"2019-05-22T00:30:00\", \"2019-05-22T00:33:00\", \"2019-05-22T00:36:00\", \"2019-05-22T00:39:00\", \"2019-05-22T00:42:00\", \"2019-05-22T00:45:00\", \"2019-05-22T00:48:00\", \"2019-05-22T00:51:00\", \"2019-05-22T00:54:00\", \"2019-05-22T00:57:00\", \"2019-05-22T01:00:00\", \"2019-05-22T01:03:00\", \"2019-05-22T01:06:00\", \"2019-05-22T01:09:00\", \"2019-05-22T01:12:00\", \"2019-05-22T01:15:00\", \"2019-05-22T01:18:00\", \"2019-05-22T01:21:00\", \"2019-05-22T01:24:00\", \"2019-05-22T01:27:00\", \"2019-05-22T01:30:00\", \"2019-05-22T01:33:00\", \"2019-05-22T01:36:00\", \"2019-05-22T01:39:00\", \"2019-05-22T01:42:00\", \"2019-05-22T01:45:00\", \"2019-05-22T01:48:00\", \"2019-05-22T01:51:00\", \"2019-05-22T01:54:00\", \"2019-05-22T01:57:00\", \"2019-05-22T02:00:00\", \"2019-05-22T02:03:00\", \"2019-05-22T02:06:00\", \"2019-05-22T02:09:00\", \"2019-05-22T02:12:00\", \"2019-05-22T02:15:00\", \"2019-05-22T02:18:00\", \"2019-05-22T02:21:00\", \"2019-05-22T02:24:00\", \"2019-05-22T02:27:00\", \"2019-05-22T02:30:00\", \"2019-05-22T02:33:00\", \"2019-05-22T02:36:00\", \"2019-05-22T02:39:00\", \"2019-05-22T02:42:00\", \"2019-05-22T02:45:00\", \"2019-05-22T02:48:00\", \"2019-05-22T02:51:00\", \"2019-05-22T02:54:00\", \"2019-05-22T02:57:00\", \"2019-05-22T03:00:00\", \"2019-05-22T03:03:00\", \"2019-05-22T03:06:00\", \"2019-05-22T03:09:00\", \"2019-05-22T03:12:00\", \"2019-05-22T03:15:00\", \"2019-05-22T03:18:00\", \"2019-05-22T03:21:00\", \"2019-05-22T03:24:00\", \"2019-05-22T03:27:00\", \"2019-05-22T03:30:00\", \"2019-05-22T03:33:00\", \"2019-05-22T03:36:00\", \"2019-05-22T03:39:00\", \"2019-05-22T03:42:00\", \"2019-05-22T03:45:00\", \"2019-05-22T03:48:00\", \"2019-05-22T03:51:00\", \"2019-05-22T03:54:00\", \"2019-05-22T03:57:00\", \"2019-05-22T04:00:00\", \"2019-05-22T04:03:00\", \"2019-05-22T04:06:00\", \"2019-05-22T04:09:00\", \"2019-05-22T04:12:00\", \"2019-05-22T04:15:00\", \"2019-05-22T04:18:00\", \"2019-05-22T04:21:00\", \"2019-05-22T04:24:00\", \"2019-05-22T04:27:00\", \"2019-05-22T04:30:00\", \"2019-05-22T04:33:00\", \"2019-05-22T04:36:00\", \"2019-05-22T04:39:00\", \"2019-05-22T04:42:00\", \"2019-05-22T04:45:00\", \"2019-05-22T04:48:00\", \"2019-05-22T04:51:00\", \"2019-05-22T04:54:00\", \"2019-05-22T04:57:00\", \"2019-05-22T05:00:00\", \"2019-05-22T05:03:00\", \"2019-05-22T05:06:00\", \"2019-05-22T05:09:00\", \"2019-05-22T05:12:00\", \"2019-05-22T05:15:00\", \"2019-05-22T05:18:00\", \"2019-05-22T05:21:00\", \"2019-05-22T05:24:00\", \"2019-05-22T05:27:00\", \"2019-05-22T05:30:00\", \"2019-05-22T05:33:00\", \"2019-05-22T05:36:00\", \"2019-05-22T05:39:00\", \"2019-05-22T05:42:00\", \"2019-05-22T05:45:00\", \"2019-05-22T05:48:00\", \"2019-05-22T05:51:00\", \"2019-05-22T05:54:00\", \"2019-05-22T05:57:00\", \"2019-05-22T06:00:00\", \"2019-05-22T06:03:00\", \"2019-05-22T06:06:00\", \"2019-05-22T06:09:00\", \"2019-05-22T06:12:00\", \"2019-05-22T06:15:00\", \"2019-05-22T06:18:00\", \"2019-05-22T06:21:00\", \"2019-05-22T06:24:00\", \"2019-05-22T06:27:00\", \"2019-05-22T06:30:00\", \"2019-05-22T06:33:00\", \"2019-05-22T06:36:00\", \"2019-05-22T06:39:00\", \"2019-05-22T06:42:00\", \"2019-05-22T06:45:00\", \"2019-05-22T06:48:00\", \"2019-05-22T06:51:00\", \"2019-05-22T06:54:00\", \"2019-05-22T06:57:00\", \"2019-05-22T07:00:00\", \"2019-05-22T07:03:00\", \"2019-05-22T07:06:00\", \"2019-05-22T07:09:00\", \"2019-05-22T07:12:00\", \"2019-05-22T07:15:00\", \"2019-05-22T07:18:00\", \"2019-05-22T07:21:00\", \"2019-05-22T07:24:00\", \"2019-05-22T07:27:00\", \"2019-05-22T07:30:00\", \"2019-05-22T07:33:00\", \"2019-05-22T07:36:00\", \"2019-05-22T07:39:00\", \"2019-05-22T07:42:00\", \"2019-05-22T07:45:00\", \"2019-05-22T07:48:00\", \"2019-05-22T07:51:00\", \"2019-05-22T07:54:00\", \"2019-05-22T07:57:00\", \"2019-05-22T08:00:00\", \"2019-05-22T08:03:00\", \"2019-05-22T08:06:00\", \"2019-05-22T08:09:00\", \"2019-05-22T08:12:00\", \"2019-05-22T08:15:00\", \"2019-05-22T08:18:00\", \"2019-05-22T08:21:00\", \"2019-05-22T08:24:00\", \"2019-05-22T08:27:00\", \"2019-05-22T08:30:00\", \"2019-05-22T08:33:00\", \"2019-05-22T08:36:00\", \"2019-05-22T08:39:00\", \"2019-05-22T08:42:00\", \"2019-05-22T08:45:00\", \"2019-05-22T08:48:00\", \"2019-05-22T08:51:00\", \"2019-05-22T08:54:00\", \"2019-05-22T08:57:00\", \"2019-05-22T09:00:00\", \"2019-05-22T09:03:00\", \"2019-05-22T09:06:00\", \"2019-05-22T09:09:00\", \"2019-05-22T09:12:00\", \"2019-05-22T09:15:00\", \"2019-05-22T09:18:00\", \"2019-05-22T09:21:00\", \"2019-05-22T09:24:00\", \"2019-05-22T09:27:00\", \"2019-05-22T09:30:00\", \"2019-05-22T09:33:00\", \"2019-05-22T09:36:00\", \"2019-05-22T09:39:00\", \"2019-05-22T09:42:00\", \"2019-05-22T09:45:00\", \"2019-05-22T09:48:00\", \"2019-05-22T09:51:00\", \"2019-05-22T09:54:00\", \"2019-05-22T09:57:00\", \"2019-05-22T10:00:00\", \"2019-05-22T10:03:00\", \"2019-05-22T10:06:00\", \"2019-05-22T10:09:00\", \"2019-05-22T10:12:00\", \"2019-05-22T10:15:00\", \"2019-05-22T10:18:00\", \"2019-05-22T10:21:00\", \"2019-05-22T10:24:00\", \"2019-05-22T10:27:00\", \"2019-05-22T10:30:00\", \"2019-05-22T10:33:00\", \"2019-05-22T10:36:00\", \"2019-05-22T10:39:00\", \"2019-05-22T10:42:00\", \"2019-05-22T10:45:00\", \"2019-05-22T10:48:00\", \"2019-05-22T10:51:00\", \"2019-05-22T10:54:00\", \"2019-05-22T10:57:00\", \"2019-05-22T11:00:00\", \"2019-05-22T11:03:00\", \"2019-05-22T11:06:00\", \"2019-05-22T11:09:00\", \"2019-05-22T11:12:00\", \"2019-05-22T11:15:00\", \"2019-05-22T11:18:00\", \"2019-05-22T11:21:00\", \"2019-05-22T11:24:00\", \"2019-05-22T11:27:00\", \"2019-05-22T11:30:00\", \"2019-05-22T11:33:00\", \"2019-05-22T11:36:00\", \"2019-05-22T11:39:00\", \"2019-05-22T11:42:00\", \"2019-05-22T11:45:00\", \"2019-05-22T11:48:00\", \"2019-05-22T11:51:00\", \"2019-05-22T11:54:00\", \"2019-05-22T11:57:00\", \"2019-05-22T12:00:00\", \"2019-05-22T12:03:00\", \"2019-05-22T12:06:00\", \"2019-05-22T12:09:00\", \"2019-05-22T12:12:00\", \"2019-05-22T12:15:00\", \"2019-05-22T12:18:00\", \"2019-05-22T12:21:00\", \"2019-05-22T12:24:00\", \"2019-05-22T12:27:00\", \"2019-05-22T12:30:00\", \"2019-05-22T12:33:00\", \"2019-05-22T12:36:00\", \"2019-05-22T12:39:00\", \"2019-05-22T12:42:00\", \"2019-05-22T12:45:00\", \"2019-05-22T12:48:00\", \"2019-05-22T12:51:00\", \"2019-05-22T12:54:00\", \"2019-05-22T12:57:00\", \"2019-05-22T13:00:00\", \"2019-05-22T13:03:00\", \"2019-05-22T13:06:00\", \"2019-05-22T13:09:00\", \"2019-05-22T13:12:00\", \"2019-05-22T13:15:00\", \"2019-05-22T13:18:00\", \"2019-05-22T13:21:00\", \"2019-05-22T13:24:00\", \"2019-05-22T13:27:00\", \"2019-05-22T13:30:00\", \"2019-05-22T13:33:00\", \"2019-05-22T13:36:00\", \"2019-05-22T13:39:00\", \"2019-05-22T13:42:00\", \"2019-05-22T13:45:00\", \"2019-05-22T13:48:00\", \"2019-05-22T13:51:00\", \"2019-05-22T13:54:00\", \"2019-05-22T13:57:00\", \"2019-05-22T14:00:00\", \"2019-05-22T14:03:00\", \"2019-05-22T14:06:00\", \"2019-05-22T14:09:00\", \"2019-05-22T14:12:00\", \"2019-05-22T14:15:00\", \"2019-05-22T14:18:00\", \"2019-05-22T14:21:00\", \"2019-05-22T14:24:00\", \"2019-05-22T14:27:00\", \"2019-05-22T14:30:00\", \"2019-05-22T14:33:00\", \"2019-05-22T14:36:00\", \"2019-05-22T14:39:00\", \"2019-05-22T14:42:00\", \"2019-05-22T14:45:00\", \"2019-05-22T14:48:00\", \"2019-05-22T14:51:00\", \"2019-05-22T14:54:00\", \"2019-05-22T14:57:00\", \"2019-05-22T15:00:00\", \"2019-05-22T15:03:00\", \"2019-05-22T15:06:00\", \"2019-05-22T15:09:00\", \"2019-05-22T15:12:00\", \"2019-05-22T15:15:00\", \"2019-05-22T15:18:00\", \"2019-05-22T15:21:00\", \"2019-05-22T15:24:00\", \"2019-05-22T15:27:00\", \"2019-05-22T15:30:00\", \"2019-05-22T15:33:00\", \"2019-05-22T15:36:00\", \"2019-05-22T15:39:00\", \"2019-05-22T15:42:00\", \"2019-05-22T15:45:00\", \"2019-05-22T15:48:00\", \"2019-05-22T15:51:00\", \"2019-05-22T15:54:00\", \"2019-05-22T15:57:00\", \"2019-05-22T16:00:00\", \"2019-05-22T16:03:00\", \"2019-05-22T16:06:00\", \"2019-05-22T16:09:00\", \"2019-05-22T16:12:00\", \"2019-05-22T16:15:00\", \"2019-05-22T16:18:00\", \"2019-05-22T16:21:00\", \"2019-05-22T16:24:00\", \"2019-05-22T16:27:00\", \"2019-05-22T16:30:00\", \"2019-05-22T16:33:00\", \"2019-05-22T16:36:00\", \"2019-05-22T16:39:00\", \"2019-05-22T16:42:00\", \"2019-05-22T16:45:00\", \"2019-05-22T16:48:00\", \"2019-05-22T16:51:00\", \"2019-05-22T16:54:00\", \"2019-05-22T16:57:00\", \"2019-05-22T17:00:00\", \"2019-05-22T17:03:00\", \"2019-05-22T17:06:00\", \"2019-05-22T17:09:00\", \"2019-05-22T17:12:00\", \"2019-05-22T17:15:00\", \"2019-05-22T17:18:00\", \"2019-05-22T17:21:00\", \"2019-05-22T17:24:00\", \"2019-05-22T17:27:00\", \"2019-05-22T17:30:00\", \"2019-05-22T17:33:00\", \"2019-05-22T17:36:00\", \"2019-05-22T17:39:00\", \"2019-05-22T17:42:00\", \"2019-05-22T17:45:00\", \"2019-05-22T17:48:00\", \"2019-05-22T17:51:00\", \"2019-05-22T17:54:00\", \"2019-05-22T17:57:00\", \"2019-05-22T18:00:00\", \"2019-05-22T18:03:00\", \"2019-05-22T18:06:00\", \"2019-05-22T18:09:00\", \"2019-05-22T18:12:00\", \"2019-05-22T18:15:00\", \"2019-05-22T18:18:00\", \"2019-05-22T18:21:00\", \"2019-05-22T18:24:00\", \"2019-05-22T18:27:00\", \"2019-05-22T18:30:00\", \"2019-05-22T18:33:00\", \"2019-05-22T18:36:00\", \"2019-05-22T18:39:00\", \"2019-05-22T18:42:00\", \"2019-05-22T18:45:00\", \"2019-05-22T18:48:00\", \"2019-05-22T18:51:00\", \"2019-05-22T18:54:00\", \"2019-05-22T18:57:00\", \"2019-05-22T19:00:00\", \"2019-05-22T19:03:00\", \"2019-05-22T19:06:00\", \"2019-05-22T19:09:00\", \"2019-05-22T19:12:00\", \"2019-05-22T19:15:00\", \"2019-05-22T19:18:00\", \"2019-05-22T19:21:00\", \"2019-05-22T19:24:00\", \"2019-05-22T19:27:00\", \"2019-05-22T19:30:00\", \"2019-05-22T19:33:00\", \"2019-05-22T19:36:00\", \"2019-05-22T19:39:00\", \"2019-05-22T19:42:00\", \"2019-05-22T19:45:00\", \"2019-05-22T19:48:00\", \"2019-05-22T19:51:00\", \"2019-05-22T19:54:00\", \"2019-05-22T19:57:00\", \"2019-05-22T20:00:00\", \"2019-05-22T20:03:00\", \"2019-05-22T20:06:00\", \"2019-05-22T20:09:00\", \"2019-05-22T20:12:00\", \"2019-05-22T20:15:00\", \"2019-05-22T20:18:00\", \"2019-05-22T20:21:00\", \"2019-05-22T20:24:00\", \"2019-05-22T20:27:00\", \"2019-05-22T20:30:00\", \"2019-05-22T20:33:00\", \"2019-05-22T20:36:00\", \"2019-05-22T20:39:00\", \"2019-05-22T20:42:00\", \"2019-05-22T20:45:00\", \"2019-05-22T20:48:00\", \"2019-05-22T20:51:00\", \"2019-05-22T20:54:00\", \"2019-05-22T20:57:00\", \"2019-05-22T21:00:00\", \"2019-05-22T21:03:00\", \"2019-05-22T21:06:00\", \"2019-05-22T21:09:00\", \"2019-05-22T21:12:00\", \"2019-05-22T21:15:00\", \"2019-05-22T21:18:00\", \"2019-05-22T21:21:00\", \"2019-05-22T21:24:00\", \"2019-05-22T21:27:00\", \"2019-05-22T21:30:00\", \"2019-05-22T21:33:00\", \"2019-05-22T21:36:00\", \"2019-05-22T21:39:00\", \"2019-05-22T21:42:00\", \"2019-05-22T21:45:00\", \"2019-05-22T21:48:00\", \"2019-05-22T21:51:00\", \"2019-05-22T21:54:00\", \"2019-05-22T21:57:00\", \"2019-05-22T22:00:00\", \"2019-05-22T22:03:00\", \"2019-05-22T22:06:00\", \"2019-05-22T22:09:00\", \"2019-05-22T22:12:00\", \"2019-05-22T22:15:00\", \"2019-05-22T22:18:00\", \"2019-05-22T22:21:00\", \"2019-05-22T22:24:00\", \"2019-05-22T22:27:00\", \"2019-05-22T22:30:00\", \"2019-05-22T22:33:00\", \"2019-05-22T22:36:00\", \"2019-05-22T22:39:00\", \"2019-05-22T22:42:00\", \"2019-05-22T22:45:00\", \"2019-05-22T22:48:00\", \"2019-05-22T22:51:00\", \"2019-05-22T22:54:00\", \"2019-05-22T22:57:00\", \"2019-05-22T23:00:00\", \"2019-05-22T23:03:00\", \"2019-05-22T23:06:00\", \"2019-05-22T23:09:00\", \"2019-05-22T23:12:00\", \"2019-05-22T23:15:00\", \"2019-05-22T23:18:00\", \"2019-05-22T23:21:00\", \"2019-05-22T23:24:00\", \"2019-05-22T23:27:00\", \"2019-05-22T23:30:00\", \"2019-05-22T23:33:00\", \"2019-05-22T23:36:00\", \"2019-05-22T23:39:00\", \"2019-05-22T23:42:00\", \"2019-05-22T23:45:00\", \"2019-05-22T23:48:00\", \"2019-05-22T23:51:00\", \"2019-05-22T23:54:00\", \"2019-05-22T23:57:00\"], \"xaxis\": \"x\", \"y\": [2230.3748066422195, 2230.3748066422195, 2230.3748066422195, 2230.3748066422195, 2230.3748066422195, 2230.3748066422195, 2230.3748066422195, 2230.3748066422195, 2230.3748066422195, 2230.3748066422195, 2230.3748066422195, 2230.3748066422195, 2230.3748066422195, 2230.3748066422195, 2230.3748066422195, 2230.3748066422195, 2230.3748066422195, 2230.3748066422195, 2230.3748066422195, 2230.3748066422195, 2230.3748066422195, 2230.3748066422195, 2230.3748066422195, 2230.3748066422195, 2230.3748066422195, 2230.3748066422195, 2230.3748066422195, 2230.3748066422195, 2230.3748066422195, 2230.3748066422195, 2230.3748066422195, 2230.3748066422195, 2230.3748066422195, 2230.3748066422195, 2230.3748066422195, 2230.3748066422195, 2230.3748066422195, 2230.3748066422195, 2230.3748066422195, 2230.3748066422195, 2230.3748066422195, 2230.3748066422195, 2230.3748066422195, 2230.3748066422195, 2230.3748066422195, 2230.3748066422195, 2230.3748066422195, 2230.3748066422195, 2230.3748066422195, 2230.3748066422195, 2230.3748066422195, 2230.3748066422195, 2230.3748066422195, 2230.3748066422195, 2230.3748066422195, 2230.3748066422195, 2230.3748066422195, 2230.3748066422195, 2230.3748066422195, 2230.3748066422195, 2230.3748066422195, 0.0, 0.0, 0.0, 0.0, 0.0, 0.0, 0.0, 0.0, 0.0, 0.0, 0.0, 0.0, 0.0, 0.0, 0.0, 0.0, 0.0, 0.0, 0.0, 0.0, 0.0, 0.0, 0.0, 0.0, 0.0, 0.0, 0.0, 0.0, 0.0, 0.0, 0.0, 0.0, 0.0, 0.0, 0.0, 0.0, 0.0, 0.0, 0.0, 0.0, 0.0, 0.0, 0.0, 0.0, 0.0, 0.0, 0.0, 0.0, 0.0, 0.0, 0.0, 0.0, 0.0, 0.0, 0.0, 0.0, 0.0, 767.2089010105601, 767.2089010105601, 767.2089010105601, 767.2089010105601, 767.2089010105601, 767.2089010105601, 767.2089010105601, 767.2089010105601, 767.2089010105601, 767.2089010105601, 767.2089010105601, 767.2089010105601, 767.2089010105601, 767.2089010105601, 767.2089010105601, 767.2089010105601, 767.2089010105601, 767.2089010105601, 0.0, 0.0, 0.0, 0.0, 0.0, 0.0, 0.0, 0.0, 0.0, 0.0, 0.0, 0.0, 0.0, 0.0, 0.0, 0.0, 0.0, 0.0, 0.0, 0.0, 0.0, 0.0, 0.0, 0.0, 0.0, 0.0, 0.0, 0.0, 0.0, 0.0, 0.0, 0.0, 0.0, 0.0, 0.0, 0.0, 0.0, 0.0, 0.0, 0.0, 0.0, 0.0, 0.0, 0.0, 0.0, 0.0, 0.0, 0.0, 0.0, 0.0, 0.0, 0.0, 0.0, 0.0, 0.0, 0.0, 0.0, 0.0, 0.0, 0.0, 0.0, 0.0, 0.0, 0.0, 0.0, 0.0, 0.0, 0.0, 0.0, 0.0, 0.0, 0.0, 0.0, 0.0, 0.0, 0.0, 0.0, 0.0, 0.0, 0.0, 0.0, 0.0, 0.0, 0.0, 0.0, 0.0, 0.0, 0.0, 0.0, 0.0, 0.0, 0.0, 0.0, 0.0, 0.0, 0.0, 0.0, 0.0, 0.0, 0.0, 0.0, 0.0, 0.0, 0.0, 0.0, 0.0, 0.0, 0.0, 0.0, 0.0, 0.0, 0.0, 0.0, 0.0, 0.0, 0.0, 0.0, 0.0, 0.0, 0.0, 0.0, 0.0, 0.0, 0.0, 0.0, 0.0, 0.0, 0.0, 0.0, 0.0, 0.0, 0.0, 0.0, 0.0, 0.0, 0.0, 0.0, 0.0, 0.0, 0.0, 0.0, 0.0, 0.0, 0.0, 0.0, 0.0, 0.0, 0.0, 0.0, 2053.774557576217, 2053.774557576217, 2053.774557576217, 2053.774557576217, 2053.774557576217, 2053.774557576217, 2053.774557576217, 2053.774557576217, 2053.774557576217, 2053.774557576217, 2053.774557576217, 2053.774557576217, 2053.774557576217, 2053.774557576217, 2053.774557576217, 2053.774557576217, 2053.774557576217, 2053.774557576217, 2053.774557576217, 2053.774557576217, 2053.774557576217, 2053.774557576217, 0.0, 0.0, 0.0, 0.0, 0.0, 0.0, 0.0, 0.0, 0.0, 0.0, 0.0, 0.0, 0.0, 0.0, 0.0, 0.0, 0.0, 0.0, 0.0, 0.0, 0.0, 0.0, 0.0, 0.0, 0.0, 0.0, 0.0, 0.0, 0.0, 0.0, 0.0, 0.0, 0.0, 0.0, 0.0, 0.0, 0.0, 0.0, 0.0, 0.0, 0.0, 0.0, 0.0, 0.0, 0.0, 0.0, 0.0, 0.0, 0.0, 0.0, 0.0, 0.0, 0.0, 0.0, 0.0, 0.0, 0.0, 0.0, 0.0, 0.0, 0.0, 0.0, 0.0, 0.0, 0.0, 0.0, 0.0, 0.0, 0.0, 0.0, 0.0, 0.0, 0.0, 0.0, 0.0, 0.0, 0.0, 0.0, 0.0, 0.0, 0.0, 0.0, 0.0, 0.0, 0.0, 0.0, 0.0, 0.0, 0.0, 0.0, 0.0, 0.0, 0.0, 0.0, 0.0, 0.0, 0.0, 0.0, 0.0, 0.0, 0.0, 0.0, 0.0, 0.0, 0.0, 0.0, 0.0, 0.0, 0.0, 0.0, 0.0, 0.0, 0.0, 0.0, 0.0, 0.0, 0.0, 0.0, 0.0, 0.0, 0.0, 0.0, 0.0, 0.0, 0.0, 0.0, 0.0, 2357.6613294869408, 2357.6613294869408, 2357.6613294869408, 2357.6613294869408, 2357.6613294869408, 2357.6613294869408, 2357.6613294869408, 2357.6613294869408, 2357.6613294869408, 2357.6613294869408, 2357.6613294869408, 2357.6613294869408, 2357.6613294869408, 2357.6613294869408, 2357.6613294869408, 2357.6613294869408, 2357.6613294869408, 2357.6613294869408, 2357.6613294869408, 2357.6613294869408, 2357.6613294869408, 2357.6613294869408, 2357.6613294869408, 2357.6613294869408, 2357.6613294869408, 2357.6613294869408, 2357.6613294869408, 2357.6613294869408, 2357.6613294869408, 2357.6613294869408, 2357.6613294869408, 2357.6613294869408, 2357.6613294869408, 2357.6613294869408, 2357.6613294869408, 2357.6613294869408, 2357.6613294869408, 2357.6613294869408, 2357.6613294869408, 2357.6613294869408, 2357.6613294869408, 2357.6613294869408, 2357.6613294869408, 2357.6613294869408, 2357.6613294869408, 2357.6613294869408], \"yaxis\": \"y\"}],\n",
       "                        {\"legend\": {\"title\": {\"text\": \"variable\"}, \"tracegroupgap\": 0}, \"margin\": {\"t\": 60}, \"template\": {\"data\": {\"bar\": [{\"error_x\": {\"color\": \"#2a3f5f\"}, \"error_y\": {\"color\": \"#2a3f5f\"}, \"marker\": {\"line\": {\"color\": \"#E5ECF6\", \"width\": 0.5}}, \"type\": \"bar\"}], \"barpolar\": [{\"marker\": {\"line\": {\"color\": \"#E5ECF6\", \"width\": 0.5}}, \"type\": \"barpolar\"}], \"carpet\": [{\"aaxis\": {\"endlinecolor\": \"#2a3f5f\", \"gridcolor\": \"white\", \"linecolor\": \"white\", \"minorgridcolor\": \"white\", \"startlinecolor\": \"#2a3f5f\"}, \"baxis\": {\"endlinecolor\": \"#2a3f5f\", \"gridcolor\": \"white\", \"linecolor\": \"white\", \"minorgridcolor\": \"white\", \"startlinecolor\": \"#2a3f5f\"}, \"type\": \"carpet\"}], \"choropleth\": [{\"colorbar\": {\"outlinewidth\": 0, \"ticks\": \"\"}, \"type\": \"choropleth\"}], \"contour\": [{\"colorbar\": {\"outlinewidth\": 0, \"ticks\": \"\"}, \"colorscale\": [[0.0, \"#0d0887\"], [0.1111111111111111, \"#46039f\"], [0.2222222222222222, \"#7201a8\"], [0.3333333333333333, \"#9c179e\"], [0.4444444444444444, \"#bd3786\"], [0.5555555555555556, \"#d8576b\"], [0.6666666666666666, \"#ed7953\"], [0.7777777777777778, \"#fb9f3a\"], [0.8888888888888888, \"#fdca26\"], [1.0, \"#f0f921\"]], \"type\": \"contour\"}], \"contourcarpet\": [{\"colorbar\": {\"outlinewidth\": 0, \"ticks\": \"\"}, \"type\": \"contourcarpet\"}], \"heatmap\": [{\"colorbar\": {\"outlinewidth\": 0, \"ticks\": \"\"}, \"colorscale\": [[0.0, \"#0d0887\"], [0.1111111111111111, \"#46039f\"], [0.2222222222222222, \"#7201a8\"], [0.3333333333333333, \"#9c179e\"], [0.4444444444444444, \"#bd3786\"], [0.5555555555555556, \"#d8576b\"], [0.6666666666666666, \"#ed7953\"], [0.7777777777777778, \"#fb9f3a\"], [0.8888888888888888, \"#fdca26\"], [1.0, \"#f0f921\"]], \"type\": \"heatmap\"}], \"heatmapgl\": [{\"colorbar\": {\"outlinewidth\": 0, \"ticks\": \"\"}, \"colorscale\": [[0.0, \"#0d0887\"], [0.1111111111111111, \"#46039f\"], [0.2222222222222222, \"#7201a8\"], [0.3333333333333333, \"#9c179e\"], [0.4444444444444444, \"#bd3786\"], [0.5555555555555556, \"#d8576b\"], [0.6666666666666666, \"#ed7953\"], [0.7777777777777778, \"#fb9f3a\"], [0.8888888888888888, \"#fdca26\"], [1.0, \"#f0f921\"]], \"type\": \"heatmapgl\"}], \"histogram\": [{\"marker\": {\"colorbar\": {\"outlinewidth\": 0, \"ticks\": \"\"}}, \"type\": \"histogram\"}], \"histogram2d\": [{\"colorbar\": {\"outlinewidth\": 0, \"ticks\": \"\"}, \"colorscale\": [[0.0, \"#0d0887\"], [0.1111111111111111, \"#46039f\"], [0.2222222222222222, \"#7201a8\"], [0.3333333333333333, \"#9c179e\"], [0.4444444444444444, \"#bd3786\"], [0.5555555555555556, \"#d8576b\"], [0.6666666666666666, \"#ed7953\"], [0.7777777777777778, \"#fb9f3a\"], [0.8888888888888888, \"#fdca26\"], [1.0, \"#f0f921\"]], \"type\": \"histogram2d\"}], \"histogram2dcontour\": [{\"colorbar\": {\"outlinewidth\": 0, \"ticks\": \"\"}, \"colorscale\": [[0.0, \"#0d0887\"], [0.1111111111111111, \"#46039f\"], [0.2222222222222222, \"#7201a8\"], [0.3333333333333333, \"#9c179e\"], [0.4444444444444444, \"#bd3786\"], [0.5555555555555556, \"#d8576b\"], [0.6666666666666666, \"#ed7953\"], [0.7777777777777778, \"#fb9f3a\"], [0.8888888888888888, \"#fdca26\"], [1.0, \"#f0f921\"]], \"type\": \"histogram2dcontour\"}], \"mesh3d\": [{\"colorbar\": {\"outlinewidth\": 0, \"ticks\": \"\"}, \"type\": \"mesh3d\"}], \"parcoords\": [{\"line\": {\"colorbar\": {\"outlinewidth\": 0, \"ticks\": \"\"}}, \"type\": \"parcoords\"}], \"pie\": [{\"automargin\": true, \"type\": \"pie\"}], \"scatter\": [{\"marker\": {\"colorbar\": {\"outlinewidth\": 0, \"ticks\": \"\"}}, \"type\": \"scatter\"}], \"scatter3d\": [{\"line\": {\"colorbar\": {\"outlinewidth\": 0, \"ticks\": \"\"}}, \"marker\": {\"colorbar\": {\"outlinewidth\": 0, \"ticks\": \"\"}}, \"type\": \"scatter3d\"}], \"scattercarpet\": [{\"marker\": {\"colorbar\": {\"outlinewidth\": 0, \"ticks\": \"\"}}, \"type\": \"scattercarpet\"}], \"scattergeo\": [{\"marker\": {\"colorbar\": {\"outlinewidth\": 0, \"ticks\": \"\"}}, \"type\": \"scattergeo\"}], \"scattergl\": [{\"marker\": {\"colorbar\": {\"outlinewidth\": 0, \"ticks\": \"\"}}, \"type\": \"scattergl\"}], \"scattermapbox\": [{\"marker\": {\"colorbar\": {\"outlinewidth\": 0, \"ticks\": \"\"}}, \"type\": \"scattermapbox\"}], \"scatterpolar\": [{\"marker\": {\"colorbar\": {\"outlinewidth\": 0, \"ticks\": \"\"}}, \"type\": \"scatterpolar\"}], \"scatterpolargl\": [{\"marker\": {\"colorbar\": {\"outlinewidth\": 0, \"ticks\": \"\"}}, \"type\": \"scatterpolargl\"}], \"scatterternary\": [{\"marker\": {\"colorbar\": {\"outlinewidth\": 0, \"ticks\": \"\"}}, \"type\": \"scatterternary\"}], \"surface\": [{\"colorbar\": {\"outlinewidth\": 0, \"ticks\": \"\"}, \"colorscale\": [[0.0, \"#0d0887\"], [0.1111111111111111, \"#46039f\"], [0.2222222222222222, \"#7201a8\"], [0.3333333333333333, \"#9c179e\"], [0.4444444444444444, \"#bd3786\"], [0.5555555555555556, \"#d8576b\"], [0.6666666666666666, \"#ed7953\"], [0.7777777777777778, \"#fb9f3a\"], [0.8888888888888888, \"#fdca26\"], [1.0, \"#f0f921\"]], \"type\": \"surface\"}], \"table\": [{\"cells\": {\"fill\": {\"color\": \"#EBF0F8\"}, \"line\": {\"color\": \"white\"}}, \"header\": {\"fill\": {\"color\": \"#C8D4E3\"}, \"line\": {\"color\": \"white\"}}, \"type\": \"table\"}]}, \"layout\": {\"annotationdefaults\": {\"arrowcolor\": \"#2a3f5f\", \"arrowhead\": 0, \"arrowwidth\": 1}, \"coloraxis\": {\"colorbar\": {\"outlinewidth\": 0, \"ticks\": \"\"}}, \"colorscale\": {\"diverging\": [[0, \"#8e0152\"], [0.1, \"#c51b7d\"], [0.2, \"#de77ae\"], [0.3, \"#f1b6da\"], [0.4, \"#fde0ef\"], [0.5, \"#f7f7f7\"], [0.6, \"#e6f5d0\"], [0.7, \"#b8e186\"], [0.8, \"#7fbc41\"], [0.9, \"#4d9221\"], [1, \"#276419\"]], \"sequential\": [[0.0, \"#0d0887\"], [0.1111111111111111, \"#46039f\"], [0.2222222222222222, \"#7201a8\"], [0.3333333333333333, \"#9c179e\"], [0.4444444444444444, \"#bd3786\"], [0.5555555555555556, \"#d8576b\"], [0.6666666666666666, \"#ed7953\"], [0.7777777777777778, \"#fb9f3a\"], [0.8888888888888888, \"#fdca26\"], [1.0, \"#f0f921\"]], \"sequentialminus\": [[0.0, \"#0d0887\"], [0.1111111111111111, \"#46039f\"], [0.2222222222222222, \"#7201a8\"], [0.3333333333333333, \"#9c179e\"], [0.4444444444444444, \"#bd3786\"], [0.5555555555555556, \"#d8576b\"], [0.6666666666666666, \"#ed7953\"], [0.7777777777777778, \"#fb9f3a\"], [0.8888888888888888, \"#fdca26\"], [1.0, \"#f0f921\"]]}, \"colorway\": [\"#636efa\", \"#EF553B\", \"#00cc96\", \"#ab63fa\", \"#FFA15A\", \"#19d3f3\", \"#FF6692\", \"#B6E880\", \"#FF97FF\", \"#FECB52\"], \"font\": {\"color\": \"#2a3f5f\"}, \"geo\": {\"bgcolor\": \"white\", \"lakecolor\": \"white\", \"landcolor\": \"#E5ECF6\", \"showlakes\": true, \"showland\": true, \"subunitcolor\": \"white\"}, \"hoverlabel\": {\"align\": \"left\"}, \"hovermode\": \"closest\", \"mapbox\": {\"style\": \"light\"}, \"paper_bgcolor\": \"white\", \"plot_bgcolor\": \"#E5ECF6\", \"polar\": {\"angularaxis\": {\"gridcolor\": \"white\", \"linecolor\": \"white\", \"ticks\": \"\"}, \"bgcolor\": \"#E5ECF6\", \"radialaxis\": {\"gridcolor\": \"white\", \"linecolor\": \"white\", \"ticks\": \"\"}}, \"scene\": {\"xaxis\": {\"backgroundcolor\": \"#E5ECF6\", \"gridcolor\": \"white\", \"gridwidth\": 2, \"linecolor\": \"white\", \"showbackground\": true, \"ticks\": \"\", \"zerolinecolor\": \"white\"}, \"yaxis\": {\"backgroundcolor\": \"#E5ECF6\", \"gridcolor\": \"white\", \"gridwidth\": 2, \"linecolor\": \"white\", \"showbackground\": true, \"ticks\": \"\", \"zerolinecolor\": \"white\"}, \"zaxis\": {\"backgroundcolor\": \"#E5ECF6\", \"gridcolor\": \"white\", \"gridwidth\": 2, \"linecolor\": \"white\", \"showbackground\": true, \"ticks\": \"\", \"zerolinecolor\": \"white\"}}, \"shapedefaults\": {\"line\": {\"color\": \"#2a3f5f\"}}, \"ternary\": {\"aaxis\": {\"gridcolor\": \"white\", \"linecolor\": \"white\", \"ticks\": \"\"}, \"baxis\": {\"gridcolor\": \"white\", \"linecolor\": \"white\", \"ticks\": \"\"}, \"bgcolor\": \"#E5ECF6\", \"caxis\": {\"gridcolor\": \"white\", \"linecolor\": \"white\", \"ticks\": \"\"}}, \"title\": {\"x\": 0.05}, \"xaxis\": {\"automargin\": true, \"gridcolor\": \"white\", \"linecolor\": \"white\", \"ticks\": \"\", \"title\": {\"standoff\": 15}, \"zerolinecolor\": \"white\", \"zerolinewidth\": 2}, \"yaxis\": {\"automargin\": true, \"gridcolor\": \"white\", \"linecolor\": \"white\", \"ticks\": \"\", \"title\": {\"standoff\": 15}, \"zerolinecolor\": \"white\", \"zerolinewidth\": 2}}}, \"xaxis\": {\"anchor\": \"y\", \"domain\": [0.0, 1.0], \"title\": {\"text\": \"x_Timestamp\"}}, \"yaxis\": {\"anchor\": \"x\", \"domain\": [0.0, 1.0], \"title\": {\"text\": \"value\"}}},\n",
       "                        {\"responsive\": true}\n",
       "                    ).then(function(){\n",
       "                            \n",
       "var gd = document.getElementById('744bb23d-4ac9-4205-82be-49ae0c0e1fdf');\n",
       "var x = new MutationObserver(function (mutations, observer) {{\n",
       "        var display = window.getComputedStyle(gd).display;\n",
       "        if (!display || display === 'none') {{\n",
       "            console.log([gd, 'removed!']);\n",
       "            Plotly.purge(gd);\n",
       "            observer.disconnect();\n",
       "        }}\n",
       "}});\n",
       "\n",
       "// Listen for the removal of the full notebook cells\n",
       "var notebookContainer = gd.closest('#notebook-container');\n",
       "if (notebookContainer) {{\n",
       "    x.observe(notebookContainer, {childList: true});\n",
       "}}\n",
       "\n",
       "// Listen for the clearing of the current output cell\n",
       "var outputEl = gd.closest('.output');\n",
       "if (outputEl) {{\n",
       "    x.observe(outputEl, {childList: true});\n",
       "}}\n",
       "\n",
       "                        })\n",
       "                };\n",
       "                });\n",
       "            </script>\n",
       "        </div>"
      ]
     },
     "metadata": {},
     "output_type": "display_data"
    }
   ],
   "source": [
    "# mask = (mask1 | mask2) & mask3 & mask4 & mask5\n",
    "g['ac_power'].plot()   "
   ]
  },
  {
   "cell_type": "code",
   "execution_count": 31,
   "metadata": {},
   "outputs": [
    {
     "data": {
      "text/html": [
       "<div>\n",
       "<style scoped>\n",
       "    .dataframe tbody tr th:only-of-type {\n",
       "        vertical-align: middle;\n",
       "    }\n",
       "\n",
       "    .dataframe tbody tr th {\n",
       "        vertical-align: top;\n",
       "    }\n",
       "\n",
       "    .dataframe thead th {\n",
       "        text-align: right;\n",
       "    }\n",
       "</style>\n",
       "<table border=\"1\" class=\"dataframe\">\n",
       "  <thead>\n",
       "    <tr style=\"text-align: right;\">\n",
       "      <th></th>\n",
       "      <th>gsp</th>\n",
       "      <th>power</th>\n",
       "      <th>current</th>\n",
       "      <th>compressor</th>\n",
       "      <th>final_compressor</th>\n",
       "      <th>ac_power</th>\n",
       "      <th>ac_on</th>\n",
       "      <th>voltage</th>\n",
       "      <th>meter</th>\n",
       "      <th>diff</th>\n",
       "      <th>c</th>\n",
       "      <th>acp</th>\n",
       "      <th>acon</th>\n",
       "    </tr>\n",
       "    <tr>\n",
       "      <th>x_Timestamp</th>\n",
       "      <th></th>\n",
       "      <th></th>\n",
       "      <th></th>\n",
       "      <th></th>\n",
       "      <th></th>\n",
       "      <th></th>\n",
       "      <th></th>\n",
       "      <th></th>\n",
       "      <th></th>\n",
       "      <th></th>\n",
       "      <th></th>\n",
       "      <th></th>\n",
       "      <th></th>\n",
       "    </tr>\n",
       "  </thead>\n",
       "  <tbody>\n",
       "    <tr>\n",
       "      <th>2019-05-22 03:06:00</th>\n",
       "      <td>0.0</td>\n",
       "      <td>2580.0</td>\n",
       "      <td>10.83</td>\n",
       "      <td>0</td>\n",
       "      <td>0</td>\n",
       "      <td>0.000000</td>\n",
       "      <td>0</td>\n",
       "      <td>246.28</td>\n",
       "      <td>MH27</td>\n",
       "      <td>0</td>\n",
       "      <td>1</td>\n",
       "      <td>2173.785039</td>\n",
       "      <td>0</td>\n",
       "    </tr>\n",
       "    <tr>\n",
       "      <th>2019-05-22 03:09:00</th>\n",
       "      <td>0.0</td>\n",
       "      <td>2600.0</td>\n",
       "      <td>10.95</td>\n",
       "      <td>0</td>\n",
       "      <td>0</td>\n",
       "      <td>0.000000</td>\n",
       "      <td>0</td>\n",
       "      <td>248.52</td>\n",
       "      <td>MH27</td>\n",
       "      <td>0</td>\n",
       "      <td>1</td>\n",
       "      <td>2193.785039</td>\n",
       "      <td>0</td>\n",
       "    </tr>\n",
       "    <tr>\n",
       "      <th>2019-05-22 03:12:00</th>\n",
       "      <td>0.0</td>\n",
       "      <td>2540.0</td>\n",
       "      <td>10.77</td>\n",
       "      <td>0</td>\n",
       "      <td>0</td>\n",
       "      <td>0.000000</td>\n",
       "      <td>0</td>\n",
       "      <td>246.58</td>\n",
       "      <td>MH27</td>\n",
       "      <td>0</td>\n",
       "      <td>1</td>\n",
       "      <td>2133.785039</td>\n",
       "      <td>0</td>\n",
       "    </tr>\n",
       "    <tr>\n",
       "      <th>2019-05-22 03:15:00</th>\n",
       "      <td>0.0</td>\n",
       "      <td>2580.0</td>\n",
       "      <td>10.84</td>\n",
       "      <td>0</td>\n",
       "      <td>0</td>\n",
       "      <td>0.000000</td>\n",
       "      <td>0</td>\n",
       "      <td>247.44</td>\n",
       "      <td>MH27</td>\n",
       "      <td>0</td>\n",
       "      <td>1</td>\n",
       "      <td>2173.785039</td>\n",
       "      <td>0</td>\n",
       "    </tr>\n",
       "    <tr>\n",
       "      <th>2019-05-22 03:18:00</th>\n",
       "      <td>0.0</td>\n",
       "      <td>2680.0</td>\n",
       "      <td>11.08</td>\n",
       "      <td>0</td>\n",
       "      <td>0</td>\n",
       "      <td>0.000000</td>\n",
       "      <td>0</td>\n",
       "      <td>247.30</td>\n",
       "      <td>MH27</td>\n",
       "      <td>0</td>\n",
       "      <td>1</td>\n",
       "      <td>2273.785039</td>\n",
       "      <td>0</td>\n",
       "    </tr>\n",
       "    <tr>\n",
       "      <th>...</th>\n",
       "      <td>...</td>\n",
       "      <td>...</td>\n",
       "      <td>...</td>\n",
       "      <td>...</td>\n",
       "      <td>...</td>\n",
       "      <td>...</td>\n",
       "      <td>...</td>\n",
       "      <td>...</td>\n",
       "      <td>...</td>\n",
       "      <td>...</td>\n",
       "      <td>...</td>\n",
       "      <td>...</td>\n",
       "      <td>...</td>\n",
       "    </tr>\n",
       "    <tr>\n",
       "      <th>2020-09-24 05:54:00</th>\n",
       "      <td>0.0</td>\n",
       "      <td>2500.0</td>\n",
       "      <td>10.63</td>\n",
       "      <td>0</td>\n",
       "      <td>0</td>\n",
       "      <td>0.000000</td>\n",
       "      <td>0</td>\n",
       "      <td>237.03</td>\n",
       "      <td>MH27</td>\n",
       "      <td>0</td>\n",
       "      <td>1</td>\n",
       "      <td>2093.785039</td>\n",
       "      <td>0</td>\n",
       "    </tr>\n",
       "    <tr>\n",
       "      <th>2020-09-24 07:57:00</th>\n",
       "      <td>0.0</td>\n",
       "      <td>2760.0</td>\n",
       "      <td>12.41</td>\n",
       "      <td>0</td>\n",
       "      <td>0</td>\n",
       "      <td>3109.653345</td>\n",
       "      <td>0</td>\n",
       "      <td>229.23</td>\n",
       "      <td>MH27</td>\n",
       "      <td>0</td>\n",
       "      <td>1</td>\n",
       "      <td>2353.785039</td>\n",
       "      <td>0</td>\n",
       "    </tr>\n",
       "    <tr>\n",
       "      <th>2020-10-15 19:51:00</th>\n",
       "      <td>0.0</td>\n",
       "      <td>2520.0</td>\n",
       "      <td>10.95</td>\n",
       "      <td>0</td>\n",
       "      <td>0</td>\n",
       "      <td>3848.320012</td>\n",
       "      <td>0</td>\n",
       "      <td>233.75</td>\n",
       "      <td>MH27</td>\n",
       "      <td>0</td>\n",
       "      <td>1</td>\n",
       "      <td>2113.785039</td>\n",
       "      <td>0</td>\n",
       "    </tr>\n",
       "    <tr>\n",
       "      <th>2020-10-15 20:45:00</th>\n",
       "      <td>0.0</td>\n",
       "      <td>2800.0</td>\n",
       "      <td>12.75</td>\n",
       "      <td>0</td>\n",
       "      <td>0</td>\n",
       "      <td>0.000000</td>\n",
       "      <td>0</td>\n",
       "      <td>232.52</td>\n",
       "      <td>MH27</td>\n",
       "      <td>0</td>\n",
       "      <td>1</td>\n",
       "      <td>2393.785039</td>\n",
       "      <td>0</td>\n",
       "    </tr>\n",
       "    <tr>\n",
       "      <th>2020-10-15 20:48:00</th>\n",
       "      <td>0.0</td>\n",
       "      <td>3000.0</td>\n",
       "      <td>13.53</td>\n",
       "      <td>0</td>\n",
       "      <td>0</td>\n",
       "      <td>0.000000</td>\n",
       "      <td>0</td>\n",
       "      <td>232.86</td>\n",
       "      <td>MH27</td>\n",
       "      <td>0</td>\n",
       "      <td>1</td>\n",
       "      <td>2593.785039</td>\n",
       "      <td>0</td>\n",
       "    </tr>\n",
       "  </tbody>\n",
       "</table>\n",
       "<p>1590 rows × 13 columns</p>\n",
       "</div>"
      ],
      "text/plain": [
       "                     gsp   power  current  compressor  final_compressor  \\\n",
       "x_Timestamp                                                               \n",
       "2019-05-22 03:06:00  0.0  2580.0    10.83           0                 0   \n",
       "2019-05-22 03:09:00  0.0  2600.0    10.95           0                 0   \n",
       "2019-05-22 03:12:00  0.0  2540.0    10.77           0                 0   \n",
       "2019-05-22 03:15:00  0.0  2580.0    10.84           0                 0   \n",
       "2019-05-22 03:18:00  0.0  2680.0    11.08           0                 0   \n",
       "...                  ...     ...      ...         ...               ...   \n",
       "2020-09-24 05:54:00  0.0  2500.0    10.63           0                 0   \n",
       "2020-09-24 07:57:00  0.0  2760.0    12.41           0                 0   \n",
       "2020-10-15 19:51:00  0.0  2520.0    10.95           0                 0   \n",
       "2020-10-15 20:45:00  0.0  2800.0    12.75           0                 0   \n",
       "2020-10-15 20:48:00  0.0  3000.0    13.53           0                 0   \n",
       "\n",
       "                        ac_power  ac_on  voltage meter  diff  c          acp  \\\n",
       "x_Timestamp                                                                    \n",
       "2019-05-22 03:06:00     0.000000      0   246.28  MH27     0  1  2173.785039   \n",
       "2019-05-22 03:09:00     0.000000      0   248.52  MH27     0  1  2193.785039   \n",
       "2019-05-22 03:12:00     0.000000      0   246.58  MH27     0  1  2133.785039   \n",
       "2019-05-22 03:15:00     0.000000      0   247.44  MH27     0  1  2173.785039   \n",
       "2019-05-22 03:18:00     0.000000      0   247.30  MH27     0  1  2273.785039   \n",
       "...                          ...    ...      ...   ...   ... ..          ...   \n",
       "2020-09-24 05:54:00     0.000000      0   237.03  MH27     0  1  2093.785039   \n",
       "2020-09-24 07:57:00  3109.653345      0   229.23  MH27     0  1  2353.785039   \n",
       "2020-10-15 19:51:00  3848.320012      0   233.75  MH27     0  1  2113.785039   \n",
       "2020-10-15 20:45:00     0.000000      0   232.52  MH27     0  1  2393.785039   \n",
       "2020-10-15 20:48:00     0.000000      0   232.86  MH27     0  1  2593.785039   \n",
       "\n",
       "                     acon  \n",
       "x_Timestamp                \n",
       "2019-05-22 03:06:00     0  \n",
       "2019-05-22 03:09:00     0  \n",
       "2019-05-22 03:12:00     0  \n",
       "2019-05-22 03:15:00     0  \n",
       "2019-05-22 03:18:00     0  \n",
       "...                   ...  \n",
       "2020-09-24 05:54:00     0  \n",
       "2020-09-24 07:57:00     0  \n",
       "2020-10-15 19:51:00     0  \n",
       "2020-10-15 20:45:00     0  \n",
       "2020-10-15 20:48:00     0  \n",
       "\n",
       "[1590 rows x 13 columns]"
      ]
     },
     "execution_count": 31,
     "metadata": {},
     "output_type": "execute_result"
    }
   ],
   "source": [
    "gsp_result.loc[mask]"
   ]
  },
  {
   "cell_type": "code",
   "execution_count": null,
   "metadata": {},
   "outputs": [],
   "source": []
  }
 ],
 "metadata": {
  "kernelspec": {
   "display_name": "Python 3",
   "language": "python",
   "name": "python3"
  },
  "language_info": {
   "codemirror_mode": {
    "name": "ipython",
    "version": 3
   },
   "file_extension": ".py",
   "mimetype": "text/x-python",
   "name": "python",
   "nbconvert_exporter": "python",
   "pygments_lexer": "ipython3",
   "version": "3.7.6"
  }
 },
 "nbformat": 4,
 "nbformat_minor": 4
}
