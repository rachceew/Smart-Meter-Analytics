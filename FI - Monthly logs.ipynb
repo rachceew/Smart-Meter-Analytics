{
 "cells": [
  {
   "cell_type": "code",
   "execution_count": 1,
   "metadata": {},
   "outputs": [],
   "source": [
    "from __future__ import division\n",
    "from __future__ import print_function  \n",
    "import warnings\n",
    "import pandas as pd\n",
    "import gsp_support as gsp\n",
    "import matplotlib.pyplot as plt\n",
    "import numpy as np\n",
    "pd.options.plotting.backend = \"plotly\"\n",
    "import datetime\n",
    "output_folder = 'FINAL/Disaggregation/stage2_filter/'"
   ]
  },
  {
   "cell_type": "code",
   "execution_count": 14,
   "metadata": {},
   "outputs": [],
   "source": [
    "l = ['t1','t2','t3','t4','t5','t6','t7']\n",
    "output = pd.DataFrame()\n",
    "\n",
    "for s in l:\n",
    "    csv = pd.read_csv(output_folder+s+'.csv')\n",
    "    csv['x_Timestamp']= pd.to_datetime(csv['x_Timestamp'])\n",
    "    csv = csv.set_index('x_Timestamp')\n",
    "    output = output.append(csv)"
   ]
  },
  {
   "cell_type": "code",
   "execution_count": 15,
   "metadata": {},
   "outputs": [],
   "source": [
    "ll = list(output['meter'].unique())"
   ]
  },
  {
   "cell_type": "code",
   "execution_count": 16,
   "metadata": {},
   "outputs": [],
   "source": [
    "survey = pd.read_csv('FINAL- Appliance stock survey and metadata 20Nov19.xlsx - FINAL- Appliance stock survey a.csv')\n",
    "\n",
    "ac_list = list(survey.loc[survey['q_409_ac_yn']==1]['home_no'])\n",
    "ac_list = list(set(ac_list) - set(['BR17','BR20','BR42']))"
   ]
  },
  {
   "cell_type": "code",
   "execution_count": 18,
   "metadata": {},
   "outputs": [
    {
     "data": {
      "text/plain": [
       "set()"
      ]
     },
     "execution_count": 18,
     "metadata": {},
     "output_type": "execute_result"
    }
   ],
   "source": [
    "set(ac_list)-set(ll)"
   ]
  },
  {
   "cell_type": "code",
   "execution_count": 19,
   "metadata": {},
   "outputs": [],
   "source": [
    "output.to_csv(output_folder+'3min_disaggregated_final.csv')"
   ]
  },
  {
   "cell_type": "code",
   "execution_count": 22,
   "metadata": {},
   "outputs": [
    {
     "data": {
      "text/plain": [
       "31"
      ]
     },
     "execution_count": 22,
     "metadata": {},
     "output_type": "execute_result"
    }
   ],
   "source": [
    "len(output['meter'].unique())"
   ]
  },
  {
   "cell_type": "code",
   "execution_count": 53,
   "metadata": {},
   "outputs": [],
   "source": [
    "# get the new monthly statistics\n",
    "\n",
    "output_folder = 'FINAL/monthly statistics/'"
   ]
  },
  {
   "cell_type": "code",
   "execution_count": 25,
   "metadata": {},
   "outputs": [],
   "source": [
    "output['timestamp'] = output.index\n",
    "output['m-y'] = output['timestamp'].dt.to_period('M')\n",
    "output = output.drop(['timestamp'],axis=1)"
   ]
  },
  {
   "cell_type": "code",
   "execution_count": 27,
   "metadata": {},
   "outputs": [],
   "source": [
    "# functions for statistics\n",
    "\n",
    "def daily_ac_hrs(df):\n",
    "    num = df.loc[df['ac_on']==1].shape[0]\n",
    "    hrs = (num*3)/60\n",
    "    return hrs\n",
    "\n",
    "def daily_ac_avg_load(df):\n",
    "    num = df.loc[df['ac_on']==1]['ac_power'].mean()\n",
    "    return num\n",
    "\n",
    "def daily_avg_energy(df):\n",
    "    num = (df['power']/20000).sum()\n",
    "    return num\n",
    "\n",
    "def daily_avg_car(df):\n",
    "    n1 = df.loc[df['final_compressor']==1].shape[0]\n",
    "    n2 = df.loc[df['ac_on']==1].shape[0]\n",
    "    if n2>0:\n",
    "        num = (n1/n2)*100\n",
    "    else: \n",
    "        num = 0\n",
    "    \n",
    "    return num"
   ]
  },
  {
   "cell_type": "code",
   "execution_count": 52,
   "metadata": {},
   "outputs": [
    {
     "name": "stdout",
     "output_type": "stream",
     "text": [
      "BR06\n",
      "BR07\n",
      "BR08\n",
      "BR11\n",
      "BR12\n",
      "BR13\n",
      "BR18\n",
      "BR22\n",
      "BR23\n",
      "BR24\n",
      "BR31\n",
      "BR35\n",
      "BR36\n",
      "BR38\n",
      "BR45\n",
      "BR49\n",
      "BR51\n",
      "MH02\n",
      "MH07\n",
      "MH10\n",
      "MH14\n",
      "MH18\n",
      "MH21\n",
      "MH22\n",
      "MH23\n",
      "MH24\n",
      "MH27\n",
      "MH33\n",
      "MH36\n",
      "MH43\n",
      "MH45\n"
     ]
    }
   ],
   "source": [
    "# a dataframe that tells me the number of days for each meters for each for which data is available\n",
    "\n",
    "# days = {k: [] for k in mm}\n",
    "my = []\n",
    "met = []\n",
    "n = []\n",
    "nac = []\n",
    "d_avg_ac_hrs = []\n",
    "acp = []\n",
    "per_day_e = []\n",
    "ty = []\n",
    "car = []\n",
    "\n",
    "grouped = output1.groupby('meter')\n",
    "\n",
    "for name, group in grouped:\n",
    "    print(name)\n",
    "    sub = grouped.get_group(name)\n",
    "    month_list = list(sub['m-y'].unique())\n",
    "    \n",
    "    for m in month_list:\n",
    "        sub_month = sub.loc[sub['m-y']==m]\n",
    "        s = sub_month.index.date\n",
    "        ac_ = sub_month.loc[sub_month['ac_on']==1]\n",
    "        \n",
    "        num_days_ac = len(list(np.unique(ac_.index.date)))\n",
    "        num_days = len(list(np.unique(s)))\n",
    "        hr = sub_month.groupby(sub_month.index.date).apply(daily_ac_hrs)\n",
    "        hr_ = hr.loc[hr>0]\n",
    "        if len(hr_)>0:\n",
    "            dac = sum(hr_)/len(hr_)\n",
    "        else:\n",
    "            dac = np.nan\n",
    "            \n",
    "        ac_power = sub_month.loc[sub_month['ac_on']==1]['ac_power'].mean() #baad me dekh lena\n",
    "        \n",
    "        avg_e = sub_month.groupby(sub_month.index.date).apply(daily_avg_energy).mean()\n",
    "        \n",
    "        row = survey.loc[survey['home_no']==name]\n",
    "        if row['q_411_ac1_type'].values[0]==1:\n",
    "            typee = 'Window '\n",
    "        elif row['q_411_ac1_type'].values[0]==2:\n",
    "            typee = 'Split '\n",
    "        else:\n",
    "            typee = 'Inverter'\n",
    "        c = sub_month.groupby(sub_month.index.date).apply(daily_avg_car)\n",
    "        c_ = c.loc[c>0]    \n",
    "        cc = c_.mean()        \n",
    "        met.append(name)\n",
    "        my.append(str(m))\n",
    "        n.append(num_days)\n",
    "        nac.append(num_days_ac)\n",
    "        d_avg_ac_hrs.append(dac)\n",
    "        acp.append(ac_power)\n",
    "        per_day_e.append(avg_e)\n",
    "        ty.append(typee)\n",
    "        car.append(cc)\n",
    "        \n",
    "        \n",
    "        \n",
    "        \n",
    "       \n"
   ]
  },
  {
   "cell_type": "code",
   "execution_count": 62,
   "metadata": {},
   "outputs": [],
   "source": [
    "num_days = pd.DataFrame({'Meter':met, 'M-Y':my, 'num_days_data_available':n,'ac_on_days':nac, 'd_avg_ac_hrs':d_avg_ac_hrs,'average ac load':acp,'daily_avg_consumption':per_day_e,'ac type':ty})"
   ]
  },
  {
   "cell_type": "code",
   "execution_count": 63,
   "metadata": {},
   "outputs": [],
   "source": [
    "#rounding off and extra columns\n",
    "\n",
    "num_days['perc_days_ac_on'] = np.round((num_days['ac_on_days']/num_days['num_days_data_available'])*100,2)\n",
    "num_days['d_avg_ac_hrs'] = num_days['d_avg_ac_hrs']\n",
    "num_days['monthly ac usage hrs'] = np.round(num_days['d_avg_ac_hrs']*(num_days['perc_days_ac_on']/100)*30,2)\n",
    "num_days['average ac load'] = np.round(num_days['average ac load'])\n",
    "num_days['daily_avg_consumption'] = num_days['daily_avg_consumption']"
   ]
  },
  {
   "cell_type": "code",
   "execution_count": 64,
   "metadata": {},
   "outputs": [],
   "source": [
    "# total monthly energy consumption by AC\n",
    "\n",
    "\n",
    "num_days['monthly ac consumption'] = np.round((num_days['average ac load']/1000)*num_days['monthly ac usage hrs'],2)\n",
    "num_days['monthly consumption'] = np.round((num_days['daily_avg_consumption']*30),2)\n"
   ]
  },
  {
   "cell_type": "code",
   "execution_count": 66,
   "metadata": {},
   "outputs": [],
   "source": [
    "num_days.to_csv(output_folder+'monthly3.csv')"
   ]
  },
  {
   "cell_type": "code",
   "execution_count": 46,
   "metadata": {},
   "outputs": [],
   "source": [
    "start_date = '2019-05-01' # from may\n",
    "end_date = '2019-11-30'  # till september\n",
    "mask = (output.index >= start_date) & (output.index < end_date)\n",
    "start_date1 = '2020-03-01' # from may\n",
    "end_date1 = '2020-11-30'  # till september\n",
    "mask1 = (output.index >= start_date1) & (output.index < end_date1)"
   ]
  },
  {
   "cell_type": "code",
   "execution_count": 47,
   "metadata": {},
   "outputs": [],
   "source": [
    "output1 = output.loc[mask | mask1]"
   ]
  },
  {
   "cell_type": "code",
   "execution_count": 49,
   "metadata": {},
   "outputs": [
    {
     "data": {
      "text/plain": [
       "<PeriodArray>\n",
       "['2019-05', '2019-06', '2019-07', '2019-08', '2019-09', '2019-10', '2019-11',\n",
       " '2020-03', '2020-04', '2020-05', '2020-06', '2020-07', '2020-08', '2020-09',\n",
       " '2020-10', '2020-11']\n",
       "Length: 16, dtype: period[M]"
      ]
     },
     "execution_count": 49,
     "metadata": {},
     "output_type": "execute_result"
    }
   ],
   "source": [
    "output1['m-y'].unique()"
   ]
  },
  {
   "cell_type": "code",
   "execution_count": 73,
   "metadata": {},
   "outputs": [],
   "source": [
    "output_folder = 'FINAL/Disaggregation/stage2_filter/'\n"
   ]
  },
  {
   "cell_type": "code",
   "execution_count": 74,
   "metadata": {},
   "outputs": [],
   "source": [
    "output1.to_csv(output_folder+'3 min disaggregated result FINAL with removed meters.csv')"
   ]
  },
  {
   "cell_type": "code",
   "execution_count": 68,
   "metadata": {},
   "outputs": [],
   "source": [
    "output1 = output1.loc[~output1['meter'].isin(['BR35','BR36','BR49','BR13'])]"
   ]
  },
  {
   "cell_type": "code",
   "execution_count": null,
   "metadata": {},
   "outputs": [],
   "source": [
    "# daily logs"
   ]
  },
  {
   "cell_type": "code",
   "execution_count": 72,
   "metadata": {},
   "outputs": [
    {
     "data": {
      "text/plain": [
       "array(['MH24', 'MH27', 'MH33', 'MH36', 'MH18', 'MH22', 'MH23', 'MH43',\n",
       "       'MH45', 'BR51', 'MH02', 'MH07', 'MH10', 'MH14', 'BR24', 'BR31',\n",
       "       'BR38', 'BR45', 'BR06', 'BR07', 'BR08', 'BR11', 'BR12', 'BR18',\n",
       "       'BR22', 'BR23', 'MH21'], dtype=object)"
      ]
     },
     "execution_count": 72,
     "metadata": {},
     "output_type": "execute_result"
    }
   ],
   "source": [
    "output1['meter'].unique()"
   ]
  },
  {
   "cell_type": "code",
   "execution_count": null,
   "metadata": {},
   "outputs": [],
   "source": []
  }
 ],
 "metadata": {
  "kernelspec": {
   "display_name": "Python 3",
   "language": "python",
   "name": "python3"
  },
  "language_info": {
   "codemirror_mode": {
    "name": "ipython",
    "version": 3
   },
   "file_extension": ".py",
   "mimetype": "text/x-python",
   "name": "python",
   "nbconvert_exporter": "python",
   "pygments_lexer": "ipython3",
   "version": "3.7.6"
  }
 },
 "nbformat": 4,
 "nbformat_minor": 4
}
